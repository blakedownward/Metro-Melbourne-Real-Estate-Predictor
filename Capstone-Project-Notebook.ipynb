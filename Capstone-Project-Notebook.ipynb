{
 "cells": [
  {
   "cell_type": "markdown",
   "metadata": {},
   "source": [
    "# Introduction - Low Info Real Estate Price Estimator: Melbourne"
   ]
  },
  {
   "cell_type": "markdown",
   "metadata": {},
   "source": [
    "Home ownership is a goal that many Australians wish to achieve in their lifetime. Not only Australia, but all around the world - buying a home is quite often the largest financial committment a person will ever make. So it makes sense to try and  understand the market as best as possible before making any offers.\n",
    "\n",
    "Generally speaking, home buyers must rely on their own market knowledge and research to estimate home values. Information provided by the realtor tends to be biased towards a \"fast sale\", rather than what is in the best interest of the seller or buyer. In economics, this is what is known as an \"agency problem\" and it can be somewhat overcome by making more information available to both the buyer and seller.\n",
    "\n",
    "Typically, the information provided in a real estate listing is quite limited. This also limits ones ability to make an informed decision about property vaule. When comparing dozens or even hundreds of properties, this can become overwhelming.\n",
    "\n",
    "Imagine if there were a way for prospective home buyers to acurately predict the sale price of a property from just a handful of details. A tool to help buyers spot an underpriced bargain, and to help them avoid spendng time and resources researching overpriced properties. A tool that would help sellers know that they have 'priced' their property accordingly. Such a tool holds great intrinsic value for both buyers and sellers alike, and would surely have strong demand within any real estate market.\n",
    "\n",
    "\n",
    "### Aim\n",
    "\n",
    "The aim of this project is to employ machine learning to do the market research on behalf of both the buyers and the sellers in the real estate market.\n",
    "\n",
    "The input features for this model must be limited only to inputs which are readily available to the market (ie. easily found in a newspaper or online property listing). \n",
    "\n",
    "This research will provide the basis to understanding if an \"accurate\" prediction can be made from such a small set of inputs.\n",
    "\n",
    "As you will see, the winning model produced a mean prediction error of 15.5% in a short amount of time. This leaves plenty of scope for further improvements in accuracy, which is discussed further in the section titled \"Insights & Analysis\".\n",
    "\n",
    "### The Dataset\n",
    "\n",
    "The dataset used in this project is hosted by Kaggle \n",
    "\n",
    "Contains many types of data that are outside the scope or irrelevant to this project. For example, properties that didn't sell, properties which didn't disclose a price etc. This may introduce bias into our sample.\n",
    "\n",
    "Two datasets available, a FULL version, and a truncated version. Given the self-imposed input restrictions of this project, we want as much data as possibe. The FULL version contained more relevant features than the truncated version, so this is what was used for analysis.\n",
    "\n",
    "The five inputs are:\n",
    "* Property Address\n",
    "* Number of Bedrooms\n",
    "* Number of Bathrooms\n",
    "* Number of Car Spaces\n",
    "* Name of the Real Estate Agency\n",
    "\n",
    "From these five inputs, it is possible to derive the same features used in the final model. For example, from an input of \"Property Address\", we could derive the following features (found in the dataset); \"Suburb\", \"Distance\", \"Longtitude\" etc.\n",
    "\n"
   ]
  },
  {
   "cell_type": "markdown",
   "metadata": {},
   "source": [
    "## Library Imports"
   ]
  },
  {
   "cell_type": "markdown",
   "metadata": {},
   "source": [
    "Most people already understand the importance of a proper introduction to give visitors the proper context needed to understand the project. This is also where you should introduce the dataset and explain the challenge you're solving."
   ]
  },
  {
   "cell_type": "code",
   "execution_count": 1,
   "metadata": {
    "ExecuteTime": {
     "end_time": "2019-08-28T04:48:56.076791Z",
     "start_time": "2019-08-28T04:48:52.801871Z"
    }
   },
   "outputs": [],
   "source": [
    "# Pandas and Numpy\n",
    "import pandas as pd\n",
    "pd.set_option('display.max_columns', 100)\n",
    "pd.set_option('display.float_format', lambda x: '%.3f' % x)\n",
    "\n",
    "import numpy as np\n",
    "\n",
    "# Matplotlib\n",
    "from matplotlib import pyplot as plt\n",
    "%matplotlib inline\n",
    "\n",
    "# Seaborn and style\n",
    "import seaborn as sns\n",
    "sns.set_style('darkgrid')\n",
    "\n",
    "# Date and time\n",
    "import datetime\n",
    "\n",
    "# Pandas Profiling\n",
    "import pandas_profiling\n",
    "\n",
    "# Train, Test, Split\n",
    "from sklearn.model_selection import train_test_split\n",
    "\n",
    "# Standard Scaler\n",
    "from sklearn.preprocessing import StandardScaler\n",
    "\n",
    "# Label Encoder\n",
    "\n",
    "from sklearn.preprocessing import LabelEncoder\n",
    "\n",
    "# R^2 Score\n",
    "from sklearn.metrics import r2_score\n",
    "\n",
    "# GridsearchCV\n",
    "from sklearn.model_selection import GridSearchCV\n",
    "\n",
    "# Pipeline\n",
    "from sklearn.pipeline import make_pipeline\n",
    "\n",
    "# Mean Absolute Error\n",
    "from sklearn.metrics import mean_absolute_error\n",
    "\n",
    "# Linear regression\n",
    "from sklearn.linear_model import Lasso, Ridge, ElasticNet\n",
    "\n",
    "# Random Forest and Gradient Boosting Decision Trees\n",
    "from sklearn.ensemble import RandomForestRegressor, GradientBoostingRegressor\n"
   ]
  },
  {
   "cell_type": "code",
   "execution_count": 2,
   "metadata": {
    "ExecuteTime": {
     "end_time": "2019-08-28T04:48:56.306716Z",
     "start_time": "2019-08-28T04:48:56.081258Z"
    }
   },
   "outputs": [
    {
     "data": {
      "text/plain": [
       "(34857, 21)"
      ]
     },
     "execution_count": 2,
     "metadata": {},
     "output_type": "execute_result"
    }
   ],
   "source": [
    "# Bring in the dataset\n",
    "df = pd.read_csv('Melbourne_housing_FULL.csv')\n",
    "df.shape"
   ]
  },
  {
   "cell_type": "markdown",
   "metadata": {},
   "source": [
    "## Exploratory Analysis"
   ]
  },
  {
   "cell_type": "markdown",
   "metadata": {},
   "source": [
    "### Typically Available Inputs: Newspaper\n",
    "Browsing through a newspaper, a few features seem to be available for all properties listed:\n",
    "* Suburb\n",
    "* Address\n",
    "* Bedrooms\n",
    "* Bathrooms\n",
    "* Car Spaces\n",
    "* Real Estate Agency\n",
    "* Real Estate Agents Name\n",
    "\n",
    "Additional features which are listed on some, but not all property listings:\n",
    "* Property Area (Square Metres)\n",
    "* Property Type (Land, House, Apartment etc)\n",
    "* Additional features (eg. swimming pool, living areas, office etc)"
   ]
  },
  {
   "cell_type": "code",
   "execution_count": 3,
   "metadata": {
    "ExecuteTime": {
     "end_time": "2019-08-28T04:48:56.343145Z",
     "start_time": "2019-08-28T04:48:56.309838Z"
    }
   },
   "outputs": [
    {
     "data": {
      "text/html": [
       "<div>\n",
       "<style scoped>\n",
       "    .dataframe tbody tr th:only-of-type {\n",
       "        vertical-align: middle;\n",
       "    }\n",
       "\n",
       "    .dataframe tbody tr th {\n",
       "        vertical-align: top;\n",
       "    }\n",
       "\n",
       "    .dataframe thead th {\n",
       "        text-align: right;\n",
       "    }\n",
       "</style>\n",
       "<table border=\"1\" class=\"dataframe\">\n",
       "  <thead>\n",
       "    <tr style=\"text-align: right;\">\n",
       "      <th></th>\n",
       "      <th>Suburb</th>\n",
       "      <th>Address</th>\n",
       "      <th>Rooms</th>\n",
       "      <th>Type</th>\n",
       "      <th>Price</th>\n",
       "      <th>Method</th>\n",
       "      <th>SellerG</th>\n",
       "      <th>Date</th>\n",
       "      <th>Distance</th>\n",
       "      <th>Postcode</th>\n",
       "      <th>Bedroom2</th>\n",
       "      <th>Bathroom</th>\n",
       "      <th>Car</th>\n",
       "      <th>Landsize</th>\n",
       "      <th>BuildingArea</th>\n",
       "      <th>YearBuilt</th>\n",
       "      <th>CouncilArea</th>\n",
       "      <th>Lattitude</th>\n",
       "      <th>Longtitude</th>\n",
       "      <th>Regionname</th>\n",
       "      <th>Propertycount</th>\n",
       "    </tr>\n",
       "  </thead>\n",
       "  <tbody>\n",
       "    <tr>\n",
       "      <th>29527</th>\n",
       "      <td>Glen Iris</td>\n",
       "      <td>65 Renwick St</td>\n",
       "      <td>4</td>\n",
       "      <td>h</td>\n",
       "      <td>1735000.000</td>\n",
       "      <td>S</td>\n",
       "      <td>hockingstuart</td>\n",
       "      <td>6/01/2018</td>\n",
       "      <td>7.300</td>\n",
       "      <td>3146.000</td>\n",
       "      <td>4.000</td>\n",
       "      <td>3.000</td>\n",
       "      <td>2.000</td>\n",
       "      <td>361.000</td>\n",
       "      <td>nan</td>\n",
       "      <td>nan</td>\n",
       "      <td>Boroondara City Council</td>\n",
       "      <td>-37.851</td>\n",
       "      <td>145.068</td>\n",
       "      <td>Southern Metropolitan</td>\n",
       "      <td>10412.000</td>\n",
       "    </tr>\n",
       "    <tr>\n",
       "      <th>29458</th>\n",
       "      <td>Elwood</td>\n",
       "      <td>6/5 Joyce St</td>\n",
       "      <td>2</td>\n",
       "      <td>u</td>\n",
       "      <td>nan</td>\n",
       "      <td>PI</td>\n",
       "      <td>hockingstuart</td>\n",
       "      <td>6/01/2018</td>\n",
       "      <td>7.200</td>\n",
       "      <td>3184.000</td>\n",
       "      <td>nan</td>\n",
       "      <td>nan</td>\n",
       "      <td>nan</td>\n",
       "      <td>nan</td>\n",
       "      <td>nan</td>\n",
       "      <td>nan</td>\n",
       "      <td>Port Phillip City Council</td>\n",
       "      <td>nan</td>\n",
       "      <td>nan</td>\n",
       "      <td>Southern Metropolitan</td>\n",
       "      <td>8989.000</td>\n",
       "    </tr>\n",
       "    <tr>\n",
       "      <th>27961</th>\n",
       "      <td>Mernda</td>\n",
       "      <td>48 Galloway Dr</td>\n",
       "      <td>4</td>\n",
       "      <td>h</td>\n",
       "      <td>617500.000</td>\n",
       "      <td>S</td>\n",
       "      <td>HAR</td>\n",
       "      <td>18/11/2017</td>\n",
       "      <td>25.900</td>\n",
       "      <td>3754.000</td>\n",
       "      <td>nan</td>\n",
       "      <td>nan</td>\n",
       "      <td>nan</td>\n",
       "      <td>nan</td>\n",
       "      <td>nan</td>\n",
       "      <td>nan</td>\n",
       "      <td>Whittlesea City Council</td>\n",
       "      <td>nan</td>\n",
       "      <td>nan</td>\n",
       "      <td>Northern Metropolitan</td>\n",
       "      <td>5812.000</td>\n",
       "    </tr>\n",
       "    <tr>\n",
       "      <th>22931</th>\n",
       "      <td>Balwyn North</td>\n",
       "      <td>1 Hosken St</td>\n",
       "      <td>5</td>\n",
       "      <td>h</td>\n",
       "      <td>2800000.000</td>\n",
       "      <td>S</td>\n",
       "      <td>Marshall</td>\n",
       "      <td>26/08/2017</td>\n",
       "      <td>9.700</td>\n",
       "      <td>3104.000</td>\n",
       "      <td>5.000</td>\n",
       "      <td>2.000</td>\n",
       "      <td>2.000</td>\n",
       "      <td>1173.000</td>\n",
       "      <td>0.000</td>\n",
       "      <td>1960.000</td>\n",
       "      <td>Boroondara City Council</td>\n",
       "      <td>-37.804</td>\n",
       "      <td>145.091</td>\n",
       "      <td>Southern Metropolitan</td>\n",
       "      <td>7809.000</td>\n",
       "    </tr>\n",
       "    <tr>\n",
       "      <th>21122</th>\n",
       "      <td>Dandenong</td>\n",
       "      <td>3/21 Wilson St</td>\n",
       "      <td>2</td>\n",
       "      <td>u</td>\n",
       "      <td>nan</td>\n",
       "      <td>PI</td>\n",
       "      <td>O'Brien</td>\n",
       "      <td>16/09/2017</td>\n",
       "      <td>24.700</td>\n",
       "      <td>3175.000</td>\n",
       "      <td>2.000</td>\n",
       "      <td>1.000</td>\n",
       "      <td>1.000</td>\n",
       "      <td>nan</td>\n",
       "      <td>nan</td>\n",
       "      <td>2015.000</td>\n",
       "      <td>Greater Dandenong City Council</td>\n",
       "      <td>-37.990</td>\n",
       "      <td>145.220</td>\n",
       "      <td>South-Eastern Metropolitan</td>\n",
       "      <td>10894.000</td>\n",
       "    </tr>\n",
       "  </tbody>\n",
       "</table>\n",
       "</div>"
      ],
      "text/plain": [
       "             Suburb         Address  Rooms Type       Price Method  \\\n",
       "29527     Glen Iris   65 Renwick St      4    h 1735000.000      S   \n",
       "29458        Elwood    6/5 Joyce St      2    u         nan     PI   \n",
       "27961        Mernda  48 Galloway Dr      4    h  617500.000      S   \n",
       "22931  Balwyn North     1 Hosken St      5    h 2800000.000      S   \n",
       "21122     Dandenong  3/21 Wilson St      2    u         nan     PI   \n",
       "\n",
       "             SellerG        Date  Distance  Postcode  Bedroom2  Bathroom  \\\n",
       "29527  hockingstuart   6/01/2018     7.300  3146.000     4.000     3.000   \n",
       "29458  hockingstuart   6/01/2018     7.200  3184.000       nan       nan   \n",
       "27961            HAR  18/11/2017    25.900  3754.000       nan       nan   \n",
       "22931       Marshall  26/08/2017     9.700  3104.000     5.000     2.000   \n",
       "21122        O'Brien  16/09/2017    24.700  3175.000     2.000     1.000   \n",
       "\n",
       "        Car  Landsize  BuildingArea  YearBuilt  \\\n",
       "29527 2.000   361.000           nan        nan   \n",
       "29458   nan       nan           nan        nan   \n",
       "27961   nan       nan           nan        nan   \n",
       "22931 2.000  1173.000         0.000   1960.000   \n",
       "21122 1.000       nan           nan   2015.000   \n",
       "\n",
       "                          CouncilArea  Lattitude  Longtitude  \\\n",
       "29527         Boroondara City Council    -37.851     145.068   \n",
       "29458       Port Phillip City Council        nan         nan   \n",
       "27961         Whittlesea City Council        nan         nan   \n",
       "22931         Boroondara City Council    -37.804     145.091   \n",
       "21122  Greater Dandenong City Council    -37.990     145.220   \n",
       "\n",
       "                       Regionname  Propertycount  \n",
       "29527       Southern Metropolitan      10412.000  \n",
       "29458       Southern Metropolitan       8989.000  \n",
       "27961       Northern Metropolitan       5812.000  \n",
       "22931       Southern Metropolitan       7809.000  \n",
       "21122  South-Eastern Metropolitan      10894.000  "
      ]
     },
     "execution_count": 3,
     "metadata": {},
     "output_type": "execute_result"
    }
   ],
   "source": [
    "# Take a look at the df\n",
    "df.sample(5)"
   ]
  },
  {
   "cell_type": "code",
   "execution_count": 4,
   "metadata": {
    "ExecuteTime": {
     "end_time": "2019-08-28T04:48:56.356726Z",
     "start_time": "2019-08-28T04:48:56.347136Z"
    }
   },
   "outputs": [
    {
     "data": {
      "text/plain": [
       "Suburb            object\n",
       "Address           object\n",
       "Rooms              int64\n",
       "Type              object\n",
       "Price            float64\n",
       "Method            object\n",
       "SellerG           object\n",
       "Date              object\n",
       "Distance         float64\n",
       "Postcode         float64\n",
       "Bedroom2         float64\n",
       "Bathroom         float64\n",
       "Car              float64\n",
       "Landsize         float64\n",
       "BuildingArea     float64\n",
       "YearBuilt        float64\n",
       "CouncilArea       object\n",
       "Lattitude        float64\n",
       "Longtitude       float64\n",
       "Regionname        object\n",
       "Propertycount    float64\n",
       "dtype: object"
      ]
     },
     "execution_count": 4,
     "metadata": {},
     "output_type": "execute_result"
    }
   ],
   "source": [
    "# What datatypes are the features?\n",
    "df.dtypes"
   ]
  },
  {
   "cell_type": "markdown",
   "metadata": {},
   "source": [
    "#### ToDo List:\n",
    "* df.Method - Refine the dataset to only properties that sold (ie Method == S | SP | SA) - then drop df.Method\n",
    "* df.Postcode should be of the type \"object\"\n",
    "* df.Date should be set to \"dateandtime\" and have the months extracted.\n",
    "* df.Address has high cardinality, might be able to extract \"street_type\" or \"Street_name\" to get more use from the feature. Then drop it. (Might be best left for \"feature Engineering\")\n",
    "* df.BuildingArea and df.YearBuilt are not features that are readily available on a Real Estate listing, nor can they be easily determined from the available features. They should both be dropped from our model.\n",
    "* The remaining features Suburb, Rooms, Type, SellerG, Distance, Bedroom2, Bathroom, Car, Landsize, CouncilArea, Lattitude, Longtitude, Regionname and Propertycount should all remain as part of our analysis for the time being, as these features can easily be found or derived from the information provided on a property listing.\n",
    "* Once this cleaning has been done, will need to revisit \"data exploration\" to make sure everything looks OK."
   ]
  },
  {
   "cell_type": "markdown",
   "metadata": {},
   "source": [
    "## Data Cleaning"
   ]
  },
  {
   "cell_type": "code",
   "execution_count": 5,
   "metadata": {
    "ExecuteTime": {
     "end_time": "2019-08-28T04:48:56.407380Z",
     "start_time": "2019-08-28T04:48:56.357849Z"
    }
   },
   "outputs": [
    {
     "data": {
      "text/plain": [
       "array(['S', 'SP', 'SA'], dtype=object)"
      ]
     },
     "execution_count": 5,
     "metadata": {},
     "output_type": "execute_result"
    }
   ],
   "source": [
    "# Filter the df to only observations that sold, ie Method == 'S', 'SP', 'SA'\n",
    "df = df.drop(df[(df['Method'] != 'S') & (df['Method'] != 'SP') & (df['Method'] != 'SA') ].index)\n",
    "df.Method.unique()"
   ]
  },
  {
   "cell_type": "code",
   "execution_count": 6,
   "metadata": {
    "ExecuteTime": {
     "end_time": "2019-08-28T04:48:56.419462Z",
     "start_time": "2019-08-28T04:48:56.409683Z"
    }
   },
   "outputs": [],
   "source": [
    "cols_to_drop = ['Method']"
   ]
  },
  {
   "cell_type": "code",
   "execution_count": 7,
   "metadata": {
    "ExecuteTime": {
     "end_time": "2019-08-28T04:48:56.448805Z",
     "start_time": "2019-08-28T04:48:56.423295Z"
    }
   },
   "outputs": [],
   "source": [
    "# Change df.Postcode to an object\n",
    "df['Postcode'] = df.Postcode.astype(str)"
   ]
  },
  {
   "cell_type": "code",
   "execution_count": 8,
   "metadata": {
    "ExecuteTime": {
     "end_time": "2019-08-28T04:48:56.552227Z",
     "start_time": "2019-08-28T04:48:56.450928Z"
    }
   },
   "outputs": [
    {
     "data": {
      "text/plain": [
       "dtype('<M8[ns]')"
      ]
     },
     "execution_count": 8,
     "metadata": {},
     "output_type": "execute_result"
    }
   ],
   "source": [
    "# Change the format of df.Date\n",
    "df['Date'] = pd.to_datetime(df['Date'], format=\"%d/%m/%Y\")\n",
    "df['Date'].dtype"
   ]
  },
  {
   "cell_type": "code",
   "execution_count": 9,
   "metadata": {
    "ExecuteTime": {
     "end_time": "2019-08-28T04:48:56.565163Z",
     "start_time": "2019-08-28T04:48:56.557642Z"
    }
   },
   "outputs": [],
   "source": [
    "# Create 2 new features from df.Date - Month and Year *** Dropped 'Year' because it might confuse the model \n",
    "df['Month'] = df['Date'].dt.month\n",
    "#df['Year'] = df['Date'].dt.year"
   ]
  },
  {
   "cell_type": "code",
   "execution_count": 10,
   "metadata": {
    "ExecuteTime": {
     "end_time": "2019-08-28T04:48:56.572612Z",
     "start_time": "2019-08-28T04:48:56.568362Z"
    }
   },
   "outputs": [],
   "source": [
    "cols_to_drop = cols_to_drop + ['Date', 'BuildingArea', 'YearBuilt']"
   ]
  },
  {
   "cell_type": "code",
   "execution_count": 11,
   "metadata": {
    "ExecuteTime": {
     "end_time": "2019-08-28T04:48:56.599508Z",
     "start_time": "2019-08-28T04:48:56.574707Z"
    }
   },
   "outputs": [
    {
     "data": {
      "text/plain": [
       "['Method', 'Date', 'BuildingArea', 'YearBuilt']"
      ]
     },
     "execution_count": 11,
     "metadata": {},
     "output_type": "execute_result"
    }
   ],
   "source": [
    "cols_to_drop"
   ]
  },
  {
   "cell_type": "markdown",
   "metadata": {},
   "source": [
    "### Exploratory Analysis Part 2"
   ]
  },
  {
   "cell_type": "code",
   "execution_count": 12,
   "metadata": {
    "ExecuteTime": {
     "end_time": "2019-08-28T04:48:56.633224Z",
     "start_time": "2019-08-28T04:48:56.601502Z"
    }
   },
   "outputs": [
    {
     "data": {
      "text/html": [
       "<div>\n",
       "<style scoped>\n",
       "    .dataframe tbody tr th:only-of-type {\n",
       "        vertical-align: middle;\n",
       "    }\n",
       "\n",
       "    .dataframe tbody tr th {\n",
       "        vertical-align: top;\n",
       "    }\n",
       "\n",
       "    .dataframe thead th {\n",
       "        text-align: right;\n",
       "    }\n",
       "</style>\n",
       "<table border=\"1\" class=\"dataframe\">\n",
       "  <thead>\n",
       "    <tr style=\"text-align: right;\">\n",
       "      <th></th>\n",
       "      <th>Suburb</th>\n",
       "      <th>Address</th>\n",
       "      <th>Rooms</th>\n",
       "      <th>Type</th>\n",
       "      <th>Price</th>\n",
       "      <th>Method</th>\n",
       "      <th>SellerG</th>\n",
       "      <th>Date</th>\n",
       "      <th>Distance</th>\n",
       "      <th>Postcode</th>\n",
       "      <th>Bedroom2</th>\n",
       "      <th>Bathroom</th>\n",
       "      <th>Car</th>\n",
       "      <th>Landsize</th>\n",
       "      <th>BuildingArea</th>\n",
       "      <th>YearBuilt</th>\n",
       "      <th>CouncilArea</th>\n",
       "      <th>Lattitude</th>\n",
       "      <th>Longtitude</th>\n",
       "      <th>Regionname</th>\n",
       "      <th>Propertycount</th>\n",
       "      <th>Month</th>\n",
       "    </tr>\n",
       "  </thead>\n",
       "  <tbody>\n",
       "    <tr>\n",
       "      <th>23034</th>\n",
       "      <td>Camberwell</td>\n",
       "      <td>35 Bellett St</td>\n",
       "      <td>3</td>\n",
       "      <td>h</td>\n",
       "      <td>1855000.000</td>\n",
       "      <td>S</td>\n",
       "      <td>Fletchers</td>\n",
       "      <td>2017-08-26</td>\n",
       "      <td>7.700</td>\n",
       "      <td>3124.0</td>\n",
       "      <td>3.000</td>\n",
       "      <td>2.000</td>\n",
       "      <td>2.000</td>\n",
       "      <td>nan</td>\n",
       "      <td>149.000</td>\n",
       "      <td>1998.000</td>\n",
       "      <td>Boroondara City Council</td>\n",
       "      <td>-37.836</td>\n",
       "      <td>145.066</td>\n",
       "      <td>Southern Metropolitan</td>\n",
       "      <td>8920.000</td>\n",
       "      <td>8</td>\n",
       "    </tr>\n",
       "    <tr>\n",
       "      <th>24669</th>\n",
       "      <td>Richmond</td>\n",
       "      <td>13/200 Brighton St</td>\n",
       "      <td>2</td>\n",
       "      <td>u</td>\n",
       "      <td>736000.000</td>\n",
       "      <td>SP</td>\n",
       "      <td>Biggin</td>\n",
       "      <td>2017-10-14</td>\n",
       "      <td>2.400</td>\n",
       "      <td>3121.0</td>\n",
       "      <td>nan</td>\n",
       "      <td>nan</td>\n",
       "      <td>nan</td>\n",
       "      <td>nan</td>\n",
       "      <td>nan</td>\n",
       "      <td>nan</td>\n",
       "      <td>Yarra City Council</td>\n",
       "      <td>nan</td>\n",
       "      <td>nan</td>\n",
       "      <td>Northern Metropolitan</td>\n",
       "      <td>14949.000</td>\n",
       "      <td>10</td>\n",
       "    </tr>\n",
       "    <tr>\n",
       "      <th>26906</th>\n",
       "      <td>Chelsea</td>\n",
       "      <td>13 The Strand</td>\n",
       "      <td>2</td>\n",
       "      <td>h</td>\n",
       "      <td>1080000.000</td>\n",
       "      <td>SP</td>\n",
       "      <td>Ray</td>\n",
       "      <td>2017-11-11</td>\n",
       "      <td>27.000</td>\n",
       "      <td>3196.0</td>\n",
       "      <td>2.000</td>\n",
       "      <td>1.000</td>\n",
       "      <td>2.000</td>\n",
       "      <td>nan</td>\n",
       "      <td>nan</td>\n",
       "      <td>nan</td>\n",
       "      <td>Kingston City Council</td>\n",
       "      <td>-38.053</td>\n",
       "      <td>145.114</td>\n",
       "      <td>South-Eastern Metropolitan</td>\n",
       "      <td>3906.000</td>\n",
       "      <td>11</td>\n",
       "    </tr>\n",
       "    <tr>\n",
       "      <th>34207</th>\n",
       "      <td>Elwood</td>\n",
       "      <td>68 Milton St</td>\n",
       "      <td>4</td>\n",
       "      <td>h</td>\n",
       "      <td>nan</td>\n",
       "      <td>SP</td>\n",
       "      <td>Chisholm</td>\n",
       "      <td>2018-02-24</td>\n",
       "      <td>7.200</td>\n",
       "      <td>3184.0</td>\n",
       "      <td>4.000</td>\n",
       "      <td>3.000</td>\n",
       "      <td>2.000</td>\n",
       "      <td>490.000</td>\n",
       "      <td>nan</td>\n",
       "      <td>nan</td>\n",
       "      <td>Port Phillip City Council</td>\n",
       "      <td>-37.876</td>\n",
       "      <td>144.983</td>\n",
       "      <td>Southern Metropolitan</td>\n",
       "      <td>8989.000</td>\n",
       "      <td>2</td>\n",
       "    </tr>\n",
       "    <tr>\n",
       "      <th>21133</th>\n",
       "      <td>Diamond Creek</td>\n",
       "      <td>6 Ormonde Ct</td>\n",
       "      <td>4</td>\n",
       "      <td>h</td>\n",
       "      <td>nan</td>\n",
       "      <td>SP</td>\n",
       "      <td>Buckingham</td>\n",
       "      <td>2017-09-16</td>\n",
       "      <td>21.800</td>\n",
       "      <td>3089.0</td>\n",
       "      <td>4.000</td>\n",
       "      <td>2.000</td>\n",
       "      <td>4.000</td>\n",
       "      <td>744.000</td>\n",
       "      <td>nan</td>\n",
       "      <td>nan</td>\n",
       "      <td>Nillumbik Shire Council</td>\n",
       "      <td>-37.686</td>\n",
       "      <td>145.150</td>\n",
       "      <td>Northern Victoria</td>\n",
       "      <td>4258.000</td>\n",
       "      <td>9</td>\n",
       "    </tr>\n",
       "  </tbody>\n",
       "</table>\n",
       "</div>"
      ],
      "text/plain": [
       "              Suburb             Address  Rooms Type       Price Method  \\\n",
       "23034     Camberwell       35 Bellett St      3    h 1855000.000      S   \n",
       "24669       Richmond  13/200 Brighton St      2    u  736000.000     SP   \n",
       "26906        Chelsea       13 The Strand      2    h 1080000.000     SP   \n",
       "34207         Elwood        68 Milton St      4    h         nan     SP   \n",
       "21133  Diamond Creek        6 Ormonde Ct      4    h         nan     SP   \n",
       "\n",
       "          SellerG       Date  Distance Postcode  Bedroom2  Bathroom   Car  \\\n",
       "23034   Fletchers 2017-08-26     7.700   3124.0     3.000     2.000 2.000   \n",
       "24669      Biggin 2017-10-14     2.400   3121.0       nan       nan   nan   \n",
       "26906         Ray 2017-11-11    27.000   3196.0     2.000     1.000 2.000   \n",
       "34207    Chisholm 2018-02-24     7.200   3184.0     4.000     3.000 2.000   \n",
       "21133  Buckingham 2017-09-16    21.800   3089.0     4.000     2.000 4.000   \n",
       "\n",
       "       Landsize  BuildingArea  YearBuilt                CouncilArea  \\\n",
       "23034       nan       149.000   1998.000    Boroondara City Council   \n",
       "24669       nan           nan        nan         Yarra City Council   \n",
       "26906       nan           nan        nan      Kingston City Council   \n",
       "34207   490.000           nan        nan  Port Phillip City Council   \n",
       "21133   744.000           nan        nan    Nillumbik Shire Council   \n",
       "\n",
       "       Lattitude  Longtitude                  Regionname  Propertycount  Month  \n",
       "23034    -37.836     145.066       Southern Metropolitan       8920.000      8  \n",
       "24669        nan         nan       Northern Metropolitan      14949.000     10  \n",
       "26906    -38.053     145.114  South-Eastern Metropolitan       3906.000     11  \n",
       "34207    -37.876     144.983       Southern Metropolitan       8989.000      2  \n",
       "21133    -37.686     145.150           Northern Victoria       4258.000      9  "
      ]
     },
     "execution_count": 12,
     "metadata": {},
     "output_type": "execute_result"
    }
   ],
   "source": [
    "# Eyeball the DF to see if everything looks OK\n",
    "df.sample(5)"
   ]
  },
  {
   "cell_type": "code",
   "execution_count": 13,
   "metadata": {
    "ExecuteTime": {
     "end_time": "2019-08-28T04:48:56.648056Z",
     "start_time": "2019-08-28T04:48:56.635988Z"
    }
   },
   "outputs": [
    {
     "data": {
      "text/plain": [
       "Suburb                   object\n",
       "Address                  object\n",
       "Rooms                     int64\n",
       "Type                     object\n",
       "Price                   float64\n",
       "Method                   object\n",
       "SellerG                  object\n",
       "Date             datetime64[ns]\n",
       "Distance                float64\n",
       "Postcode                 object\n",
       "Bedroom2                float64\n",
       "Bathroom                float64\n",
       "Car                     float64\n",
       "Landsize                float64\n",
       "BuildingArea            float64\n",
       "YearBuilt               float64\n",
       "CouncilArea              object\n",
       "Lattitude               float64\n",
       "Longtitude              float64\n",
       "Regionname               object\n",
       "Propertycount           float64\n",
       "Month                     int64\n",
       "dtype: object"
      ]
     },
     "execution_count": 13,
     "metadata": {},
     "output_type": "execute_result"
    }
   ],
   "source": [
    "# Double check changes have taken place, any more changes required? Month and Year should be of the 'object' type.\n",
    "df.dtypes"
   ]
  },
  {
   "cell_type": "code",
   "execution_count": 14,
   "metadata": {
    "ExecuteTime": {
     "end_time": "2019-08-28T04:48:56.684898Z",
     "start_time": "2019-08-28T04:48:56.648056Z"
    }
   },
   "outputs": [],
   "source": [
    "# Change df.Month and df.Year to objects\n",
    "df['Month'] = df.Month.astype(str)\n",
    "#df['Year'] = df.Year.astype(str)"
   ]
  },
  {
   "cell_type": "code",
   "execution_count": 15,
   "metadata": {
    "ExecuteTime": {
     "end_time": "2019-08-28T04:48:56.691149Z",
     "start_time": "2019-08-28T04:48:56.687050Z"
    }
   },
   "outputs": [],
   "source": [
    "# Now that everything has been formatted, it's time to see a comprehensive analysis of the dataset\n",
    "#pandas_profiling.ProfileReport(df)"
   ]
  },
  {
   "cell_type": "markdown",
   "metadata": {},
   "source": [
    "### ToDo List:\n",
    "* Instead of Month, try \"Season\" instead.\n",
    "* Target variable \"Price\" has quite a few missing observations, should drop these\n",
    "* Might also like to restrict the target to \"Properties under $2.5 million\" "
   ]
  },
  {
   "cell_type": "code",
   "execution_count": 16,
   "metadata": {
    "ExecuteTime": {
     "end_time": "2019-08-28T04:48:56.719293Z",
     "start_time": "2019-08-28T04:48:56.693366Z"
    }
   },
   "outputs": [],
   "source": [
    "# Create a new feature/column for Season by copying the 'Month' column\n",
    "df['Season'] = df.Month.copy()"
   ]
  },
  {
   "cell_type": "code",
   "execution_count": 17,
   "metadata": {
    "ExecuteTime": {
     "end_time": "2019-08-28T04:48:56.748271Z",
     "start_time": "2019-08-28T04:48:56.722503Z"
    }
   },
   "outputs": [
    {
     "data": {
      "text/plain": [
       "array(['Summer', 'Autumn', 'Winter', 'Spring'], dtype=object)"
      ]
     },
     "execution_count": 17,
     "metadata": {},
     "output_type": "execute_result"
    }
   ],
   "source": [
    "# Replace the numerical month with it's corresponding season\n",
    "df.Season.replace(['12', '1', '2'], 'Summer', inplace=True)\n",
    "df.Season.replace(['3', '4', '5'], 'Autumn', inplace=True)\n",
    "df.Season.replace(['6', '7', '8'], 'Winter', inplace=True)\n",
    "df.Season.replace(['9', '10', '11'], 'Spring', inplace=True)\n",
    "\n",
    "df.Season.unique()"
   ]
  },
  {
   "cell_type": "code",
   "execution_count": 18,
   "metadata": {
    "ExecuteTime": {
     "end_time": "2019-08-28T04:48:57.096583Z",
     "start_time": "2019-08-28T04:48:56.750408Z"
    }
   },
   "outputs": [
    {
     "data": {
      "image/png": "[encoded data removed]",
      "text/plain": [
       "<Figure size 432x288 with 1 Axes>"
      ]
     },
     "metadata": {
      "needs_background": "light"
     },
     "output_type": "display_data"
    }
   ],
   "source": [
    "sns.countplot(y='Season', data=df)\n",
    "plt.show()"
   ]
  },
  {
   "cell_type": "code",
   "execution_count": 19,
   "metadata": {
    "ExecuteTime": {
     "end_time": "2019-08-28T04:48:57.131284Z",
     "start_time": "2019-08-28T04:48:57.097580Z"
    }
   },
   "outputs": [],
   "source": [
    "# Drop the missing Price observations\n",
    "df = df[df['Price'].notnull()]"
   ]
  },
  {
   "cell_type": "code",
   "execution_count": 20,
   "metadata": {
    "ExecuteTime": {
     "end_time": "2019-08-28T04:48:57.138142Z",
     "start_time": "2019-08-28T04:48:57.134277Z"
    }
   },
   "outputs": [],
   "source": [
    "#pandas_profiling.ProfileReport(df)"
   ]
  },
  {
   "cell_type": "code",
   "execution_count": 21,
   "metadata": {
    "ExecuteTime": {
     "end_time": "2019-08-28T04:48:57.174482Z",
     "start_time": "2019-08-28T04:48:57.138142Z"
    }
   },
   "outputs": [
    {
     "data": {
      "text/html": [
       "<div>\n",
       "<style scoped>\n",
       "    .dataframe tbody tr th:only-of-type {\n",
       "        vertical-align: middle;\n",
       "    }\n",
       "\n",
       "    .dataframe tbody tr th {\n",
       "        vertical-align: top;\n",
       "    }\n",
       "\n",
       "    .dataframe thead th {\n",
       "        text-align: right;\n",
       "    }\n",
       "</style>\n",
       "<table border=\"1\" class=\"dataframe\">\n",
       "  <thead>\n",
       "    <tr style=\"text-align: right;\">\n",
       "      <th></th>\n",
       "      <th>Suburb</th>\n",
       "      <th>Address</th>\n",
       "      <th>Rooms</th>\n",
       "      <th>Type</th>\n",
       "      <th>Price</th>\n",
       "      <th>Method</th>\n",
       "      <th>SellerG</th>\n",
       "      <th>Date</th>\n",
       "      <th>Distance</th>\n",
       "      <th>Postcode</th>\n",
       "      <th>Bedroom2</th>\n",
       "      <th>Bathroom</th>\n",
       "      <th>Car</th>\n",
       "      <th>Landsize</th>\n",
       "      <th>BuildingArea</th>\n",
       "      <th>YearBuilt</th>\n",
       "      <th>CouncilArea</th>\n",
       "      <th>Lattitude</th>\n",
       "      <th>Longtitude</th>\n",
       "      <th>Regionname</th>\n",
       "      <th>Propertycount</th>\n",
       "      <th>Month</th>\n",
       "      <th>Season</th>\n",
       "    </tr>\n",
       "  </thead>\n",
       "  <tbody>\n",
       "    <tr>\n",
       "      <th>14581</th>\n",
       "      <td>Reservoir</td>\n",
       "      <td>78 McMahon Rd</td>\n",
       "      <td>4</td>\n",
       "      <td>h</td>\n",
       "      <td>902000.000</td>\n",
       "      <td>S</td>\n",
       "      <td>Barry</td>\n",
       "      <td>2017-07-01</td>\n",
       "      <td>12.000</td>\n",
       "      <td>3073.0</td>\n",
       "      <td>4.000</td>\n",
       "      <td>2.000</td>\n",
       "      <td>3.000</td>\n",
       "      <td>700.000</td>\n",
       "      <td>nan</td>\n",
       "      <td>nan</td>\n",
       "      <td>Darebin City Council</td>\n",
       "      <td>-37.711</td>\n",
       "      <td>145.018</td>\n",
       "      <td>Northern Metropolitan</td>\n",
       "      <td>21650.000</td>\n",
       "      <td>7</td>\n",
       "      <td>Winter</td>\n",
       "    </tr>\n",
       "    <tr>\n",
       "      <th>6315</th>\n",
       "      <td>Malvern</td>\n",
       "      <td>8/236 Wattletree Rd</td>\n",
       "      <td>1</td>\n",
       "      <td>u</td>\n",
       "      <td>405000.000</td>\n",
       "      <td>S</td>\n",
       "      <td>Marshall</td>\n",
       "      <td>2016-06-27</td>\n",
       "      <td>7.400</td>\n",
       "      <td>3144.0</td>\n",
       "      <td>1.000</td>\n",
       "      <td>1.000</td>\n",
       "      <td>1.000</td>\n",
       "      <td>0.000</td>\n",
       "      <td>nan</td>\n",
       "      <td>nan</td>\n",
       "      <td>Stonnington City Council</td>\n",
       "      <td>-37.864</td>\n",
       "      <td>145.037</td>\n",
       "      <td>Southern Metropolitan</td>\n",
       "      <td>4675.000</td>\n",
       "      <td>6</td>\n",
       "      <td>Winter</td>\n",
       "    </tr>\n",
       "    <tr>\n",
       "      <th>12017</th>\n",
       "      <td>South Kingsville</td>\n",
       "      <td>2/3 New St</td>\n",
       "      <td>2</td>\n",
       "      <td>h</td>\n",
       "      <td>420000.000</td>\n",
       "      <td>SP</td>\n",
       "      <td>Jas</td>\n",
       "      <td>2016-07-26</td>\n",
       "      <td>9.100</td>\n",
       "      <td>3015.0</td>\n",
       "      <td>2.000</td>\n",
       "      <td>1.000</td>\n",
       "      <td>1.000</td>\n",
       "      <td>78.000</td>\n",
       "      <td>130.000</td>\n",
       "      <td>1980.000</td>\n",
       "      <td>Hobsons Bay City Council</td>\n",
       "      <td>-37.826</td>\n",
       "      <td>144.868</td>\n",
       "      <td>Western Metropolitan</td>\n",
       "      <td>984.000</td>\n",
       "      <td>7</td>\n",
       "      <td>Winter</td>\n",
       "    </tr>\n",
       "    <tr>\n",
       "      <th>18752</th>\n",
       "      <td>Taylors Lakes</td>\n",
       "      <td>1 Cowes Pl</td>\n",
       "      <td>4</td>\n",
       "      <td>h</td>\n",
       "      <td>853000.000</td>\n",
       "      <td>S</td>\n",
       "      <td>Barry</td>\n",
       "      <td>2017-07-15</td>\n",
       "      <td>15.500</td>\n",
       "      <td>3038.0</td>\n",
       "      <td>4.000</td>\n",
       "      <td>3.000</td>\n",
       "      <td>2.000</td>\n",
       "      <td>724.000</td>\n",
       "      <td>330.000</td>\n",
       "      <td>1990.000</td>\n",
       "      <td>Brimbank City Council</td>\n",
       "      <td>-37.709</td>\n",
       "      <td>144.787</td>\n",
       "      <td>Western Metropolitan</td>\n",
       "      <td>5336.000</td>\n",
       "      <td>7</td>\n",
       "      <td>Winter</td>\n",
       "    </tr>\n",
       "    <tr>\n",
       "      <th>12415</th>\n",
       "      <td>Brunswick East</td>\n",
       "      <td>164 Blyth St</td>\n",
       "      <td>4</td>\n",
       "      <td>h</td>\n",
       "      <td>1310000.000</td>\n",
       "      <td>S</td>\n",
       "      <td>Jellis</td>\n",
       "      <td>2017-04-08</td>\n",
       "      <td>4.500</td>\n",
       "      <td>3057.0</td>\n",
       "      <td>4.000</td>\n",
       "      <td>1.000</td>\n",
       "      <td>2.000</td>\n",
       "      <td>449.000</td>\n",
       "      <td>159.000</td>\n",
       "      <td>1930.000</td>\n",
       "      <td>Moreland City Council</td>\n",
       "      <td>-37.767</td>\n",
       "      <td>144.976</td>\n",
       "      <td>Northern Metropolitan</td>\n",
       "      <td>5533.000</td>\n",
       "      <td>4</td>\n",
       "      <td>Autumn</td>\n",
       "    </tr>\n",
       "    <tr>\n",
       "      <th>11422</th>\n",
       "      <td>Hawthorn East</td>\n",
       "      <td>4/43 Clifton Rd</td>\n",
       "      <td>2</td>\n",
       "      <td>u</td>\n",
       "      <td>706000.000</td>\n",
       "      <td>S</td>\n",
       "      <td>hockingstuart</td>\n",
       "      <td>2016-08-22</td>\n",
       "      <td>7.500</td>\n",
       "      <td>3123.0</td>\n",
       "      <td>2.000</td>\n",
       "      <td>1.000</td>\n",
       "      <td>1.000</td>\n",
       "      <td>172.000</td>\n",
       "      <td>90.000</td>\n",
       "      <td>1960.000</td>\n",
       "      <td>Boroondara City Council</td>\n",
       "      <td>-37.844</td>\n",
       "      <td>145.054</td>\n",
       "      <td>Southern Metropolitan</td>\n",
       "      <td>6482.000</td>\n",
       "      <td>8</td>\n",
       "      <td>Winter</td>\n",
       "    </tr>\n",
       "    <tr>\n",
       "      <th>8822</th>\n",
       "      <td>Richmond</td>\n",
       "      <td>27 Glass St</td>\n",
       "      <td>3</td>\n",
       "      <td>h</td>\n",
       "      <td>1115000.000</td>\n",
       "      <td>S</td>\n",
       "      <td>Whiting</td>\n",
       "      <td>2016-05-14</td>\n",
       "      <td>2.600</td>\n",
       "      <td>3121.0</td>\n",
       "      <td>3.000</td>\n",
       "      <td>2.000</td>\n",
       "      <td>2.000</td>\n",
       "      <td>129.000</td>\n",
       "      <td>120.000</td>\n",
       "      <td>1980.000</td>\n",
       "      <td>Yarra City Council</td>\n",
       "      <td>-37.824</td>\n",
       "      <td>145.005</td>\n",
       "      <td>Northern Metropolitan</td>\n",
       "      <td>14949.000</td>\n",
       "      <td>5</td>\n",
       "      <td>Autumn</td>\n",
       "    </tr>\n",
       "  </tbody>\n",
       "</table>\n",
       "</div>"
      ],
      "text/plain": [
       "                 Suburb              Address  Rooms Type       Price Method  \\\n",
       "14581         Reservoir        78 McMahon Rd      4    h  902000.000      S   \n",
       "6315            Malvern  8/236 Wattletree Rd      1    u  405000.000      S   \n",
       "12017  South Kingsville           2/3 New St      2    h  420000.000     SP   \n",
       "18752     Taylors Lakes           1 Cowes Pl      4    h  853000.000      S   \n",
       "12415    Brunswick East         164 Blyth St      4    h 1310000.000      S   \n",
       "11422     Hawthorn East      4/43 Clifton Rd      2    u  706000.000      S   \n",
       "8822           Richmond          27 Glass St      3    h 1115000.000      S   \n",
       "\n",
       "             SellerG       Date  Distance Postcode  Bedroom2  Bathroom   Car  \\\n",
       "14581          Barry 2017-07-01    12.000   3073.0     4.000     2.000 3.000   \n",
       "6315        Marshall 2016-06-27     7.400   3144.0     1.000     1.000 1.000   \n",
       "12017            Jas 2016-07-26     9.100   3015.0     2.000     1.000 1.000   \n",
       "18752          Barry 2017-07-15    15.500   3038.0     4.000     3.000 2.000   \n",
       "12415         Jellis 2017-04-08     4.500   3057.0     4.000     1.000 2.000   \n",
       "11422  hockingstuart 2016-08-22     7.500   3123.0     2.000     1.000 1.000   \n",
       "8822         Whiting 2016-05-14     2.600   3121.0     3.000     2.000 2.000   \n",
       "\n",
       "       Landsize  BuildingArea  YearBuilt               CouncilArea  Lattitude  \\\n",
       "14581   700.000           nan        nan      Darebin City Council    -37.711   \n",
       "6315      0.000           nan        nan  Stonnington City Council    -37.864   \n",
       "12017    78.000       130.000   1980.000  Hobsons Bay City Council    -37.826   \n",
       "18752   724.000       330.000   1990.000     Brimbank City Council    -37.709   \n",
       "12415   449.000       159.000   1930.000     Moreland City Council    -37.767   \n",
       "11422   172.000        90.000   1960.000   Boroondara City Council    -37.844   \n",
       "8822    129.000       120.000   1980.000        Yarra City Council    -37.824   \n",
       "\n",
       "       Longtitude             Regionname  Propertycount Month  Season  \n",
       "14581     145.018  Northern Metropolitan      21650.000     7  Winter  \n",
       "6315      145.037  Southern Metropolitan       4675.000     6  Winter  \n",
       "12017     144.868   Western Metropolitan        984.000     7  Winter  \n",
       "18752     144.787   Western Metropolitan       5336.000     7  Winter  \n",
       "12415     144.976  Northern Metropolitan       5533.000     4  Autumn  \n",
       "11422     145.054  Southern Metropolitan       6482.000     8  Winter  \n",
       "8822      145.005  Northern Metropolitan      14949.000     5  Autumn  "
      ]
     },
     "execution_count": 21,
     "metadata": {},
     "output_type": "execute_result"
    }
   ],
   "source": [
    "df.sample(7)"
   ]
  },
  {
   "cell_type": "code",
   "execution_count": 22,
   "metadata": {
    "ExecuteTime": {
     "end_time": "2019-08-28T04:48:57.222967Z",
     "start_time": "2019-08-28T04:48:57.179409Z"
    }
   },
   "outputs": [
    {
     "data": {
      "text/plain": [
       "Suburb               0\n",
       "Address              0\n",
       "Rooms                0\n",
       "Type                 0\n",
       "Price                0\n",
       "Method               0\n",
       "SellerG              0\n",
       "Date                 0\n",
       "Distance             1\n",
       "Postcode             0\n",
       "Bedroom2          4927\n",
       "Bathroom          4933\n",
       "Car               5202\n",
       "Landsize          7163\n",
       "BuildingArea     12949\n",
       "YearBuilt        11864\n",
       "CouncilArea          2\n",
       "Lattitude         4788\n",
       "Longtitude        4788\n",
       "Regionname           2\n",
       "Propertycount        2\n",
       "Month                0\n",
       "Season               0\n",
       "dtype: int64"
      ]
     },
     "execution_count": 22,
     "metadata": {},
     "output_type": "execute_result"
    }
   ],
   "source": [
    "df.isnull().sum()"
   ]
  },
  {
   "cell_type": "code",
   "execution_count": 23,
   "metadata": {
    "ExecuteTime": {
     "end_time": "2019-08-28T04:48:57.239872Z",
     "start_time": "2019-08-28T04:48:57.223965Z"
    }
   },
   "outputs": [],
   "source": [
    "# Drop the missing CouncilArea observations\n",
    "df = df[df['CouncilArea'].notnull()]\n"
   ]
  },
  {
   "cell_type": "code",
   "execution_count": 24,
   "metadata": {
    "ExecuteTime": {
     "end_time": "2019-08-28T04:48:57.299598Z",
     "start_time": "2019-08-28T04:48:57.243479Z"
    }
   },
   "outputs": [],
   "source": [
    "# Just in case there are duplicates in the df\n",
    "df = df.drop_duplicates()\n"
   ]
  },
  {
   "cell_type": "code",
   "execution_count": 25,
   "metadata": {
    "ExecuteTime": {
     "end_time": "2019-08-28T04:48:57.311775Z",
     "start_time": "2019-08-28T04:48:57.300594Z"
    }
   },
   "outputs": [],
   "source": [
    "# Bedroom2, Bathroom and Car need to have their missing values flagged\n",
    "df['Bedroom2_Missing'] = df.Bedroom2.isnull().astype(int)\n",
    "df['Bathroom_Missing'] = df.Bathroom.isnull().astype(int)\n",
    "df['Car_Missing'] = df.Car.isnull().astype(int)"
   ]
  },
  {
   "cell_type": "code",
   "execution_count": 26,
   "metadata": {
    "ExecuteTime": {
     "end_time": "2019-08-28T04:48:57.341104Z",
     "start_time": "2019-08-28T04:48:57.313772Z"
    }
   },
   "outputs": [
    {
     "data": {
      "text/plain": [
       "Suburb                  0\n",
       "Address                 0\n",
       "Rooms                   0\n",
       "Type                    0\n",
       "Price                   0\n",
       "Method                  0\n",
       "SellerG                 0\n",
       "Date                    0\n",
       "Distance                0\n",
       "Postcode                0\n",
       "Bedroom2             4925\n",
       "Bathroom             4931\n",
       "Car                  5200\n",
       "Landsize             7161\n",
       "BuildingArea        12947\n",
       "YearBuilt           11862\n",
       "CouncilArea             0\n",
       "Lattitude            4786\n",
       "Longtitude           4786\n",
       "Regionname              0\n",
       "Propertycount           0\n",
       "Month                   0\n",
       "Season                  0\n",
       "Bedroom2_Missing        0\n",
       "Bathroom_Missing        0\n",
       "Car_Missing             0\n",
       "dtype: int64"
      ]
     },
     "execution_count": 26,
     "metadata": {},
     "output_type": "execute_result"
    }
   ],
   "source": [
    "df.isnull().sum()"
   ]
  },
  {
   "cell_type": "code",
   "execution_count": 27,
   "metadata": {
    "ExecuteTime": {
     "end_time": "2019-08-28T04:48:57.353095Z",
     "start_time": "2019-08-28T04:48:57.344530Z"
    }
   },
   "outputs": [],
   "source": [
    "# Bedroom2 is highly correlated with Rooms, so fill missing values with corresponding \"Rooms\" value.\n",
    "df.Bedroom2.fillna(df['Rooms'], inplace=True)"
   ]
  },
  {
   "cell_type": "code",
   "execution_count": 28,
   "metadata": {
    "ExecuteTime": {
     "end_time": "2019-08-28T04:48:57.373871Z",
     "start_time": "2019-08-28T04:48:57.358479Z"
    }
   },
   "outputs": [],
   "source": [
    "# Bathroom is more likely to be 1 compared to a zero\n",
    "df.Bathroom.fillna(1, inplace=True)"
   ]
  },
  {
   "cell_type": "code",
   "execution_count": 29,
   "metadata": {
    "ExecuteTime": {
     "end_time": "2019-08-28T04:48:57.407398Z",
     "start_time": "2019-08-28T04:48:57.375660Z"
    }
   },
   "outputs": [
    {
     "data": {
      "text/html": [
       "<div>\n",
       "<style scoped>\n",
       "    .dataframe tbody tr th:only-of-type {\n",
       "        vertical-align: middle;\n",
       "    }\n",
       "\n",
       "    .dataframe tbody tr th {\n",
       "        vertical-align: top;\n",
       "    }\n",
       "\n",
       "    .dataframe thead th {\n",
       "        text-align: right;\n",
       "    }\n",
       "</style>\n",
       "<table border=\"1\" class=\"dataframe\">\n",
       "  <thead>\n",
       "    <tr style=\"text-align: right;\">\n",
       "      <th></th>\n",
       "      <th>Rooms</th>\n",
       "      <th>Price</th>\n",
       "      <th>Distance</th>\n",
       "      <th>Bedroom2</th>\n",
       "      <th>Bathroom</th>\n",
       "      <th>Car</th>\n",
       "      <th>Landsize</th>\n",
       "      <th>BuildingArea</th>\n",
       "      <th>YearBuilt</th>\n",
       "      <th>Lattitude</th>\n",
       "      <th>Longtitude</th>\n",
       "      <th>Propertycount</th>\n",
       "      <th>Bedroom2_Missing</th>\n",
       "      <th>Bathroom_Missing</th>\n",
       "      <th>Car_Missing</th>\n",
       "    </tr>\n",
       "    <tr>\n",
       "      <th>Type</th>\n",
       "      <th></th>\n",
       "      <th></th>\n",
       "      <th></th>\n",
       "      <th></th>\n",
       "      <th></th>\n",
       "      <th></th>\n",
       "      <th></th>\n",
       "      <th></th>\n",
       "      <th></th>\n",
       "      <th></th>\n",
       "      <th></th>\n",
       "      <th></th>\n",
       "      <th></th>\n",
       "      <th></th>\n",
       "      <th></th>\n",
       "    </tr>\n",
       "  </thead>\n",
       "  <tbody>\n",
       "    <tr>\n",
       "      <th>h</th>\n",
       "      <td>3.273</td>\n",
       "      <td>1154995.375</td>\n",
       "      <td>12.768</td>\n",
       "      <td>3.256</td>\n",
       "      <td>1.518</td>\n",
       "      <td>1.832</td>\n",
       "      <td>602.344</td>\n",
       "      <td>171.434</td>\n",
       "      <td>1959.936</td>\n",
       "      <td>-37.799</td>\n",
       "      <td>144.993</td>\n",
       "      <td>7401.795</td>\n",
       "      <td>0.147</td>\n",
       "      <td>0.147</td>\n",
       "      <td>0.165</td>\n",
       "    </tr>\n",
       "    <tr>\n",
       "      <th>t</th>\n",
       "      <td>2.852</td>\n",
       "      <td>921367.687</td>\n",
       "      <td>10.753</td>\n",
       "      <td>2.844</td>\n",
       "      <td>1.455</td>\n",
       "      <td>1.577</td>\n",
       "      <td>276.986</td>\n",
       "      <td>138.972</td>\n",
       "      <td>1999.417</td>\n",
       "      <td>-37.819</td>\n",
       "      <td>144.998</td>\n",
       "      <td>7339.823</td>\n",
       "      <td>0.429</td>\n",
       "      <td>0.430</td>\n",
       "      <td>0.430</td>\n",
       "    </tr>\n",
       "    <tr>\n",
       "      <th>u</th>\n",
       "      <td>2.033</td>\n",
       "      <td>638466.802</td>\n",
       "      <td>8.595</td>\n",
       "      <td>2.037</td>\n",
       "      <td>1.104</td>\n",
       "      <td>1.151</td>\n",
       "      <td>478.880</td>\n",
       "      <td>83.242</td>\n",
       "      <td>1979.771</td>\n",
       "      <td>-37.824</td>\n",
       "      <td>144.998</td>\n",
       "      <td>8181.203</td>\n",
       "      <td>0.411</td>\n",
       "      <td>0.411</td>\n",
       "      <td>0.412</td>\n",
       "    </tr>\n",
       "  </tbody>\n",
       "</table>\n",
       "</div>"
      ],
      "text/plain": [
       "      Rooms       Price  Distance  Bedroom2  Bathroom   Car  Landsize  \\\n",
       "Type                                                                    \n",
       "h     3.273 1154995.375    12.768     3.256     1.518 1.832   602.344   \n",
       "t     2.852  921367.687    10.753     2.844     1.455 1.577   276.986   \n",
       "u     2.033  638466.802     8.595     2.037     1.104 1.151   478.880   \n",
       "\n",
       "      BuildingArea  YearBuilt  Lattitude  Longtitude  Propertycount  \\\n",
       "Type                                                                  \n",
       "h          171.434   1959.936    -37.799     144.993       7401.795   \n",
       "t          138.972   1999.417    -37.819     144.998       7339.823   \n",
       "u           83.242   1979.771    -37.824     144.998       8181.203   \n",
       "\n",
       "      Bedroom2_Missing  Bathroom_Missing  Car_Missing  \n",
       "Type                                                   \n",
       "h                0.147             0.147        0.165  \n",
       "t                0.429             0.430        0.430  \n",
       "u                0.411             0.411        0.412  "
      ]
     },
     "execution_count": 29,
     "metadata": {},
     "output_type": "execute_result"
    }
   ],
   "source": [
    "df.groupby('Type').mean()"
   ]
  },
  {
   "cell_type": "code",
   "execution_count": 30,
   "metadata": {
    "ExecuteTime": {
     "end_time": "2019-08-28T04:48:57.415628Z",
     "start_time": "2019-08-28T04:48:57.409731Z"
    }
   },
   "outputs": [
    {
     "data": {
      "text/plain": [
       "array([ 1.,  0.,  2., nan,  5.,  4.,  3.,  6.,  8.,  7., 10., 18., 11.])"
      ]
     },
     "execution_count": 30,
     "metadata": {},
     "output_type": "execute_result"
    }
   ],
   "source": [
    "df.Car.unique()"
   ]
  },
  {
   "cell_type": "code",
   "execution_count": 31,
   "metadata": {
    "ExecuteTime": {
     "end_time": "2019-08-28T04:48:57.431287Z",
     "start_time": "2019-08-28T04:48:57.416623Z"
    }
   },
   "outputs": [],
   "source": [
    "# Car is more likely to be 1 compared to a zero\n",
    "df.Car.fillna(1, inplace=True)"
   ]
  },
  {
   "cell_type": "code",
   "execution_count": 32,
   "metadata": {
    "ExecuteTime": {
     "end_time": "2019-08-28T04:48:57.444668Z",
     "start_time": "2019-08-28T04:48:57.435215Z"
    }
   },
   "outputs": [
    {
     "data": {
      "text/plain": [
       "array([ 1.,  0.,  2.,  5.,  4.,  3.,  6.,  8.,  7., 10., 18., 11.])"
      ]
     },
     "execution_count": 32,
     "metadata": {},
     "output_type": "execute_result"
    }
   ],
   "source": [
    "df.Car.unique()"
   ]
  },
  {
   "cell_type": "code",
   "execution_count": 33,
   "metadata": {
    "ExecuteTime": {
     "end_time": "2019-08-28T04:48:57.465713Z",
     "start_time": "2019-08-28T04:48:57.446663Z"
    }
   },
   "outputs": [
    {
     "data": {
      "text/plain": [
       "Suburb                      object\n",
       "Address                     object\n",
       "Rooms                        int64\n",
       "Type                        object\n",
       "Price                      float64\n",
       "Method                      object\n",
       "SellerG                     object\n",
       "Date                datetime64[ns]\n",
       "Distance                   float64\n",
       "Postcode                    object\n",
       "Bedroom2                   float64\n",
       "Bathroom                   float64\n",
       "Car                        float64\n",
       "Landsize                   float64\n",
       "BuildingArea               float64\n",
       "YearBuilt                  float64\n",
       "CouncilArea                 object\n",
       "Lattitude                  float64\n",
       "Longtitude                 float64\n",
       "Regionname                  object\n",
       "Propertycount              float64\n",
       "Month                       object\n",
       "Season                      object\n",
       "Bedroom2_Missing             int32\n",
       "Bathroom_Missing             int32\n",
       "Car_Missing                  int32\n",
       "dtype: object"
      ]
     },
     "execution_count": 33,
     "metadata": {},
     "output_type": "execute_result"
    }
   ],
   "source": [
    "df.dtypes"
   ]
  },
  {
   "cell_type": "code",
   "execution_count": 34,
   "metadata": {
    "ExecuteTime": {
     "end_time": "2019-08-28T04:48:57.484390Z",
     "start_time": "2019-08-28T04:48:57.466710Z"
    }
   },
   "outputs": [
    {
     "data": {
      "text/plain": [
       "array(['Biggin', 'Jellis', 'Nelson', 'Dingle', 'Purplebricks', 'Greg',\n",
       "       'LITTLE', 'Collins', 'Beller', 'Marshall', 'hockingstuart', 'Brad',\n",
       "       'Maddison', 'Airport', 'Barry', 'Considine', 'McDonald', 'Rendina',\n",
       "       'Frank', 'Ray', 'Prof.', 'Harcourts', 'Thomson', 'RT', \"Sotheby's\",\n",
       "       'Cayzer', 'Chisholm', 'Brace', 'Holland', 'Miles', 'McGrath',\n",
       "       'Love', 'Barlow', 'Village', 'Jas', 'Williams', 'Gunn&Co',\n",
       "       'Sweeney', 'Burnham', 'Compton', 'FN', 'Hunter', 'Raine&Horne',\n",
       "       'Buxton', 'Hodges', 'Gary', 'Fletchers', 'Woodards', 'Raine',\n",
       "       'Walshe', 'Alexkarbon', 'Stockdale', 'Tim', 'Noel', 'Moonee',\n",
       "       'HAR', 'Edward', 'Philip', 'North', 'Kay', 'Christopher',\n",
       "       'Morrison', 'Mandy', 'R&H', 'RW', 'Lindellas', 'Assisi', \"O'Brien\",\n",
       "       'C21', 'Paul', 'hockingstuart/Buxton', 'Matthew', 'Anderson',\n",
       "       'Nick', 'Allens', 'Bells', 'Trimson', 'Douglas', 'YPA', 'GL',\n",
       "       \"Tiernan's\", 'J', 'Rodney', 'Joseph', 'Harrington', 'Galldon',\n",
       "       'Chambers', 'Peter', 'Grantham', 'hockingstuart/Advantage',\n",
       "       'Garvey', 'Hamilton', \"O'Donoghues\", 'Bekdon', 'Weast', 'Century',\n",
       "       'Kelly', 'Property', \"Private/Tiernan's\", 'Australian', 'Bustin',\n",
       "       \"Abercromby's\", 'Castran', 'iTRAK', 'Del', 'Nicholson', 'JMRE',\n",
       "       'ASL', 'Re', 'RE', 'Melbourne', 'First', 'Ham', 'Darren', 'Parkes',\n",
       "       'Pride', 'Owen', 'Morleys', 'Wilson', 'Buxton/Advantage',\n",
       "       'Whiting', 'Pagan', 'Thomas', 'Caine', 'Naison',\n",
       "       'Sweeney/Advantage', 'Nguyen', 'Eview', 'Professionals',\n",
       "       \"D'Aprano\", 'Charlton', 'Haughton', 'William', 'Coventry',\n",
       "       'Buckingham', 'Domain', 'Nardella', 'Reach', 'Walsh', 'Karen',\n",
       "       'Fletchers/Fletchers', 'Besser', 'Johnston', 'Redina', 'Changing',\n",
       "       'MICM', 'Weda', 'Buxton/Find', 'W.B.', 'Leased', 'Jason', 'Win',\n",
       "       'LJ', 'Red', 'New', 'Scott', 'Geoff', 'hockingstuart/Barry',\n",
       "       'Steveway', 'Parkinson', 'VICPROP', 'Meadows', 'S&L', 'Crane',\n",
       "       'Calder', 'Homes', 'Zahn', 'Luxe', 'Prowse', 'Ken',\n",
       "       'hockingstuart/Village', 'Iconek', 'Ascend', 'Luxton', 'Hooper',\n",
       "       'Wood', 'Bayside', 'White', 'Weston', 'Oriental', 'Max', 'Steller',\n",
       "       'Hall', 'buyMyplace', 'Collings', 'WHITEFOX', 'Dixon', 'Appleby',\n",
       "       'Metro', '@Realty', 'Hoskins', 'Gardiner', 'McLennan', 'Mason',\n",
       "       'Triwest', 'PRDNationwide', 'Only', 'Leyton', 'Obrien', 'Maitland',\n",
       "       'Reliance', 'Rounds', 'Millership', 'iSell', 'L', 'Ash', 'Jim',\n",
       "       'Ace', 'Flannagan', 'JRW', 'Carter', 'Real', 'M.J', 'iProperty',\n",
       "       'Hayeswinckle', 'Schroeder', 'iHomes', 'REMAX', 'Space', 'Victory',\n",
       "       'Smart', 'Mindacom', 'Ryder', 'Asset', 'LLC', 'Sell', 'Mitchell',\n",
       "       'U', 'Keatings', 'Aquire', 'Conquest', 'Rombotis', 'Prime',\n",
       "       'Community', 'Elite', 'Free', 'Veitch', 'Peake', 'Ristic',\n",
       "       'Daniel', 'Xynergy', 'Leeburn', 'TRUE', 'Ross', 'Leading',\n",
       "       'Bullen', 'One', 'Langwell', 'VICProp', 'Kaye', 'Nicholls',\n",
       "       'Bowman', 'Boutique', 'Just', 'Home', 'McNaughton', 'Black', 'The',\n",
       "       'Open', 'Darras', 'Le', 'McEwing', 'Avion',\n",
       "       'hockingstuart/hockingstuart', 'Area', 'MJ', 'Bombay', 'Quinta',\n",
       "       'T', 'Rexhepi', 'Point', 'LJH', 'Munn', 'PRD', 'Justin',\n",
       "       'Westside', 'Blackbird', 'Branon', 'Alex', 'Benchmark',\n",
       "       'Gellibrand', 'hockingstuart/Harcourts', 'Upside', 'OBrien',\n",
       "       'Meallin', 'Surreal', 'Mark', 'Charter', 'For', 'Eric', 'Leaders',\n",
       "       'McGrath/Langwell', 'Benlor', 'Burns', 'K.R.Peters', 'Boran',\n",
       "       'CarlinSmith', 'hockingstuart/Biggin', 'Skad', 'Wyndham', 'Create',\n",
       "       'Janice', 'Commercial', 'PSP', 'P', 'McGrath/First',\n",
       "       'Buxton/Marshall'], dtype=object)"
      ]
     },
     "execution_count": 34,
     "metadata": {},
     "output_type": "execute_result"
    }
   ],
   "source": [
    "df.SellerG.unique()"
   ]
  },
  {
   "cell_type": "code",
   "execution_count": 35,
   "metadata": {
    "ExecuteTime": {
     "end_time": "2019-08-28T04:48:57.974811Z",
     "start_time": "2019-08-28T04:48:57.485854Z"
    }
   },
   "outputs": [
    {
     "data": {
      "image/png": "[encoded data removed]",
      "text/plain": [
       "<Figure size 432x288 with 1 Axes>"
      ]
     },
     "metadata": {
      "needs_background": "light"
     },
     "output_type": "display_data"
    }
   ],
   "source": [
    "sns.violinplot('Rooms', data=df)\n",
    "plt.show()"
   ]
  },
  {
   "cell_type": "code",
   "execution_count": 36,
   "metadata": {
    "ExecuteTime": {
     "end_time": "2019-08-28T04:48:58.410379Z",
     "start_time": "2019-08-28T04:48:57.978807Z"
    }
   },
   "outputs": [
    {
     "data": {
      "image/png": "[encoded data removed]",
      "text/plain": [
       "<Figure size 432x288 with 1 Axes>"
      ]
     },
     "metadata": {
      "needs_background": "light"
     },
     "output_type": "display_data"
    }
   ],
   "source": [
    "sns.violinplot('Car', data=df)\n",
    "plt.show()"
   ]
  },
  {
   "cell_type": "code",
   "execution_count": 37,
   "metadata": {
    "ExecuteTime": {
     "end_time": "2019-08-28T04:48:58.885144Z",
     "start_time": "2019-08-28T04:48:58.413428Z"
    }
   },
   "outputs": [
    {
     "data": {
      "image/png": "[encoded data removed]",
      "text/plain": [
       "<Figure size 432x288 with 1 Axes>"
      ]
     },
     "metadata": {
      "needs_background": "light"
     },
     "output_type": "display_data"
    }
   ],
   "source": [
    "sns.violinplot('Price', data=df)\n",
    "plt.show()"
   ]
  },
  {
   "cell_type": "code",
   "execution_count": 38,
   "metadata": {
    "ExecuteTime": {
     "end_time": "2019-08-28T04:48:58.893985Z",
     "start_time": "2019-08-28T04:48:58.887003Z"
    }
   },
   "outputs": [
    {
     "data": {
      "text/plain": [
       "1021721.0049281892"
      ]
     },
     "execution_count": 38,
     "metadata": {},
     "output_type": "execute_result"
    }
   ],
   "source": [
    "df.Price.mean()"
   ]
  },
  {
   "cell_type": "code",
   "execution_count": 39,
   "metadata": {
    "ExecuteTime": {
     "end_time": "2019-08-28T04:48:58.913034Z",
     "start_time": "2019-08-28T04:48:58.896977Z"
    }
   },
   "outputs": [],
   "source": [
    "# Drop the Price observations over $2.5 million\n",
    "df = df[df.Price < 2500000]"
   ]
  },
  {
   "cell_type": "code",
   "execution_count": 40,
   "metadata": {
    "ExecuteTime": {
     "end_time": "2019-08-28T04:48:59.372028Z",
     "start_time": "2019-08-28T04:48:58.916341Z"
    }
   },
   "outputs": [
    {
     "data": {
      "image/png": "[encoded data removed]",
      "text/plain": [
       "<Figure size 432x288 with 1 Axes>"
      ]
     },
     "metadata": {
      "needs_background": "light"
     },
     "output_type": "display_data"
    }
   ],
   "source": [
    "sns.violinplot('Price', data=df)\n",
    "plt.show()"
   ]
  },
  {
   "cell_type": "code",
   "execution_count": 41,
   "metadata": {
    "ExecuteTime": {
     "end_time": "2019-08-28T04:49:00.396080Z",
     "start_time": "2019-08-28T04:48:59.377983Z"
    }
   },
   "outputs": [
    {
     "data": {
      "image/png": "[encoded data removed]",
      "text/plain": [
       "<Figure size 432x288 with 1 Axes>"
      ]
     },
     "metadata": {
      "needs_background": "light"
     },
     "output_type": "display_data"
    },
    {
     "data": {
      "image/png": "[encoded data removed]",
      "text/plain": [
       "<Figure size 432x288 with 1 Axes>"
      ]
     },
     "metadata": {
      "needs_background": "light"
     },
     "output_type": "display_data"
    }
   ],
   "source": [
    "sns.violinplot('Car', data=df)\n",
    "plt.show()\n",
    "sns.violinplot('Rooms', data=df)\n",
    "plt.show()"
   ]
  },
  {
   "cell_type": "code",
   "execution_count": 42,
   "metadata": {
    "ExecuteTime": {
     "end_time": "2019-08-28T04:49:00.415841Z",
     "start_time": "2019-08-28T04:49:00.399074Z"
    }
   },
   "outputs": [
    {
     "name": "stdout",
     "output_type": "stream",
     "text": [
      "90\n",
      "96\n",
      "[0.00463858 3.69230769]\n"
     ]
    }
   ],
   "source": [
    "print((df.Rooms > 5).sum())\n",
    "print((df.Car > 5).sum())\n",
    "print((df.Car > 5).sum()/df.shape)"
   ]
  },
  {
   "cell_type": "code",
   "execution_count": 43,
   "metadata": {
    "ExecuteTime": {
     "end_time": "2019-08-28T04:49:00.437979Z",
     "start_time": "2019-08-28T04:49:00.418347Z"
    }
   },
   "outputs": [],
   "source": [
    "# Drop the Rooms and Car observations over 5\n",
    "df = df[df.Rooms < 6]\n",
    "df = df[df.Car < 6]"
   ]
  },
  {
   "cell_type": "code",
   "execution_count": 44,
   "metadata": {
    "ExecuteTime": {
     "end_time": "2019-08-28T04:49:01.162645Z",
     "start_time": "2019-08-28T04:49:00.439795Z"
    }
   },
   "outputs": [
    {
     "data": {
      "image/png": "[encoded data removed]",
      "text/plain": [
       "<Figure size 432x288 with 1 Axes>"
      ]
     },
     "metadata": {
      "needs_background": "light"
     },
     "output_type": "display_data"
    },
    {
     "data": {
      "image/png": "[encoded data removed]",
      "text/plain": [
       "<Figure size 432x288 with 1 Axes>"
      ]
     },
     "metadata": {
      "needs_background": "light"
     },
     "output_type": "display_data"
    }
   ],
   "source": [
    "sns.violinplot('Car', data=df)\n",
    "plt.show()\n",
    "sns.violinplot('Rooms', data=df)\n",
    "plt.show()"
   ]
  },
  {
   "cell_type": "markdown",
   "metadata": {},
   "source": [
    "#### MAKE NOTE OF THE POPULATION RESTRICTIONS\n",
    "* Property Value under $2.5 million\n",
    "* Property has less than 6 Car spaces\n",
    "* Property has less than 6 Rooms"
   ]
  },
  {
   "cell_type": "code",
   "execution_count": 45,
   "metadata": {
    "ExecuteTime": {
     "end_time": "2019-08-28T04:49:01.179310Z",
     "start_time": "2019-08-28T04:49:01.165951Z"
    }
   },
   "outputs": [
    {
     "data": {
      "text/plain": [
       "Suburb         object\n",
       "Address        object\n",
       "Type           object\n",
       "Method         object\n",
       "SellerG        object\n",
       "Postcode       object\n",
       "CouncilArea    object\n",
       "Regionname     object\n",
       "Month          object\n",
       "Season         object\n",
       "dtype: object"
      ]
     },
     "execution_count": 45,
     "metadata": {},
     "output_type": "execute_result"
    }
   ],
   "source": [
    "df.dtypes[df.dtypes == 'object']"
   ]
  },
  {
   "cell_type": "code",
   "execution_count": 46,
   "metadata": {
    "ExecuteTime": {
     "end_time": "2019-08-28T04:49:01.196323Z",
     "start_time": "2019-08-28T04:49:01.183133Z"
    }
   },
   "outputs": [
    {
     "data": {
      "text/plain": [
       "array(['Northern Metropolitan', 'Western Metropolitan',\n",
       "       'Southern Metropolitan', 'Eastern Metropolitan',\n",
       "       'South-Eastern Metropolitan', 'Eastern Victoria',\n",
       "       'Northern Victoria', 'Western Victoria'], dtype=object)"
      ]
     },
     "execution_count": 46,
     "metadata": {},
     "output_type": "execute_result"
    }
   ],
   "source": [
    "df.Regionname.unique()"
   ]
  },
  {
   "cell_type": "code",
   "execution_count": 47,
   "metadata": {
    "ExecuteTime": {
     "end_time": "2019-08-28T04:49:01.229302Z",
     "start_time": "2019-08-28T04:49:01.199175Z"
    }
   },
   "outputs": [
    {
     "data": {
      "text/html": [
       "<div>\n",
       "<style scoped>\n",
       "    .dataframe tbody tr th:only-of-type {\n",
       "        vertical-align: middle;\n",
       "    }\n",
       "\n",
       "    .dataframe tbody tr th {\n",
       "        vertical-align: top;\n",
       "    }\n",
       "\n",
       "    .dataframe thead th {\n",
       "        text-align: right;\n",
       "    }\n",
       "</style>\n",
       "<table border=\"1\" class=\"dataframe\">\n",
       "  <thead>\n",
       "    <tr style=\"text-align: right;\">\n",
       "      <th></th>\n",
       "      <th>Rooms</th>\n",
       "      <th>Price</th>\n",
       "      <th>Distance</th>\n",
       "      <th>Bedroom2</th>\n",
       "      <th>Bathroom</th>\n",
       "      <th>Car</th>\n",
       "      <th>Landsize</th>\n",
       "      <th>BuildingArea</th>\n",
       "      <th>YearBuilt</th>\n",
       "      <th>Lattitude</th>\n",
       "      <th>Longtitude</th>\n",
       "      <th>Propertycount</th>\n",
       "      <th>Bedroom2_Missing</th>\n",
       "      <th>Bathroom_Missing</th>\n",
       "      <th>Car_Missing</th>\n",
       "    </tr>\n",
       "    <tr>\n",
       "      <th>Regionname</th>\n",
       "      <th></th>\n",
       "      <th></th>\n",
       "      <th></th>\n",
       "      <th></th>\n",
       "      <th></th>\n",
       "      <th></th>\n",
       "      <th></th>\n",
       "      <th></th>\n",
       "      <th></th>\n",
       "      <th></th>\n",
       "      <th></th>\n",
       "      <th></th>\n",
       "      <th></th>\n",
       "      <th></th>\n",
       "      <th></th>\n",
       "    </tr>\n",
       "  </thead>\n",
       "  <tbody>\n",
       "    <tr>\n",
       "      <th>Eastern Metropolitan</th>\n",
       "      <td>3</td>\n",
       "      <td>990000.000</td>\n",
       "      <td>14.200</td>\n",
       "      <td>3.000</td>\n",
       "      <td>1.000</td>\n",
       "      <td>2.000</td>\n",
       "      <td>658.000</td>\n",
       "      <td>148.000</td>\n",
       "      <td>1970.000</td>\n",
       "      <td>-37.790</td>\n",
       "      <td>145.139</td>\n",
       "      <td>5030.000</td>\n",
       "      <td>0</td>\n",
       "      <td>0</td>\n",
       "      <td>0</td>\n",
       "    </tr>\n",
       "    <tr>\n",
       "      <th>Eastern Victoria</th>\n",
       "      <td>3</td>\n",
       "      <td>670000.000</td>\n",
       "      <td>35.200</td>\n",
       "      <td>3.000</td>\n",
       "      <td>2.000</td>\n",
       "      <td>2.000</td>\n",
       "      <td>792.000</td>\n",
       "      <td>159.500</td>\n",
       "      <td>1990.000</td>\n",
       "      <td>-38.026</td>\n",
       "      <td>145.333</td>\n",
       "      <td>8280.000</td>\n",
       "      <td>0</td>\n",
       "      <td>0</td>\n",
       "      <td>0</td>\n",
       "    </tr>\n",
       "    <tr>\n",
       "      <th>Northern Metropolitan</th>\n",
       "      <td>3</td>\n",
       "      <td>750000.000</td>\n",
       "      <td>8.800</td>\n",
       "      <td>3.000</td>\n",
       "      <td>1.000</td>\n",
       "      <td>1.000</td>\n",
       "      <td>409.000</td>\n",
       "      <td>118.000</td>\n",
       "      <td>1970.000</td>\n",
       "      <td>-37.733</td>\n",
       "      <td>144.985</td>\n",
       "      <td>8870.000</td>\n",
       "      <td>0</td>\n",
       "      <td>0</td>\n",
       "      <td>0</td>\n",
       "    </tr>\n",
       "    <tr>\n",
       "      <th>Northern Victoria</th>\n",
       "      <td>3</td>\n",
       "      <td>550000.000</td>\n",
       "      <td>31.700</td>\n",
       "      <td>3.000</td>\n",
       "      <td>2.000</td>\n",
       "      <td>2.000</td>\n",
       "      <td>713.500</td>\n",
       "      <td>149.000</td>\n",
       "      <td>2000.000</td>\n",
       "      <td>-37.618</td>\n",
       "      <td>144.680</td>\n",
       "      <td>4258.000</td>\n",
       "      <td>0</td>\n",
       "      <td>0</td>\n",
       "      <td>0</td>\n",
       "    </tr>\n",
       "    <tr>\n",
       "      <th>South-Eastern Metropolitan</th>\n",
       "      <td>3</td>\n",
       "      <td>801000.000</td>\n",
       "      <td>22.200</td>\n",
       "      <td>3.000</td>\n",
       "      <td>1.000</td>\n",
       "      <td>2.000</td>\n",
       "      <td>616.000</td>\n",
       "      <td>142.000</td>\n",
       "      <td>1975.000</td>\n",
       "      <td>-37.984</td>\n",
       "      <td>145.138</td>\n",
       "      <td>6162.000</td>\n",
       "      <td>0</td>\n",
       "      <td>0</td>\n",
       "      <td>0</td>\n",
       "    </tr>\n",
       "    <tr>\n",
       "      <th>Southern Metropolitan</th>\n",
       "      <td>3</td>\n",
       "      <td>1150000.000</td>\n",
       "      <td>9.700</td>\n",
       "      <td>3.000</td>\n",
       "      <td>1.000</td>\n",
       "      <td>1.000</td>\n",
       "      <td>348.000</td>\n",
       "      <td>121.000</td>\n",
       "      <td>1960.000</td>\n",
       "      <td>-37.868</td>\n",
       "      <td>145.040</td>\n",
       "      <td>7717.000</td>\n",
       "      <td>0</td>\n",
       "      <td>0</td>\n",
       "      <td>0</td>\n",
       "    </tr>\n",
       "    <tr>\n",
       "      <th>Western Metropolitan</th>\n",
       "      <td>3</td>\n",
       "      <td>745000.000</td>\n",
       "      <td>10.400</td>\n",
       "      <td>3.000</td>\n",
       "      <td>1.000</td>\n",
       "      <td>1.000</td>\n",
       "      <td>490.000</td>\n",
       "      <td>133.000</td>\n",
       "      <td>1975.000</td>\n",
       "      <td>-37.781</td>\n",
       "      <td>144.871</td>\n",
       "      <td>5498.000</td>\n",
       "      <td>0</td>\n",
       "      <td>0</td>\n",
       "      <td>0</td>\n",
       "    </tr>\n",
       "    <tr>\n",
       "      <th>Western Victoria</th>\n",
       "      <td>3</td>\n",
       "      <td>412000.000</td>\n",
       "      <td>29.800</td>\n",
       "      <td>3.000</td>\n",
       "      <td>1.000</td>\n",
       "      <td>2.000</td>\n",
       "      <td>602.000</td>\n",
       "      <td>122.860</td>\n",
       "      <td>1976.000</td>\n",
       "      <td>-37.698</td>\n",
       "      <td>144.573</td>\n",
       "      <td>4718.000</td>\n",
       "      <td>0</td>\n",
       "      <td>0</td>\n",
       "      <td>0</td>\n",
       "    </tr>\n",
       "  </tbody>\n",
       "</table>\n",
       "</div>"
      ],
      "text/plain": [
       "                            Rooms       Price  Distance  Bedroom2  Bathroom  \\\n",
       "Regionname                                                                    \n",
       "Eastern Metropolitan            3  990000.000    14.200     3.000     1.000   \n",
       "Eastern Victoria                3  670000.000    35.200     3.000     2.000   \n",
       "Northern Metropolitan           3  750000.000     8.800     3.000     1.000   \n",
       "Northern Victoria               3  550000.000    31.700     3.000     2.000   \n",
       "South-Eastern Metropolitan      3  801000.000    22.200     3.000     1.000   \n",
       "Southern Metropolitan           3 1150000.000     9.700     3.000     1.000   \n",
       "Western Metropolitan            3  745000.000    10.400     3.000     1.000   \n",
       "Western Victoria                3  412000.000    29.800     3.000     1.000   \n",
       "\n",
       "                             Car  Landsize  BuildingArea  YearBuilt  \\\n",
       "Regionname                                                            \n",
       "Eastern Metropolitan       2.000   658.000       148.000   1970.000   \n",
       "Eastern Victoria           2.000   792.000       159.500   1990.000   \n",
       "Northern Metropolitan      1.000   409.000       118.000   1970.000   \n",
       "Northern Victoria          2.000   713.500       149.000   2000.000   \n",
       "South-Eastern Metropolitan 2.000   616.000       142.000   1975.000   \n",
       "Southern Metropolitan      1.000   348.000       121.000   1960.000   \n",
       "Western Metropolitan       1.000   490.000       133.000   1975.000   \n",
       "Western Victoria           2.000   602.000       122.860   1976.000   \n",
       "\n",
       "                            Lattitude  Longtitude  Propertycount  \\\n",
       "Regionname                                                         \n",
       "Eastern Metropolitan          -37.790     145.139       5030.000   \n",
       "Eastern Victoria              -38.026     145.333       8280.000   \n",
       "Northern Metropolitan         -37.733     144.985       8870.000   \n",
       "Northern Victoria             -37.618     144.680       4258.000   \n",
       "South-Eastern Metropolitan    -37.984     145.138       6162.000   \n",
       "Southern Metropolitan         -37.868     145.040       7717.000   \n",
       "Western Metropolitan          -37.781     144.871       5498.000   \n",
       "Western Victoria              -37.698     144.573       4718.000   \n",
       "\n",
       "                            Bedroom2_Missing  Bathroom_Missing  Car_Missing  \n",
       "Regionname                                                                   \n",
       "Eastern Metropolitan                       0                 0            0  \n",
       "Eastern Victoria                           0                 0            0  \n",
       "Northern Metropolitan                      0                 0            0  \n",
       "Northern Victoria                          0                 0            0  \n",
       "South-Eastern Metropolitan                 0                 0            0  \n",
       "Southern Metropolitan                      0                 0            0  \n",
       "Western Metropolitan                       0                 0            0  \n",
       "Western Victoria                           0                 0            0  "
      ]
     },
     "execution_count": 47,
     "metadata": {},
     "output_type": "execute_result"
    }
   ],
   "source": [
    "df.groupby('Regionname').median()"
   ]
  },
  {
   "cell_type": "code",
   "execution_count": 48,
   "metadata": {
    "ExecuteTime": {
     "end_time": "2019-08-28T04:49:01.255800Z",
     "start_time": "2019-08-28T04:49:01.231365Z"
    }
   },
   "outputs": [
    {
     "data": {
      "text/plain": [
       "array(['Northern Metropolitan', 'Western Metropolitan',\n",
       "       'Southern Metropolitan', 'Eastern Metropolitan',\n",
       "       'South-Eastern Metropolitan'], dtype=object)"
      ]
     },
     "execution_count": 48,
     "metadata": {},
     "output_type": "execute_result"
    }
   ],
   "source": [
    "# Will drop the regions outside of Metro Melbourne\n",
    "#regions_to_drop = ['Eastern Victoria', 'Northern Victoria', 'Western Victoria']\n",
    "# Filter the df to only observations in metro Melb\n",
    "df = df.drop(df[(df['Regionname'] == 'Eastern Victoria') | (df['Regionname'] == 'Northern Victoria') | (df['Regionname'] == 'Western Victoria') ].index)\n",
    "df.Regionname.unique()"
   ]
  },
  {
   "cell_type": "markdown",
   "metadata": {},
   "source": [
    "## Feature Engineering"
   ]
  },
  {
   "cell_type": "markdown",
   "metadata": {},
   "source": [
    "Need to make some new variables from the address field. eg, st, ave, cir etc"
   ]
  },
  {
   "cell_type": "code",
   "execution_count": 49,
   "metadata": {
    "ExecuteTime": {
     "end_time": "2019-08-28T04:49:01.377049Z",
     "start_time": "2019-08-28T04:49:01.258769Z"
    }
   },
   "outputs": [],
   "source": [
    "# Extract the street type from the address feature\n",
    "df['St_Type_1'] = (df['Address'].str.split(expand=True)[2])\n",
    "df['St_Type_2'] = (df['Address'].str.split(expand=True)[3])\n",
    "df.St_Type_2.unique()\n",
    "df.St_Type_2.replace(['Nth', 'S', 'E', 'W', 'N'], None, inplace=True)"
   ]
  },
  {
   "cell_type": "code",
   "execution_count": 50,
   "metadata": {
    "ExecuteTime": {
     "end_time": "2019-08-28T04:49:01.383239Z",
     "start_time": "2019-08-28T04:49:01.379243Z"
    }
   },
   "outputs": [],
   "source": [
    "#df.St_Type.value_counts()"
   ]
  },
  {
   "cell_type": "code",
   "execution_count": 51,
   "metadata": {
    "ExecuteTime": {
     "end_time": "2019-08-28T04:49:01.411022Z",
     "start_time": "2019-08-28T04:49:01.387154Z"
    }
   },
   "outputs": [
    {
     "data": {
      "text/plain": [
       "St           9956\n",
       "Rd           3598\n",
       "Av           1942\n",
       "Ct           1032\n",
       "Dr            789\n",
       "Cr            703\n",
       "Gr            395\n",
       "Pl            304\n",
       "Pde           297\n",
       "Wy            202\n",
       "Cl            197\n",
       "Bvd           106\n",
       "La             98\n",
       "Tce            78\n",
       "Cct            60\n",
       "Hwy            44\n",
       "Avenue         39\n",
       "Ri             33\n",
       "Wk             31\n",
       "Mw             24\n",
       "Parade         17\n",
       "Sq             13\n",
       "Boulevard      11\n",
       "Crescent       10\n",
       "Esplanade       9\n",
       "Strand          7\n",
       "Cir             7\n",
       "Grove           6\n",
       "Prm             5\n",
       "Gdns            5\n",
       "             ... \n",
       "Victoria        1\n",
       "Loop            1\n",
       "Parks           1\n",
       "Gld             1\n",
       "Hth             1\n",
       "Cove            1\n",
       "Out             1\n",
       "Circuit         1\n",
       "Outlook         1\n",
       "App             1\n",
       "Crse            1\n",
       "Mews            1\n",
       "West            1\n",
       "Aveue           1\n",
       "Mears           1\n",
       "Highway         1\n",
       "Entrance        1\n",
       "Brk             1\n",
       "Pt              1\n",
       "Terrace         1\n",
       "Pass            1\n",
       "Summit          1\n",
       "Qy              1\n",
       "Lairidge        1\n",
       "Greenway        1\n",
       "Hub             1\n",
       "Gve             1\n",
       "Lk              1\n",
       "Nk              1\n",
       "Spur            1\n",
       "Name: St_Type_2, Length: 102, dtype: int64"
      ]
     },
     "execution_count": 51,
     "metadata": {},
     "output_type": "execute_result"
    }
   ],
   "source": [
    "# Need to merge/concat the two \"St_Type\" cols\n",
    "df['St_Type_2'].fillna(df.St_Type_1, inplace=True)\n",
    "df.St_Type_2.value_counts()"
   ]
  },
  {
   "cell_type": "code",
   "execution_count": 52,
   "metadata": {
    "ExecuteTime": {
     "end_time": "2019-08-28T04:49:01.423410Z",
     "start_time": "2019-08-28T04:49:01.414117Z"
    }
   },
   "outputs": [],
   "source": [
    "#low_card_st_types = []\n",
    "#for label in df.St_Type.index:\n",
    "#    if len(df.St_Type.value_counts()) < 10:\n",
    "#        low_card_st_types = low_card_st_types + [label]"
   ]
  },
  {
   "cell_type": "code",
   "execution_count": 53,
   "metadata": {
    "ExecuteTime": {
     "end_time": "2019-08-28T04:49:01.446418Z",
     "start_time": "2019-08-28T04:49:01.426775Z"
    }
   },
   "outputs": [],
   "source": [
    "#low_card_st_types"
   ]
  },
  {
   "cell_type": "code",
   "execution_count": 54,
   "metadata": {
    "ExecuteTime": {
     "end_time": "2019-08-28T04:49:01.460306Z",
     "start_time": "2019-08-28T04:49:01.448136Z"
    }
   },
   "outputs": [],
   "source": [
    "df['St_Type'] = df.St_Type_2"
   ]
  },
  {
   "cell_type": "code",
   "execution_count": 55,
   "metadata": {
    "ExecuteTime": {
     "end_time": "2019-08-28T04:49:01.472432Z",
     "start_time": "2019-08-28T04:49:01.461306Z"
    }
   },
   "outputs": [],
   "source": [
    "pd.options.display.max_rows = 200\n",
    "#list = [label for label in [df.St_Type.value_counts() < 10]]\n",
    "#list"
   ]
  },
  {
   "cell_type": "code",
   "execution_count": 56,
   "metadata": {
    "ExecuteTime": {
     "end_time": "2019-08-28T04:49:01.499712Z",
     "start_time": "2019-08-28T04:49:01.474653Z"
    }
   },
   "outputs": [
    {
     "data": {
      "text/plain": [
       "[Regionname\n",
       " Eastern Metropolitan         145.147\n",
       " Northern Metropolitan        144.985\n",
       " South-Eastern Metropolitan   145.152\n",
       " Southern Metropolitan        145.036\n",
       " Western Metropolitan         144.843\n",
       " Name: Longtitude, dtype: float64]"
      ]
     },
     "execution_count": 56,
     "metadata": {},
     "output_type": "execute_result"
    }
   ],
   "source": [
    "# Use these mean figures to approx missing values\n",
    "lattitude_dict = [df.groupby('Regionname').Lattitude.mean()]\n",
    "lattitude_dict\n",
    "longtitude_dict = [df.groupby('Regionname').Longtitude.mean()]\n",
    "longtitude_dict"
   ]
  },
  {
   "cell_type": "code",
   "execution_count": 57,
   "metadata": {
    "ExecuteTime": {
     "end_time": "2019-08-28T04:49:01.512459Z",
     "start_time": "2019-08-28T04:49:01.503136Z"
    }
   },
   "outputs": [],
   "source": [
    "df.Longtitude.fillna(df.Longtitude.mean(), inplace=True)\n",
    "df.Lattitude.fillna(df.Lattitude.mean(), inplace=True)"
   ]
  },
  {
   "cell_type": "code",
   "execution_count": 58,
   "metadata": {
    "ExecuteTime": {
     "end_time": "2019-08-28T04:49:01.559642Z",
     "start_time": "2019-08-28T04:49:01.515450Z"
    }
   },
   "outputs": [],
   "source": [
    "df.St_Type.replace(['Avenue', 'Ave', 'Aveue'], 'Av', inplace=True)\n",
    "df.St_Type.replace('Boulevard', 'Bvd', inplace=True)\n",
    "df.St_Type.replace(['street', 'Street'], 'St', inplace=True)\n",
    "df.St_Type.replace('Parade', 'Pde', inplace=True)\n",
    "df.St_Type.replace('Crescent', 'Cr', inplace=True)\n",
    "df.St_Type.replace(['Circuit','Cir'], 'Cct', inplace=True)\n",
    "df.St_Type.replace('Terrace', 'Tce', inplace=True)\n",
    "df.St_Type.replace('Ridge', 'Rdg', inplace=True)\n",
    "df.St_Type.replace('Esplanade', 'Esp', inplace=True)\n",
    "df.St_Type.replace(['View', 'Views', 'Vs'], 'Vw', inplace=True)\n",
    "df.St_Type.replace('Highway', 'Hwy', inplace=True)\n",
    "\n"
   ]
  },
  {
   "cell_type": "code",
   "execution_count": 59,
   "metadata": {
    "ExecuteTime": {
     "end_time": "2019-08-28T04:49:01.568015Z",
     "start_time": "2019-08-28T04:49:01.562012Z"
    }
   },
   "outputs": [
    {
     "data": {
      "text/plain": [
       "(20145, 29)"
      ]
     },
     "execution_count": 59,
     "metadata": {},
     "output_type": "execute_result"
    }
   ],
   "source": [
    "df.shape"
   ]
  },
  {
   "cell_type": "code",
   "execution_count": 60,
   "metadata": {
    "ExecuteTime": {
     "end_time": "2019-08-28T04:49:01.661902Z",
     "start_time": "2019-08-28T04:49:01.571050Z"
    }
   },
   "outputs": [
    {
     "data": {
      "text/html": [
       "<div>\n",
       "<style scoped>\n",
       "    .dataframe tbody tr th:only-of-type {\n",
       "        vertical-align: middle;\n",
       "    }\n",
       "\n",
       "    .dataframe tbody tr th {\n",
       "        vertical-align: top;\n",
       "    }\n",
       "\n",
       "    .dataframe thead th {\n",
       "        text-align: right;\n",
       "    }\n",
       "</style>\n",
       "<table border=\"1\" class=\"dataframe\">\n",
       "  <thead>\n",
       "    <tr style=\"text-align: right;\">\n",
       "      <th></th>\n",
       "      <th>Rooms</th>\n",
       "      <th>Price</th>\n",
       "      <th>Distance</th>\n",
       "      <th>Bedroom2</th>\n",
       "      <th>Bathroom</th>\n",
       "      <th>Car</th>\n",
       "      <th>Landsize</th>\n",
       "      <th>BuildingArea</th>\n",
       "      <th>YearBuilt</th>\n",
       "      <th>Lattitude</th>\n",
       "      <th>Longtitude</th>\n",
       "      <th>Propertycount</th>\n",
       "      <th>Bedroom2_Missing</th>\n",
       "      <th>Bathroom_Missing</th>\n",
       "      <th>Car_Missing</th>\n",
       "    </tr>\n",
       "    <tr>\n",
       "      <th>St_Type</th>\n",
       "      <th></th>\n",
       "      <th></th>\n",
       "      <th></th>\n",
       "      <th></th>\n",
       "      <th></th>\n",
       "      <th></th>\n",
       "      <th></th>\n",
       "      <th></th>\n",
       "      <th></th>\n",
       "      <th></th>\n",
       "      <th></th>\n",
       "      <th></th>\n",
       "      <th></th>\n",
       "      <th></th>\n",
       "      <th></th>\n",
       "    </tr>\n",
       "  </thead>\n",
       "  <tbody>\n",
       "    <tr>\n",
       "      <th>Victoria</th>\n",
       "      <td>3.000</td>\n",
       "      <td>2040000.000</td>\n",
       "      <td>7.500</td>\n",
       "      <td>3.000</td>\n",
       "      <td>1.000</td>\n",
       "      <td>2.000</td>\n",
       "      <td>783.000</td>\n",
       "      <td>nan</td>\n",
       "      <td>nan</td>\n",
       "      <td>-37.823</td>\n",
       "      <td>145.053</td>\n",
       "      <td>6482.000</td>\n",
       "      <td>0.000</td>\n",
       "      <td>0.000</td>\n",
       "      <td>0.000</td>\n",
       "    </tr>\n",
       "    <tr>\n",
       "      <th>Corso</th>\n",
       "      <td>3.000</td>\n",
       "      <td>1850000.000</td>\n",
       "      <td>21.500</td>\n",
       "      <td>3.000</td>\n",
       "      <td>2.000</td>\n",
       "      <td>2.000</td>\n",
       "      <td>617.000</td>\n",
       "      <td>nan</td>\n",
       "      <td>nan</td>\n",
       "      <td>-37.992</td>\n",
       "      <td>145.072</td>\n",
       "      <td>5087.000</td>\n",
       "      <td>0.000</td>\n",
       "      <td>0.000</td>\n",
       "      <td>0.000</td>\n",
       "    </tr>\n",
       "    <tr>\n",
       "      <th>Athol</th>\n",
       "      <td>4.000</td>\n",
       "      <td>1742000.000</td>\n",
       "      <td>9.000</td>\n",
       "      <td>4.000</td>\n",
       "      <td>2.000</td>\n",
       "      <td>2.000</td>\n",
       "      <td>780.000</td>\n",
       "      <td>nan</td>\n",
       "      <td>nan</td>\n",
       "      <td>-37.821</td>\n",
       "      <td>145.068</td>\n",
       "      <td>3265.000</td>\n",
       "      <td>0.000</td>\n",
       "      <td>0.000</td>\n",
       "      <td>0.000</td>\n",
       "    </tr>\n",
       "    <tr>\n",
       "      <th>Mall</th>\n",
       "      <td>4.000</td>\n",
       "      <td>1700000.000</td>\n",
       "      <td>14.200</td>\n",
       "      <td>4.000</td>\n",
       "      <td>1.000</td>\n",
       "      <td>1.000</td>\n",
       "      <td>nan</td>\n",
       "      <td>nan</td>\n",
       "      <td>nan</td>\n",
       "      <td>-37.805</td>\n",
       "      <td>144.994</td>\n",
       "      <td>13366.000</td>\n",
       "      <td>1.000</td>\n",
       "      <td>1.000</td>\n",
       "      <td>1.000</td>\n",
       "    </tr>\n",
       "    <tr>\n",
       "      <th>Woodland</th>\n",
       "      <td>4.000</td>\n",
       "      <td>1678000.000</td>\n",
       "      <td>16.700</td>\n",
       "      <td>4.000</td>\n",
       "      <td>2.000</td>\n",
       "      <td>2.000</td>\n",
       "      <td>943.000</td>\n",
       "      <td>nan</td>\n",
       "      <td>nan</td>\n",
       "      <td>-37.903</td>\n",
       "      <td>145.182</td>\n",
       "      <td>7392.000</td>\n",
       "      <td>0.000</td>\n",
       "      <td>0.000</td>\n",
       "      <td>0.000</td>\n",
       "    </tr>\n",
       "    <tr>\n",
       "      <th>Ridgeway</th>\n",
       "      <td>3.000</td>\n",
       "      <td>1640000.000</td>\n",
       "      <td>3.400</td>\n",
       "      <td>3.000</td>\n",
       "      <td>2.000</td>\n",
       "      <td>1.000</td>\n",
       "      <td>203.000</td>\n",
       "      <td>166.000</td>\n",
       "      <td>1900.000</td>\n",
       "      <td>-37.794</td>\n",
       "      <td>144.926</td>\n",
       "      <td>5263.000</td>\n",
       "      <td>0.000</td>\n",
       "      <td>0.000</td>\n",
       "      <td>1.000</td>\n",
       "    </tr>\n",
       "    <tr>\n",
       "      <th>Cove</th>\n",
       "      <td>3.000</td>\n",
       "      <td>1570000.000</td>\n",
       "      <td>3.800</td>\n",
       "      <td>3.000</td>\n",
       "      <td>2.000</td>\n",
       "      <td>1.000</td>\n",
       "      <td>210.000</td>\n",
       "      <td>211.000</td>\n",
       "      <td>1999.000</td>\n",
       "      <td>-37.838</td>\n",
       "      <td>144.927</td>\n",
       "      <td>8648.000</td>\n",
       "      <td>0.000</td>\n",
       "      <td>0.000</td>\n",
       "      <td>0.000</td>\n",
       "    </tr>\n",
       "    <tr>\n",
       "      <th>Grand</th>\n",
       "      <td>4.000</td>\n",
       "      <td>1510500.000</td>\n",
       "      <td>4.300</td>\n",
       "      <td>4.000</td>\n",
       "      <td>2.000</td>\n",
       "      <td>4.000</td>\n",
       "      <td>251.000</td>\n",
       "      <td>nan</td>\n",
       "      <td>nan</td>\n",
       "      <td>-37.784</td>\n",
       "      <td>144.894</td>\n",
       "      <td>4918.000</td>\n",
       "      <td>0.000</td>\n",
       "      <td>0.000</td>\n",
       "      <td>0.000</td>\n",
       "    </tr>\n",
       "    <tr>\n",
       "      <th>Grange</th>\n",
       "      <td>4.000</td>\n",
       "      <td>1365000.000</td>\n",
       "      <td>11.200</td>\n",
       "      <td>4.000</td>\n",
       "      <td>1.000</td>\n",
       "      <td>2.000</td>\n",
       "      <td>720.000</td>\n",
       "      <td>nan</td>\n",
       "      <td>nan</td>\n",
       "      <td>-37.874</td>\n",
       "      <td>145.053</td>\n",
       "      <td>8801.000</td>\n",
       "      <td>0.000</td>\n",
       "      <td>0.000</td>\n",
       "      <td>0.000</td>\n",
       "    </tr>\n",
       "    <tr>\n",
       "      <th>Hth</th>\n",
       "      <td>3.000</td>\n",
       "      <td>1329000.000</td>\n",
       "      <td>16.700</td>\n",
       "      <td>3.000</td>\n",
       "      <td>1.000</td>\n",
       "      <td>1.000</td>\n",
       "      <td>nan</td>\n",
       "      <td>nan</td>\n",
       "      <td>nan</td>\n",
       "      <td>-37.887</td>\n",
       "      <td>145.187</td>\n",
       "      <td>15321.000</td>\n",
       "      <td>1.000</td>\n",
       "      <td>1.000</td>\n",
       "      <td>1.000</td>\n",
       "    </tr>\n",
       "    <tr>\n",
       "      <th>Rdg</th>\n",
       "      <td>3.500</td>\n",
       "      <td>1270000.000</td>\n",
       "      <td>16.100</td>\n",
       "      <td>3.500</td>\n",
       "      <td>1.000</td>\n",
       "      <td>1.000</td>\n",
       "      <td>357.000</td>\n",
       "      <td>87.000</td>\n",
       "      <td>1960.000</td>\n",
       "      <td>-37.805</td>\n",
       "      <td>144.994</td>\n",
       "      <td>7178.500</td>\n",
       "      <td>1.000</td>\n",
       "      <td>1.000</td>\n",
       "      <td>1.000</td>\n",
       "    </tr>\n",
       "    <tr>\n",
       "      <th>Wyn</th>\n",
       "      <td>3.000</td>\n",
       "      <td>1232500.000</td>\n",
       "      <td>14.300</td>\n",
       "      <td>3.000</td>\n",
       "      <td>1.000</td>\n",
       "      <td>1.000</td>\n",
       "      <td>nan</td>\n",
       "      <td>nan</td>\n",
       "      <td>nan</td>\n",
       "      <td>-37.805</td>\n",
       "      <td>144.994</td>\n",
       "      <td>10999.000</td>\n",
       "      <td>1.000</td>\n",
       "      <td>1.000</td>\n",
       "      <td>1.000</td>\n",
       "    </tr>\n",
       "    <tr>\n",
       "      <th>Greenway</th>\n",
       "      <td>3.000</td>\n",
       "      <td>1226000.000</td>\n",
       "      <td>21.300</td>\n",
       "      <td>3.000</td>\n",
       "      <td>1.000</td>\n",
       "      <td>1.000</td>\n",
       "      <td>nan</td>\n",
       "      <td>nan</td>\n",
       "      <td>nan</td>\n",
       "      <td>-37.805</td>\n",
       "      <td>144.994</td>\n",
       "      <td>3794.000</td>\n",
       "      <td>1.000</td>\n",
       "      <td>1.000</td>\n",
       "      <td>1.000</td>\n",
       "    </tr>\n",
       "    <tr>\n",
       "      <th>Righi</th>\n",
       "      <td>3.000</td>\n",
       "      <td>1190000.000</td>\n",
       "      <td>10.300</td>\n",
       "      <td>3.000</td>\n",
       "      <td>1.000</td>\n",
       "      <td>1.000</td>\n",
       "      <td>303.500</td>\n",
       "      <td>148.000</td>\n",
       "      <td>1975.000</td>\n",
       "      <td>-37.805</td>\n",
       "      <td>144.994</td>\n",
       "      <td>1651.000</td>\n",
       "      <td>0.000</td>\n",
       "      <td>0.000</td>\n",
       "      <td>0.000</td>\n",
       "    </tr>\n",
       "    <tr>\n",
       "      <th>Crofts</th>\n",
       "      <td>2.000</td>\n",
       "      <td>1125000.000</td>\n",
       "      <td>2.600</td>\n",
       "      <td>2.000</td>\n",
       "      <td>1.000</td>\n",
       "      <td>0.000</td>\n",
       "      <td>103.000</td>\n",
       "      <td>74.000</td>\n",
       "      <td>1900.000</td>\n",
       "      <td>-37.820</td>\n",
       "      <td>144.991</td>\n",
       "      <td>14949.000</td>\n",
       "      <td>0.000</td>\n",
       "      <td>0.000</td>\n",
       "      <td>0.000</td>\n",
       "    </tr>\n",
       "    <tr>\n",
       "      <th>Summit</th>\n",
       "      <td>4.000</td>\n",
       "      <td>1085000.000</td>\n",
       "      <td>19.900</td>\n",
       "      <td>4.000</td>\n",
       "      <td>2.000</td>\n",
       "      <td>2.000</td>\n",
       "      <td>798.000</td>\n",
       "      <td>nan</td>\n",
       "      <td>nan</td>\n",
       "      <td>-37.794</td>\n",
       "      <td>145.219</td>\n",
       "      <td>3619.000</td>\n",
       "      <td>0.000</td>\n",
       "      <td>0.000</td>\n",
       "      <td>0.000</td>\n",
       "    </tr>\n",
       "    <tr>\n",
       "      <th>East</th>\n",
       "      <td>2.500</td>\n",
       "      <td>1065000.000</td>\n",
       "      <td>3.800</td>\n",
       "      <td>2.500</td>\n",
       "      <td>2.000</td>\n",
       "      <td>0.500</td>\n",
       "      <td>92.000</td>\n",
       "      <td>105.000</td>\n",
       "      <td>1910.000</td>\n",
       "      <td>-37.821</td>\n",
       "      <td>144.970</td>\n",
       "      <td>8648.000</td>\n",
       "      <td>0.500</td>\n",
       "      <td>0.500</td>\n",
       "      <td>0.500</td>\n",
       "    </tr>\n",
       "    <tr>\n",
       "      <th>Qd</th>\n",
       "      <td>3.000</td>\n",
       "      <td>1055500.000</td>\n",
       "      <td>13.800</td>\n",
       "      <td>3.000</td>\n",
       "      <td>1.000</td>\n",
       "      <td>1.000</td>\n",
       "      <td>nan</td>\n",
       "      <td>nan</td>\n",
       "      <td>nan</td>\n",
       "      <td>-37.805</td>\n",
       "      <td>144.994</td>\n",
       "      <td>5420.000</td>\n",
       "      <td>1.000</td>\n",
       "      <td>1.000</td>\n",
       "      <td>1.000</td>\n",
       "    </tr>\n",
       "    <tr>\n",
       "      <th>Strand</th>\n",
       "      <td>2.000</td>\n",
       "      <td>1055000.000</td>\n",
       "      <td>8.000</td>\n",
       "      <td>2.000</td>\n",
       "      <td>1.000</td>\n",
       "      <td>1.000</td>\n",
       "      <td>84.000</td>\n",
       "      <td>207.500</td>\n",
       "      <td>1992.500</td>\n",
       "      <td>-37.858</td>\n",
       "      <td>144.925</td>\n",
       "      <td>6380.000</td>\n",
       "      <td>0.000</td>\n",
       "      <td>0.000</td>\n",
       "      <td>0.000</td>\n",
       "    </tr>\n",
       "    <tr>\n",
       "      <th>Spur</th>\n",
       "      <td>4.000</td>\n",
       "      <td>1032000.000</td>\n",
       "      <td>38.000</td>\n",
       "      <td>4.000</td>\n",
       "      <td>1.000</td>\n",
       "      <td>2.000</td>\n",
       "      <td>nan</td>\n",
       "      <td>nan</td>\n",
       "      <td>nan</td>\n",
       "      <td>-38.158</td>\n",
       "      <td>145.119</td>\n",
       "      <td>7566.000</td>\n",
       "      <td>0.000</td>\n",
       "      <td>0.000</td>\n",
       "      <td>0.000</td>\n",
       "    </tr>\n",
       "    <tr>\n",
       "      <th>Pass</th>\n",
       "      <td>5.000</td>\n",
       "      <td>997000.000</td>\n",
       "      <td>23.000</td>\n",
       "      <td>5.000</td>\n",
       "      <td>3.000</td>\n",
       "      <td>2.000</td>\n",
       "      <td>nan</td>\n",
       "      <td>380.000</td>\n",
       "      <td>1980.000</td>\n",
       "      <td>-37.809</td>\n",
       "      <td>145.265</td>\n",
       "      <td>11925.000</td>\n",
       "      <td>0.000</td>\n",
       "      <td>0.000</td>\n",
       "      <td>0.000</td>\n",
       "    </tr>\n",
       "    <tr>\n",
       "      <th>Glade</th>\n",
       "      <td>3.000</td>\n",
       "      <td>960000.000</td>\n",
       "      <td>13.800</td>\n",
       "      <td>4.000</td>\n",
       "      <td>2.000</td>\n",
       "      <td>2.000</td>\n",
       "      <td>656.000</td>\n",
       "      <td>183.000</td>\n",
       "      <td>1990.000</td>\n",
       "      <td>-37.732</td>\n",
       "      <td>145.100</td>\n",
       "      <td>2698.000</td>\n",
       "      <td>0.000</td>\n",
       "      <td>0.000</td>\n",
       "      <td>0.000</td>\n",
       "    </tr>\n",
       "    <tr>\n",
       "      <th>Outlook</th>\n",
       "      <td>4.000</td>\n",
       "      <td>952000.000</td>\n",
       "      <td>21.300</td>\n",
       "      <td>4.000</td>\n",
       "      <td>1.000</td>\n",
       "      <td>1.000</td>\n",
       "      <td>nan</td>\n",
       "      <td>nan</td>\n",
       "      <td>nan</td>\n",
       "      <td>-37.834</td>\n",
       "      <td>145.248</td>\n",
       "      <td>3794.000</td>\n",
       "      <td>0.000</td>\n",
       "      <td>0.000</td>\n",
       "      <td>0.000</td>\n",
       "    </tr>\n",
       "    <tr>\n",
       "      <th>Gr</th>\n",
       "      <td>3.000</td>\n",
       "      <td>920000.000</td>\n",
       "      <td>10.700</td>\n",
       "      <td>3.000</td>\n",
       "      <td>1.000</td>\n",
       "      <td>2.000</td>\n",
       "      <td>553.000</td>\n",
       "      <td>134.300</td>\n",
       "      <td>1970.000</td>\n",
       "      <td>-37.805</td>\n",
       "      <td>145.027</td>\n",
       "      <td>7113.000</td>\n",
       "      <td>0.000</td>\n",
       "      <td>0.000</td>\n",
       "      <td>0.000</td>\n",
       "    </tr>\n",
       "    <tr>\n",
       "      <th>St</th>\n",
       "      <td>3.000</td>\n",
       "      <td>915000.000</td>\n",
       "      <td>8.400</td>\n",
       "      <td>3.000</td>\n",
       "      <td>1.000</td>\n",
       "      <td>1.000</td>\n",
       "      <td>384.000</td>\n",
       "      <td>120.000</td>\n",
       "      <td>1960.000</td>\n",
       "      <td>-37.805</td>\n",
       "      <td>144.994</td>\n",
       "      <td>6763.000</td>\n",
       "      <td>0.000</td>\n",
       "      <td>0.000</td>\n",
       "      <td>0.000</td>\n",
       "    </tr>\n",
       "    <tr>\n",
       "      <th>Loop</th>\n",
       "      <td>4.000</td>\n",
       "      <td>880000.000</td>\n",
       "      <td>12.100</td>\n",
       "      <td>4.000</td>\n",
       "      <td>3.000</td>\n",
       "      <td>2.000</td>\n",
       "      <td>530.000</td>\n",
       "      <td>530.000</td>\n",
       "      <td>nan</td>\n",
       "      <td>-37.706</td>\n",
       "      <td>144.943</td>\n",
       "      <td>2606.000</td>\n",
       "      <td>0.000</td>\n",
       "      <td>0.000</td>\n",
       "      <td>0.000</td>\n",
       "    </tr>\n",
       "    <tr>\n",
       "      <th>Dell</th>\n",
       "      <td>4.000</td>\n",
       "      <td>859000.000</td>\n",
       "      <td>23.000</td>\n",
       "      <td>4.000</td>\n",
       "      <td>2.000</td>\n",
       "      <td>3.000</td>\n",
       "      <td>660.000</td>\n",
       "      <td>nan</td>\n",
       "      <td>nan</td>\n",
       "      <td>-37.764</td>\n",
       "      <td>145.280</td>\n",
       "      <td>2985.000</td>\n",
       "      <td>0.000</td>\n",
       "      <td>0.000</td>\n",
       "      <td>0.000</td>\n",
       "    </tr>\n",
       "    <tr>\n",
       "      <th>Av</th>\n",
       "      <td>3.000</td>\n",
       "      <td>846000.000</td>\n",
       "      <td>12.000</td>\n",
       "      <td>3.000</td>\n",
       "      <td>1.000</td>\n",
       "      <td>1.000</td>\n",
       "      <td>582.000</td>\n",
       "      <td>140.000</td>\n",
       "      <td>1975.000</td>\n",
       "      <td>-37.805</td>\n",
       "      <td>144.994</td>\n",
       "      <td>6871.000</td>\n",
       "      <td>1.000</td>\n",
       "      <td>1.000</td>\n",
       "      <td>1.000</td>\n",
       "    </tr>\n",
       "    <tr>\n",
       "      <th>Tce</th>\n",
       "      <td>3.000</td>\n",
       "      <td>845000.000</td>\n",
       "      <td>11.200</td>\n",
       "      <td>3.000</td>\n",
       "      <td>1.000</td>\n",
       "      <td>2.000</td>\n",
       "      <td>397.500</td>\n",
       "      <td>151.000</td>\n",
       "      <td>1997.500</td>\n",
       "      <td>-37.793</td>\n",
       "      <td>144.943</td>\n",
       "      <td>7485.000</td>\n",
       "      <td>0.000</td>\n",
       "      <td>0.000</td>\n",
       "      <td>0.000</td>\n",
       "    </tr>\n",
       "    <tr>\n",
       "      <th>Prm</th>\n",
       "      <td>4.000</td>\n",
       "      <td>842490.000</td>\n",
       "      <td>27.000</td>\n",
       "      <td>4.000</td>\n",
       "      <td>1.000</td>\n",
       "      <td>1.000</td>\n",
       "      <td>nan</td>\n",
       "      <td>nan</td>\n",
       "      <td>nan</td>\n",
       "      <td>-37.805</td>\n",
       "      <td>144.994</td>\n",
       "      <td>3906.000</td>\n",
       "      <td>1.000</td>\n",
       "      <td>1.000</td>\n",
       "      <td>1.000</td>\n",
       "    </tr>\n",
       "    <tr>\n",
       "      <th>Parks</th>\n",
       "      <td>4.000</td>\n",
       "      <td>840000.000</td>\n",
       "      <td>18.000</td>\n",
       "      <td>4.000</td>\n",
       "      <td>3.000</td>\n",
       "      <td>3.000</td>\n",
       "      <td>619.000</td>\n",
       "      <td>275.000</td>\n",
       "      <td>2011.000</td>\n",
       "      <td>-37.690</td>\n",
       "      <td>144.744</td>\n",
       "      <td>5556.000</td>\n",
       "      <td>0.000</td>\n",
       "      <td>0.000</td>\n",
       "      <td>0.000</td>\n",
       "    </tr>\n",
       "    <tr>\n",
       "      <th>Skyline</th>\n",
       "      <td>4.000</td>\n",
       "      <td>825000.000</td>\n",
       "      <td>31.700</td>\n",
       "      <td>4.000</td>\n",
       "      <td>2.000</td>\n",
       "      <td>2.000</td>\n",
       "      <td>nan</td>\n",
       "      <td>298.000</td>\n",
       "      <td>2005.000</td>\n",
       "      <td>-37.565</td>\n",
       "      <td>144.749</td>\n",
       "      <td>14092.000</td>\n",
       "      <td>0.000</td>\n",
       "      <td>0.000</td>\n",
       "      <td>0.000</td>\n",
       "    </tr>\n",
       "    <tr>\n",
       "      <th>Vw</th>\n",
       "      <td>4.000</td>\n",
       "      <td>823500.000</td>\n",
       "      <td>20.100</td>\n",
       "      <td>4.000</td>\n",
       "      <td>1.000</td>\n",
       "      <td>1.000</td>\n",
       "      <td>nan</td>\n",
       "      <td>nan</td>\n",
       "      <td>nan</td>\n",
       "      <td>-37.805</td>\n",
       "      <td>144.994</td>\n",
       "      <td>9411.500</td>\n",
       "      <td>1.000</td>\n",
       "      <td>1.000</td>\n",
       "      <td>1.000</td>\n",
       "    </tr>\n",
       "    <tr>\n",
       "      <th>La</th>\n",
       "      <td>3.000</td>\n",
       "      <td>815000.000</td>\n",
       "      <td>8.000</td>\n",
       "      <td>3.000</td>\n",
       "      <td>2.000</td>\n",
       "      <td>1.000</td>\n",
       "      <td>254.000</td>\n",
       "      <td>137.000</td>\n",
       "      <td>2000.000</td>\n",
       "      <td>-37.801</td>\n",
       "      <td>144.974</td>\n",
       "      <td>6380.000</td>\n",
       "      <td>0.000</td>\n",
       "      <td>0.000</td>\n",
       "      <td>0.000</td>\n",
       "    </tr>\n",
       "    <tr>\n",
       "      <th>Ri</th>\n",
       "      <td>3.000</td>\n",
       "      <td>815000.000</td>\n",
       "      <td>19.600</td>\n",
       "      <td>3.000</td>\n",
       "      <td>1.000</td>\n",
       "      <td>1.000</td>\n",
       "      <td>nan</td>\n",
       "      <td>nan</td>\n",
       "      <td>nan</td>\n",
       "      <td>-37.805</td>\n",
       "      <td>144.994</td>\n",
       "      <td>6202.000</td>\n",
       "      <td>1.000</td>\n",
       "      <td>1.000</td>\n",
       "      <td>1.000</td>\n",
       "    </tr>\n",
       "    <tr>\n",
       "      <th>Eyrie</th>\n",
       "      <td>4.000</td>\n",
       "      <td>810000.000</td>\n",
       "      <td>18.000</td>\n",
       "      <td>4.000</td>\n",
       "      <td>2.000</td>\n",
       "      <td>2.000</td>\n",
       "      <td>838.000</td>\n",
       "      <td>nan</td>\n",
       "      <td>nan</td>\n",
       "      <td>-37.696</td>\n",
       "      <td>145.158</td>\n",
       "      <td>6990.000</td>\n",
       "      <td>0.000</td>\n",
       "      <td>0.000</td>\n",
       "      <td>0.000</td>\n",
       "    </tr>\n",
       "    <tr>\n",
       "      <th>Rd</th>\n",
       "      <td>3.000</td>\n",
       "      <td>805000.000</td>\n",
       "      <td>10.500</td>\n",
       "      <td>3.000</td>\n",
       "      <td>1.000</td>\n",
       "      <td>1.000</td>\n",
       "      <td>513.500</td>\n",
       "      <td>121.000</td>\n",
       "      <td>1970.000</td>\n",
       "      <td>-37.805</td>\n",
       "      <td>145.011</td>\n",
       "      <td>6543.000</td>\n",
       "      <td>0.000</td>\n",
       "      <td>0.000</td>\n",
       "      <td>0.000</td>\n",
       "    </tr>\n",
       "    <tr>\n",
       "      <th>Mw</th>\n",
       "      <td>3.000</td>\n",
       "      <td>789375.000</td>\n",
       "      <td>5.500</td>\n",
       "      <td>3.000</td>\n",
       "      <td>1.000</td>\n",
       "      <td>1.000</td>\n",
       "      <td>653.000</td>\n",
       "      <td>181.000</td>\n",
       "      <td>2002.000</td>\n",
       "      <td>-37.805</td>\n",
       "      <td>144.994</td>\n",
       "      <td>7395.000</td>\n",
       "      <td>1.000</td>\n",
       "      <td>1.000</td>\n",
       "      <td>1.000</td>\n",
       "    </tr>\n",
       "    <tr>\n",
       "      <th>Hub</th>\n",
       "      <td>3.000</td>\n",
       "      <td>781500.000</td>\n",
       "      <td>18.000</td>\n",
       "      <td>3.000</td>\n",
       "      <td>2.000</td>\n",
       "      <td>2.000</td>\n",
       "      <td>nan</td>\n",
       "      <td>nan</td>\n",
       "      <td>nan</td>\n",
       "      <td>-37.702</td>\n",
       "      <td>144.753</td>\n",
       "      <td>5556.000</td>\n",
       "      <td>0.000</td>\n",
       "      <td>0.000</td>\n",
       "      <td>0.000</td>\n",
       "    </tr>\n",
       "    <tr>\n",
       "      <th>Crossway</th>\n",
       "      <td>3.000</td>\n",
       "      <td>780000.000</td>\n",
       "      <td>11.700</td>\n",
       "      <td>3.000</td>\n",
       "      <td>1.000</td>\n",
       "      <td>2.000</td>\n",
       "      <td>568.000</td>\n",
       "      <td>113.000</td>\n",
       "      <td>1986.500</td>\n",
       "      <td>-37.746</td>\n",
       "      <td>144.861</td>\n",
       "      <td>5629.000</td>\n",
       "      <td>0.000</td>\n",
       "      <td>0.000</td>\n",
       "      <td>0.000</td>\n",
       "    </tr>\n",
       "    <tr>\n",
       "      <th>Pde</th>\n",
       "      <td>3.000</td>\n",
       "      <td>772500.000</td>\n",
       "      <td>9.400</td>\n",
       "      <td>3.000</td>\n",
       "      <td>1.000</td>\n",
       "      <td>1.000</td>\n",
       "      <td>478.000</td>\n",
       "      <td>126.000</td>\n",
       "      <td>1965.000</td>\n",
       "      <td>-37.798</td>\n",
       "      <td>144.994</td>\n",
       "      <td>5997.500</td>\n",
       "      <td>0.000</td>\n",
       "      <td>0.000</td>\n",
       "      <td>0.000</td>\n",
       "    </tr>\n",
       "    <tr>\n",
       "      <th>Nk</th>\n",
       "      <td>5.000</td>\n",
       "      <td>771000.000</td>\n",
       "      <td>14.800</td>\n",
       "      <td>5.000</td>\n",
       "      <td>1.000</td>\n",
       "      <td>1.000</td>\n",
       "      <td>nan</td>\n",
       "      <td>nan</td>\n",
       "      <td>nan</td>\n",
       "      <td>-37.805</td>\n",
       "      <td>144.994</td>\n",
       "      <td>6388.000</td>\n",
       "      <td>1.000</td>\n",
       "      <td>1.000</td>\n",
       "      <td>1.000</td>\n",
       "    </tr>\n",
       "    <tr>\n",
       "      <th>Hwy</th>\n",
       "      <td>3.000</td>\n",
       "      <td>770000.000</td>\n",
       "      <td>16.000</td>\n",
       "      <td>3.000</td>\n",
       "      <td>1.000</td>\n",
       "      <td>1.000</td>\n",
       "      <td>424.000</td>\n",
       "      <td>122.500</td>\n",
       "      <td>1970.000</td>\n",
       "      <td>-37.850</td>\n",
       "      <td>145.025</td>\n",
       "      <td>5087.000</td>\n",
       "      <td>0.000</td>\n",
       "      <td>0.000</td>\n",
       "      <td>0.000</td>\n",
       "    </tr>\n",
       "    <tr>\n",
       "      <th>Ct</th>\n",
       "      <td>3.000</td>\n",
       "      <td>770000.000</td>\n",
       "      <td>15.500</td>\n",
       "      <td>3.000</td>\n",
       "      <td>2.000</td>\n",
       "      <td>2.000</td>\n",
       "      <td>627.000</td>\n",
       "      <td>148.000</td>\n",
       "      <td>1980.000</td>\n",
       "      <td>-37.796</td>\n",
       "      <td>145.031</td>\n",
       "      <td>6202.000</td>\n",
       "      <td>0.000</td>\n",
       "      <td>0.000</td>\n",
       "      <td>0.000</td>\n",
       "    </tr>\n",
       "    <tr>\n",
       "      <th>Cr</th>\n",
       "      <td>3.000</td>\n",
       "      <td>741000.000</td>\n",
       "      <td>14.000</td>\n",
       "      <td>3.000</td>\n",
       "      <td>1.000</td>\n",
       "      <td>1.000</td>\n",
       "      <td>597.000</td>\n",
       "      <td>150.000</td>\n",
       "      <td>1980.000</td>\n",
       "      <td>-37.805</td>\n",
       "      <td>144.994</td>\n",
       "      <td>6380.000</td>\n",
       "      <td>0.000</td>\n",
       "      <td>0.000</td>\n",
       "      <td>0.000</td>\n",
       "    </tr>\n",
       "    <tr>\n",
       "      <th>Rt</th>\n",
       "      <td>4.000</td>\n",
       "      <td>740000.000</td>\n",
       "      <td>11.800</td>\n",
       "      <td>4.000</td>\n",
       "      <td>1.000</td>\n",
       "      <td>1.000</td>\n",
       "      <td>nan</td>\n",
       "      <td>nan</td>\n",
       "      <td>nan</td>\n",
       "      <td>-37.805</td>\n",
       "      <td>144.994</td>\n",
       "      <td>4480.000</td>\n",
       "      <td>1.000</td>\n",
       "      <td>1.000</td>\n",
       "      <td>1.000</td>\n",
       "    </tr>\n",
       "    <tr>\n",
       "      <th>Pl</th>\n",
       "      <td>3.000</td>\n",
       "      <td>735000.000</td>\n",
       "      <td>13.800</td>\n",
       "      <td>3.000</td>\n",
       "      <td>2.000</td>\n",
       "      <td>2.000</td>\n",
       "      <td>537.500</td>\n",
       "      <td>156.000</td>\n",
       "      <td>1995.000</td>\n",
       "      <td>-37.800</td>\n",
       "      <td>144.994</td>\n",
       "      <td>7036.000</td>\n",
       "      <td>0.000</td>\n",
       "      <td>0.000</td>\n",
       "      <td>0.000</td>\n",
       "    </tr>\n",
       "    <tr>\n",
       "      <th>Grove</th>\n",
       "      <td>2.500</td>\n",
       "      <td>730750.000</td>\n",
       "      <td>6.700</td>\n",
       "      <td>2.500</td>\n",
       "      <td>1.000</td>\n",
       "      <td>1.000</td>\n",
       "      <td>103.000</td>\n",
       "      <td>140.000</td>\n",
       "      <td>1984.000</td>\n",
       "      <td>-37.753</td>\n",
       "      <td>144.977</td>\n",
       "      <td>11204.000</td>\n",
       "      <td>0.000</td>\n",
       "      <td>0.000</td>\n",
       "      <td>0.000</td>\n",
       "    </tr>\n",
       "    <tr>\n",
       "      <th>Gwy</th>\n",
       "      <td>2.500</td>\n",
       "      <td>730000.000</td>\n",
       "      <td>12.250</td>\n",
       "      <td>2.500</td>\n",
       "      <td>1.000</td>\n",
       "      <td>1.000</td>\n",
       "      <td>nan</td>\n",
       "      <td>nan</td>\n",
       "      <td>nan</td>\n",
       "      <td>-37.775</td>\n",
       "      <td>144.924</td>\n",
       "      <td>5629.000</td>\n",
       "      <td>1.000</td>\n",
       "      <td>1.000</td>\n",
       "      <td>1.000</td>\n",
       "    </tr>\n",
       "    <tr>\n",
       "      <th>Dr</th>\n",
       "      <td>3.000</td>\n",
       "      <td>721000.000</td>\n",
       "      <td>16.300</td>\n",
       "      <td>3.000</td>\n",
       "      <td>2.000</td>\n",
       "      <td>2.000</td>\n",
       "      <td>573.500</td>\n",
       "      <td>154.000</td>\n",
       "      <td>1988.000</td>\n",
       "      <td>-37.775</td>\n",
       "      <td>144.994</td>\n",
       "      <td>6202.000</td>\n",
       "      <td>0.000</td>\n",
       "      <td>0.000</td>\n",
       "      <td>0.000</td>\n",
       "    </tr>\n",
       "    <tr>\n",
       "      <th>Gra</th>\n",
       "      <td>4.000</td>\n",
       "      <td>720500.000</td>\n",
       "      <td>23.150</td>\n",
       "      <td>4.000</td>\n",
       "      <td>2.000</td>\n",
       "      <td>1.500</td>\n",
       "      <td>508.000</td>\n",
       "      <td>230.000</td>\n",
       "      <td>2011.000</td>\n",
       "      <td>-37.613</td>\n",
       "      <td>145.038</td>\n",
       "      <td>5338.000</td>\n",
       "      <td>0.000</td>\n",
       "      <td>0.000</td>\n",
       "      <td>0.000</td>\n",
       "    </tr>\n",
       "    <tr>\n",
       "      <th>Cl</th>\n",
       "      <td>3.000</td>\n",
       "      <td>720000.000</td>\n",
       "      <td>17.200</td>\n",
       "      <td>3.000</td>\n",
       "      <td>2.000</td>\n",
       "      <td>2.000</td>\n",
       "      <td>591.000</td>\n",
       "      <td>167.000</td>\n",
       "      <td>1990.000</td>\n",
       "      <td>-37.805</td>\n",
       "      <td>144.994</td>\n",
       "      <td>5556.000</td>\n",
       "      <td>0.000</td>\n",
       "      <td>0.000</td>\n",
       "      <td>0.000</td>\n",
       "    </tr>\n",
       "    <tr>\n",
       "      <th>Bvd</th>\n",
       "      <td>4.000</td>\n",
       "      <td>716000.000</td>\n",
       "      <td>15.300</td>\n",
       "      <td>3.000</td>\n",
       "      <td>2.000</td>\n",
       "      <td>2.000</td>\n",
       "      <td>528.000</td>\n",
       "      <td>169.500</td>\n",
       "      <td>2001.000</td>\n",
       "      <td>-37.709</td>\n",
       "      <td>144.994</td>\n",
       "      <td>8400.000</td>\n",
       "      <td>0.000</td>\n",
       "      <td>0.000</td>\n",
       "      <td>0.000</td>\n",
       "    </tr>\n",
       "    <tr>\n",
       "      <th>Sq</th>\n",
       "      <td>3.000</td>\n",
       "      <td>715000.000</td>\n",
       "      <td>9.500</td>\n",
       "      <td>3.000</td>\n",
       "      <td>2.000</td>\n",
       "      <td>1.000</td>\n",
       "      <td>344.000</td>\n",
       "      <td>192.000</td>\n",
       "      <td>1997.000</td>\n",
       "      <td>-37.805</td>\n",
       "      <td>144.974</td>\n",
       "      <td>6990.000</td>\n",
       "      <td>0.000</td>\n",
       "      <td>0.000</td>\n",
       "      <td>0.000</td>\n",
       "    </tr>\n",
       "    <tr>\n",
       "      <th>Mews</th>\n",
       "      <td>3.000</td>\n",
       "      <td>710000.000</td>\n",
       "      <td>13.500</td>\n",
       "      <td>3.000</td>\n",
       "      <td>1.000</td>\n",
       "      <td>4.000</td>\n",
       "      <td>990.000</td>\n",
       "      <td>nan</td>\n",
       "      <td>nan</td>\n",
       "      <td>-37.793</td>\n",
       "      <td>144.807</td>\n",
       "      <td>6763.000</td>\n",
       "      <td>0.000</td>\n",
       "      <td>0.000</td>\n",
       "      <td>0.000</td>\n",
       "    </tr>\n",
       "    <tr>\n",
       "      <th>Brk</th>\n",
       "      <td>2.000</td>\n",
       "      <td>706000.000</td>\n",
       "      <td>22.200</td>\n",
       "      <td>2.000</td>\n",
       "      <td>1.000</td>\n",
       "      <td>1.000</td>\n",
       "      <td>nan</td>\n",
       "      <td>nan</td>\n",
       "      <td>nan</td>\n",
       "      <td>-37.805</td>\n",
       "      <td>144.994</td>\n",
       "      <td>3940.000</td>\n",
       "      <td>1.000</td>\n",
       "      <td>1.000</td>\n",
       "      <td>1.000</td>\n",
       "    </tr>\n",
       "    <tr>\n",
       "      <th>Fairway</th>\n",
       "      <td>3.500</td>\n",
       "      <td>705000.500</td>\n",
       "      <td>12.250</td>\n",
       "      <td>3.500</td>\n",
       "      <td>1.500</td>\n",
       "      <td>1.500</td>\n",
       "      <td>467.000</td>\n",
       "      <td>136.500</td>\n",
       "      <td>1970.000</td>\n",
       "      <td>-37.713</td>\n",
       "      <td>145.030</td>\n",
       "      <td>1414.000</td>\n",
       "      <td>0.000</td>\n",
       "      <td>0.000</td>\n",
       "      <td>0.000</td>\n",
       "    </tr>\n",
       "    <tr>\n",
       "      <th>Grn</th>\n",
       "      <td>4.000</td>\n",
       "      <td>695000.000</td>\n",
       "      <td>14.800</td>\n",
       "      <td>4.000</td>\n",
       "      <td>2.000</td>\n",
       "      <td>2.000</td>\n",
       "      <td>602.000</td>\n",
       "      <td>222.000</td>\n",
       "      <td>2007.000</td>\n",
       "      <td>-37.728</td>\n",
       "      <td>144.740</td>\n",
       "      <td>7719.000</td>\n",
       "      <td>0.000</td>\n",
       "      <td>0.000</td>\n",
       "      <td>0.000</td>\n",
       "    </tr>\n",
       "    <tr>\n",
       "      <th>Wky</th>\n",
       "      <td>2.000</td>\n",
       "      <td>675000.000</td>\n",
       "      <td>4.000</td>\n",
       "      <td>2.000</td>\n",
       "      <td>1.000</td>\n",
       "      <td>1.000</td>\n",
       "      <td>nan</td>\n",
       "      <td>nan</td>\n",
       "      <td>nan</td>\n",
       "      <td>-37.805</td>\n",
       "      <td>144.994</td>\n",
       "      <td>5533.000</td>\n",
       "      <td>1.000</td>\n",
       "      <td>1.000</td>\n",
       "      <td>1.000</td>\n",
       "    </tr>\n",
       "    <tr>\n",
       "      <th>App</th>\n",
       "      <td>4.000</td>\n",
       "      <td>675000.000</td>\n",
       "      <td>14.800</td>\n",
       "      <td>4.000</td>\n",
       "      <td>1.000</td>\n",
       "      <td>1.000</td>\n",
       "      <td>nan</td>\n",
       "      <td>nan</td>\n",
       "      <td>nan</td>\n",
       "      <td>-37.805</td>\n",
       "      <td>144.994</td>\n",
       "      <td>7719.000</td>\n",
       "      <td>1.000</td>\n",
       "      <td>1.000</td>\n",
       "      <td>1.000</td>\n",
       "    </tr>\n",
       "    <tr>\n",
       "      <th>Wk</th>\n",
       "      <td>3.000</td>\n",
       "      <td>665000.000</td>\n",
       "      <td>10.400</td>\n",
       "      <td>3.000</td>\n",
       "      <td>1.000</td>\n",
       "      <td>1.000</td>\n",
       "      <td>nan</td>\n",
       "      <td>nan</td>\n",
       "      <td>nan</td>\n",
       "      <td>-37.805</td>\n",
       "      <td>144.994</td>\n",
       "      <td>5833.000</td>\n",
       "      <td>1.000</td>\n",
       "      <td>1.000</td>\n",
       "      <td>1.000</td>\n",
       "    </tr>\n",
       "    <tr>\n",
       "      <th>Cct</th>\n",
       "      <td>3.000</td>\n",
       "      <td>660750.000</td>\n",
       "      <td>17.900</td>\n",
       "      <td>3.000</td>\n",
       "      <td>2.000</td>\n",
       "      <td>2.000</td>\n",
       "      <td>400.000</td>\n",
       "      <td>150.000</td>\n",
       "      <td>2008.000</td>\n",
       "      <td>-37.733</td>\n",
       "      <td>144.984</td>\n",
       "      <td>7396.500</td>\n",
       "      <td>0.000</td>\n",
       "      <td>0.000</td>\n",
       "      <td>0.000</td>\n",
       "    </tr>\n",
       "    <tr>\n",
       "      <th>Wy</th>\n",
       "      <td>3.000</td>\n",
       "      <td>658000.000</td>\n",
       "      <td>18.000</td>\n",
       "      <td>3.000</td>\n",
       "      <td>2.000</td>\n",
       "      <td>1.500</td>\n",
       "      <td>512.000</td>\n",
       "      <td>163.000</td>\n",
       "      <td>2005.500</td>\n",
       "      <td>-37.805</td>\n",
       "      <td>144.994</td>\n",
       "      <td>5556.000</td>\n",
       "      <td>0.000</td>\n",
       "      <td>0.000</td>\n",
       "      <td>0.000</td>\n",
       "    </tr>\n",
       "    <tr>\n",
       "      <th>West</th>\n",
       "      <td>1.000</td>\n",
       "      <td>637000.000</td>\n",
       "      <td>3.500</td>\n",
       "      <td>1.000</td>\n",
       "      <td>1.000</td>\n",
       "      <td>1.000</td>\n",
       "      <td>nan</td>\n",
       "      <td>nan</td>\n",
       "      <td>nan</td>\n",
       "      <td>-37.805</td>\n",
       "      <td>144.994</td>\n",
       "      <td>8648.000</td>\n",
       "      <td>1.000</td>\n",
       "      <td>1.000</td>\n",
       "      <td>1.000</td>\n",
       "    </tr>\n",
       "    <tr>\n",
       "      <th>Al</th>\n",
       "      <td>3.000</td>\n",
       "      <td>633000.000</td>\n",
       "      <td>20.400</td>\n",
       "      <td>3.000</td>\n",
       "      <td>1.000</td>\n",
       "      <td>1.000</td>\n",
       "      <td>nan</td>\n",
       "      <td>nan</td>\n",
       "      <td>nan</td>\n",
       "      <td>-37.805</td>\n",
       "      <td>144.994</td>\n",
       "      <td>4864.000</td>\n",
       "      <td>1.000</td>\n",
       "      <td>1.000</td>\n",
       "      <td>1.000</td>\n",
       "    </tr>\n",
       "    <tr>\n",
       "      <th>Gdns</th>\n",
       "      <td>4.000</td>\n",
       "      <td>630000.000</td>\n",
       "      <td>14.700</td>\n",
       "      <td>4.000</td>\n",
       "      <td>2.000</td>\n",
       "      <td>2.000</td>\n",
       "      <td>448.000</td>\n",
       "      <td>149.450</td>\n",
       "      <td>2007.500</td>\n",
       "      <td>-37.764</td>\n",
       "      <td>144.981</td>\n",
       "      <td>5812.000</td>\n",
       "      <td>0.000</td>\n",
       "      <td>0.000</td>\n",
       "      <td>0.000</td>\n",
       "    </tr>\n",
       "    <tr>\n",
       "      <th>Esp</th>\n",
       "      <td>2.000</td>\n",
       "      <td>626750.000</td>\n",
       "      <td>8.200</td>\n",
       "      <td>2.000</td>\n",
       "      <td>1.000</td>\n",
       "      <td>1.000</td>\n",
       "      <td>350.000</td>\n",
       "      <td>90.000</td>\n",
       "      <td>1975.000</td>\n",
       "      <td>-37.788</td>\n",
       "      <td>144.989</td>\n",
       "      <td>3941.000</td>\n",
       "      <td>0.000</td>\n",
       "      <td>0.000</td>\n",
       "      <td>0.000</td>\n",
       "    </tr>\n",
       "    <tr>\n",
       "      <th>Bnd</th>\n",
       "      <td>3.000</td>\n",
       "      <td>625000.000</td>\n",
       "      <td>11.800</td>\n",
       "      <td>3.000</td>\n",
       "      <td>1.000</td>\n",
       "      <td>1.000</td>\n",
       "      <td>nan</td>\n",
       "      <td>nan</td>\n",
       "      <td>nan</td>\n",
       "      <td>-37.805</td>\n",
       "      <td>144.994</td>\n",
       "      <td>4864.000</td>\n",
       "      <td>1.000</td>\n",
       "      <td>1.000</td>\n",
       "      <td>1.000</td>\n",
       "    </tr>\n",
       "    <tr>\n",
       "      <th>Pky</th>\n",
       "      <td>3.000</td>\n",
       "      <td>603125.000</td>\n",
       "      <td>16.550</td>\n",
       "      <td>3.000</td>\n",
       "      <td>1.000</td>\n",
       "      <td>1.000</td>\n",
       "      <td>nan</td>\n",
       "      <td>nan</td>\n",
       "      <td>nan</td>\n",
       "      <td>-37.805</td>\n",
       "      <td>144.994</td>\n",
       "      <td>12851.000</td>\n",
       "      <td>1.000</td>\n",
       "      <td>1.000</td>\n",
       "      <td>1.000</td>\n",
       "    </tr>\n",
       "    <tr>\n",
       "      <th>Pt</th>\n",
       "      <td>3.000</td>\n",
       "      <td>591000.000</td>\n",
       "      <td>20.500</td>\n",
       "      <td>3.000</td>\n",
       "      <td>1.000</td>\n",
       "      <td>1.000</td>\n",
       "      <td>nan</td>\n",
       "      <td>nan</td>\n",
       "      <td>nan</td>\n",
       "      <td>-37.805</td>\n",
       "      <td>144.994</td>\n",
       "      <td>7969.000</td>\n",
       "      <td>1.000</td>\n",
       "      <td>1.000</td>\n",
       "      <td>1.000</td>\n",
       "    </tr>\n",
       "    <tr>\n",
       "      <th>Mears</th>\n",
       "      <td>3.000</td>\n",
       "      <td>584000.000</td>\n",
       "      <td>19.600</td>\n",
       "      <td>3.000</td>\n",
       "      <td>1.000</td>\n",
       "      <td>1.000</td>\n",
       "      <td>598.000</td>\n",
       "      <td>nan</td>\n",
       "      <td>nan</td>\n",
       "      <td>-37.639</td>\n",
       "      <td>145.050</td>\n",
       "      <td>10926.000</td>\n",
       "      <td>0.000</td>\n",
       "      <td>0.000</td>\n",
       "      <td>0.000</td>\n",
       "    </tr>\n",
       "    <tr>\n",
       "      <th>Crest</th>\n",
       "      <td>4.000</td>\n",
       "      <td>578000.000</td>\n",
       "      <td>16.500</td>\n",
       "      <td>4.000</td>\n",
       "      <td>2.000</td>\n",
       "      <td>2.000</td>\n",
       "      <td>335.000</td>\n",
       "      <td>137.000</td>\n",
       "      <td>2001.000</td>\n",
       "      <td>-37.673</td>\n",
       "      <td>144.889</td>\n",
       "      <td>1130.000</td>\n",
       "      <td>0.000</td>\n",
       "      <td>0.000</td>\n",
       "      <td>0.000</td>\n",
       "    </tr>\n",
       "    <tr>\n",
       "      <th>Gln</th>\n",
       "      <td>3.000</td>\n",
       "      <td>571000.000</td>\n",
       "      <td>16.100</td>\n",
       "      <td>3.000</td>\n",
       "      <td>1.000</td>\n",
       "      <td>1.000</td>\n",
       "      <td>nan</td>\n",
       "      <td>nan</td>\n",
       "      <td>nan</td>\n",
       "      <td>-37.805</td>\n",
       "      <td>144.994</td>\n",
       "      <td>10160.000</td>\n",
       "      <td>1.000</td>\n",
       "      <td>1.000</td>\n",
       "      <td>1.000</td>\n",
       "    </tr>\n",
       "    <tr>\n",
       "      <th>Out</th>\n",
       "      <td>3.000</td>\n",
       "      <td>567000.000</td>\n",
       "      <td>19.600</td>\n",
       "      <td>3.000</td>\n",
       "      <td>1.000</td>\n",
       "      <td>1.000</td>\n",
       "      <td>nan</td>\n",
       "      <td>nan</td>\n",
       "      <td>nan</td>\n",
       "      <td>-37.805</td>\n",
       "      <td>144.994</td>\n",
       "      <td>10926.000</td>\n",
       "      <td>1.000</td>\n",
       "      <td>1.000</td>\n",
       "      <td>1.000</td>\n",
       "    </tr>\n",
       "    <tr>\n",
       "      <th>Lairidge</th>\n",
       "      <td>2.000</td>\n",
       "      <td>564000.000</td>\n",
       "      <td>4.200</td>\n",
       "      <td>2.000</td>\n",
       "      <td>1.000</td>\n",
       "      <td>1.000</td>\n",
       "      <td>nan</td>\n",
       "      <td>nan</td>\n",
       "      <td>nan</td>\n",
       "      <td>-37.805</td>\n",
       "      <td>144.994</td>\n",
       "      <td>5263.000</td>\n",
       "      <td>1.000</td>\n",
       "      <td>1.000</td>\n",
       "      <td>1.000</td>\n",
       "    </tr>\n",
       "    <tr>\n",
       "      <th>Gld</th>\n",
       "      <td>4.000</td>\n",
       "      <td>561000.000</td>\n",
       "      <td>14.700</td>\n",
       "      <td>4.000</td>\n",
       "      <td>2.000</td>\n",
       "      <td>2.000</td>\n",
       "      <td>nan</td>\n",
       "      <td>225.000</td>\n",
       "      <td>2010.000</td>\n",
       "      <td>-37.791</td>\n",
       "      <td>144.758</td>\n",
       "      <td>2276.000</td>\n",
       "      <td>0.000</td>\n",
       "      <td>0.000</td>\n",
       "      <td>0.000</td>\n",
       "    </tr>\n",
       "    <tr>\n",
       "      <th>Lp</th>\n",
       "      <td>3.000</td>\n",
       "      <td>560000.000</td>\n",
       "      <td>20.600</td>\n",
       "      <td>3.000</td>\n",
       "      <td>1.000</td>\n",
       "      <td>1.000</td>\n",
       "      <td>nan</td>\n",
       "      <td>nan</td>\n",
       "      <td>nan</td>\n",
       "      <td>-37.805</td>\n",
       "      <td>144.994</td>\n",
       "      <td>15510.000</td>\n",
       "      <td>1.000</td>\n",
       "      <td>1.000</td>\n",
       "      <td>1.000</td>\n",
       "    </tr>\n",
       "    <tr>\n",
       "      <th>Crse</th>\n",
       "      <td>3.000</td>\n",
       "      <td>551500.000</td>\n",
       "      <td>17.900</td>\n",
       "      <td>3.000</td>\n",
       "      <td>1.000</td>\n",
       "      <td>1.000</td>\n",
       "      <td>nan</td>\n",
       "      <td>nan</td>\n",
       "      <td>nan</td>\n",
       "      <td>-37.656</td>\n",
       "      <td>145.065</td>\n",
       "      <td>10529.000</td>\n",
       "      <td>1.000</td>\n",
       "      <td>1.000</td>\n",
       "      <td>1.000</td>\n",
       "    </tr>\n",
       "    <tr>\n",
       "      <th>Qy</th>\n",
       "      <td>2.000</td>\n",
       "      <td>540000.000</td>\n",
       "      <td>1.200</td>\n",
       "      <td>2.000</td>\n",
       "      <td>2.000</td>\n",
       "      <td>1.000</td>\n",
       "      <td>0.000</td>\n",
       "      <td>93.000</td>\n",
       "      <td>1994.000</td>\n",
       "      <td>-37.822</td>\n",
       "      <td>144.964</td>\n",
       "      <td>8400.000</td>\n",
       "      <td>0.000</td>\n",
       "      <td>0.000</td>\n",
       "      <td>0.000</td>\n",
       "    </tr>\n",
       "    <tr>\n",
       "      <th>Ch</th>\n",
       "      <td>3.500</td>\n",
       "      <td>537500.000</td>\n",
       "      <td>23.400</td>\n",
       "      <td>3.500</td>\n",
       "      <td>2.000</td>\n",
       "      <td>1.500</td>\n",
       "      <td>nan</td>\n",
       "      <td>162.000</td>\n",
       "      <td>2010.000</td>\n",
       "      <td>-37.770</td>\n",
       "      <td>144.741</td>\n",
       "      <td>8094.000</td>\n",
       "      <td>0.000</td>\n",
       "      <td>0.000</td>\n",
       "      <td>0.000</td>\n",
       "    </tr>\n",
       "    <tr>\n",
       "      <th>Ps</th>\n",
       "      <td>3.000</td>\n",
       "      <td>530000.000</td>\n",
       "      <td>20.600</td>\n",
       "      <td>3.000</td>\n",
       "      <td>1.000</td>\n",
       "      <td>1.000</td>\n",
       "      <td>nan</td>\n",
       "      <td>nan</td>\n",
       "      <td>nan</td>\n",
       "      <td>-37.805</td>\n",
       "      <td>144.994</td>\n",
       "      <td>15510.000</td>\n",
       "      <td>1.000</td>\n",
       "      <td>1.000</td>\n",
       "      <td>1.000</td>\n",
       "    </tr>\n",
       "    <tr>\n",
       "      <th>Ambl</th>\n",
       "      <td>3.000</td>\n",
       "      <td>482500.000</td>\n",
       "      <td>18.400</td>\n",
       "      <td>3.000</td>\n",
       "      <td>2.000</td>\n",
       "      <td>2.000</td>\n",
       "      <td>301.000</td>\n",
       "      <td>153.000</td>\n",
       "      <td>2010.000</td>\n",
       "      <td>-37.843</td>\n",
       "      <td>144.731</td>\n",
       "      <td>10160.000</td>\n",
       "      <td>0.000</td>\n",
       "      <td>0.000</td>\n",
       "      <td>0.000</td>\n",
       "    </tr>\n",
       "    <tr>\n",
       "      <th>Lk</th>\n",
       "      <td>3.000</td>\n",
       "      <td>471100.000</td>\n",
       "      <td>27.200</td>\n",
       "      <td>3.000</td>\n",
       "      <td>1.000</td>\n",
       "      <td>1.000</td>\n",
       "      <td>nan</td>\n",
       "      <td>nan</td>\n",
       "      <td>nan</td>\n",
       "      <td>-37.805</td>\n",
       "      <td>144.994</td>\n",
       "      <td>5262.000</td>\n",
       "      <td>1.000</td>\n",
       "      <td>1.000</td>\n",
       "      <td>1.000</td>\n",
       "    </tr>\n",
       "    <tr>\n",
       "      <th>Entrance</th>\n",
       "      <td>3.000</td>\n",
       "      <td>450000.000</td>\n",
       "      <td>14.800</td>\n",
       "      <td>3.000</td>\n",
       "      <td>2.000</td>\n",
       "      <td>2.000</td>\n",
       "      <td>154.000</td>\n",
       "      <td>135.000</td>\n",
       "      <td>2007.000</td>\n",
       "      <td>-37.724</td>\n",
       "      <td>144.747</td>\n",
       "      <td>7719.000</td>\n",
       "      <td>0.000</td>\n",
       "      <td>0.000</td>\n",
       "      <td>0.000</td>\n",
       "    </tr>\n",
       "    <tr>\n",
       "      <th>Gve</th>\n",
       "      <td>1.000</td>\n",
       "      <td>425000.000</td>\n",
       "      <td>7.200</td>\n",
       "      <td>1.000</td>\n",
       "      <td>1.000</td>\n",
       "      <td>1.000</td>\n",
       "      <td>nan</td>\n",
       "      <td>nan</td>\n",
       "      <td>nan</td>\n",
       "      <td>-37.805</td>\n",
       "      <td>144.994</td>\n",
       "      <td>8989.000</td>\n",
       "      <td>1.000</td>\n",
       "      <td>1.000</td>\n",
       "      <td>1.000</td>\n",
       "    </tr>\n",
       "    <tr>\n",
       "      <th>Res</th>\n",
       "      <td>2.000</td>\n",
       "      <td>386000.000</td>\n",
       "      <td>6.500</td>\n",
       "      <td>2.000</td>\n",
       "      <td>1.000</td>\n",
       "      <td>2.000</td>\n",
       "      <td>3967.000</td>\n",
       "      <td>87.000</td>\n",
       "      <td>2007.000</td>\n",
       "      <td>-37.771</td>\n",
       "      <td>144.881</td>\n",
       "      <td>4918.000</td>\n",
       "      <td>0.000</td>\n",
       "      <td>0.000</td>\n",
       "      <td>0.000</td>\n",
       "    </tr>\n",
       "  </tbody>\n",
       "</table>\n",
       "</div>"
      ],
      "text/plain": [
       "          Rooms       Price  Distance  Bedroom2  Bathroom   Car  Landsize  \\\n",
       "St_Type                                                                     \n",
       "Victoria  3.000 2040000.000     7.500     3.000     1.000 2.000   783.000   \n",
       "Corso     3.000 1850000.000    21.500     3.000     2.000 2.000   617.000   \n",
       "Athol     4.000 1742000.000     9.000     4.000     2.000 2.000   780.000   \n",
       "Mall      4.000 1700000.000    14.200     4.000     1.000 1.000       nan   \n",
       "Woodland  4.000 1678000.000    16.700     4.000     2.000 2.000   943.000   \n",
       "Ridgeway  3.000 1640000.000     3.400     3.000     2.000 1.000   203.000   \n",
       "Cove      3.000 1570000.000     3.800     3.000     2.000 1.000   210.000   \n",
       "Grand     4.000 1510500.000     4.300     4.000     2.000 4.000   251.000   \n",
       "Grange    4.000 1365000.000    11.200     4.000     1.000 2.000   720.000   \n",
       "Hth       3.000 1329000.000    16.700     3.000     1.000 1.000       nan   \n",
       "Rdg       3.500 1270000.000    16.100     3.500     1.000 1.000   357.000   \n",
       "Wyn       3.000 1232500.000    14.300     3.000     1.000 1.000       nan   \n",
       "Greenway  3.000 1226000.000    21.300     3.000     1.000 1.000       nan   \n",
       "Righi     3.000 1190000.000    10.300     3.000     1.000 1.000   303.500   \n",
       "Crofts    2.000 1125000.000     2.600     2.000     1.000 0.000   103.000   \n",
       "Summit    4.000 1085000.000    19.900     4.000     2.000 2.000   798.000   \n",
       "East      2.500 1065000.000     3.800     2.500     2.000 0.500    92.000   \n",
       "Qd        3.000 1055500.000    13.800     3.000     1.000 1.000       nan   \n",
       "Strand    2.000 1055000.000     8.000     2.000     1.000 1.000    84.000   \n",
       "Spur      4.000 1032000.000    38.000     4.000     1.000 2.000       nan   \n",
       "Pass      5.000  997000.000    23.000     5.000     3.000 2.000       nan   \n",
       "Glade     3.000  960000.000    13.800     4.000     2.000 2.000   656.000   \n",
       "Outlook   4.000  952000.000    21.300     4.000     1.000 1.000       nan   \n",
       "Gr        3.000  920000.000    10.700     3.000     1.000 2.000   553.000   \n",
       "St        3.000  915000.000     8.400     3.000     1.000 1.000   384.000   \n",
       "Loop      4.000  880000.000    12.100     4.000     3.000 2.000   530.000   \n",
       "Dell      4.000  859000.000    23.000     4.000     2.000 3.000   660.000   \n",
       "Av        3.000  846000.000    12.000     3.000     1.000 1.000   582.000   \n",
       "Tce       3.000  845000.000    11.200     3.000     1.000 2.000   397.500   \n",
       "Prm       4.000  842490.000    27.000     4.000     1.000 1.000       nan   \n",
       "Parks     4.000  840000.000    18.000     4.000     3.000 3.000   619.000   \n",
       "Skyline   4.000  825000.000    31.700     4.000     2.000 2.000       nan   \n",
       "Vw        4.000  823500.000    20.100     4.000     1.000 1.000       nan   \n",
       "La        3.000  815000.000     8.000     3.000     2.000 1.000   254.000   \n",
       "Ri        3.000  815000.000    19.600     3.000     1.000 1.000       nan   \n",
       "Eyrie     4.000  810000.000    18.000     4.000     2.000 2.000   838.000   \n",
       "Rd        3.000  805000.000    10.500     3.000     1.000 1.000   513.500   \n",
       "Mw        3.000  789375.000     5.500     3.000     1.000 1.000   653.000   \n",
       "Hub       3.000  781500.000    18.000     3.000     2.000 2.000       nan   \n",
       "Crossway  3.000  780000.000    11.700     3.000     1.000 2.000   568.000   \n",
       "Pde       3.000  772500.000     9.400     3.000     1.000 1.000   478.000   \n",
       "Nk        5.000  771000.000    14.800     5.000     1.000 1.000       nan   \n",
       "Hwy       3.000  770000.000    16.000     3.000     1.000 1.000   424.000   \n",
       "Ct        3.000  770000.000    15.500     3.000     2.000 2.000   627.000   \n",
       "Cr        3.000  741000.000    14.000     3.000     1.000 1.000   597.000   \n",
       "Rt        4.000  740000.000    11.800     4.000     1.000 1.000       nan   \n",
       "Pl        3.000  735000.000    13.800     3.000     2.000 2.000   537.500   \n",
       "Grove     2.500  730750.000     6.700     2.500     1.000 1.000   103.000   \n",
       "Gwy       2.500  730000.000    12.250     2.500     1.000 1.000       nan   \n",
       "Dr        3.000  721000.000    16.300     3.000     2.000 2.000   573.500   \n",
       "Gra       4.000  720500.000    23.150     4.000     2.000 1.500   508.000   \n",
       "Cl        3.000  720000.000    17.200     3.000     2.000 2.000   591.000   \n",
       "Bvd       4.000  716000.000    15.300     3.000     2.000 2.000   528.000   \n",
       "Sq        3.000  715000.000     9.500     3.000     2.000 1.000   344.000   \n",
       "Mews      3.000  710000.000    13.500     3.000     1.000 4.000   990.000   \n",
       "Brk       2.000  706000.000    22.200     2.000     1.000 1.000       nan   \n",
       "Fairway   3.500  705000.500    12.250     3.500     1.500 1.500   467.000   \n",
       "Grn       4.000  695000.000    14.800     4.000     2.000 2.000   602.000   \n",
       "Wky       2.000  675000.000     4.000     2.000     1.000 1.000       nan   \n",
       "App       4.000  675000.000    14.800     4.000     1.000 1.000       nan   \n",
       "Wk        3.000  665000.000    10.400     3.000     1.000 1.000       nan   \n",
       "Cct       3.000  660750.000    17.900     3.000     2.000 2.000   400.000   \n",
       "Wy        3.000  658000.000    18.000     3.000     2.000 1.500   512.000   \n",
       "West      1.000  637000.000     3.500     1.000     1.000 1.000       nan   \n",
       "Al        3.000  633000.000    20.400     3.000     1.000 1.000       nan   \n",
       "Gdns      4.000  630000.000    14.700     4.000     2.000 2.000   448.000   \n",
       "Esp       2.000  626750.000     8.200     2.000     1.000 1.000   350.000   \n",
       "Bnd       3.000  625000.000    11.800     3.000     1.000 1.000       nan   \n",
       "Pky       3.000  603125.000    16.550     3.000     1.000 1.000       nan   \n",
       "Pt        3.000  591000.000    20.500     3.000     1.000 1.000       nan   \n",
       "Mears     3.000  584000.000    19.600     3.000     1.000 1.000   598.000   \n",
       "Crest     4.000  578000.000    16.500     4.000     2.000 2.000   335.000   \n",
       "Gln       3.000  571000.000    16.100     3.000     1.000 1.000       nan   \n",
       "Out       3.000  567000.000    19.600     3.000     1.000 1.000       nan   \n",
       "Lairidge  2.000  564000.000     4.200     2.000     1.000 1.000       nan   \n",
       "Gld       4.000  561000.000    14.700     4.000     2.000 2.000       nan   \n",
       "Lp        3.000  560000.000    20.600     3.000     1.000 1.000       nan   \n",
       "Crse      3.000  551500.000    17.900     3.000     1.000 1.000       nan   \n",
       "Qy        2.000  540000.000     1.200     2.000     2.000 1.000     0.000   \n",
       "Ch        3.500  537500.000    23.400     3.500     2.000 1.500       nan   \n",
       "Ps        3.000  530000.000    20.600     3.000     1.000 1.000       nan   \n",
       "Ambl      3.000  482500.000    18.400     3.000     2.000 2.000   301.000   \n",
       "Lk        3.000  471100.000    27.200     3.000     1.000 1.000       nan   \n",
       "Entrance  3.000  450000.000    14.800     3.000     2.000 2.000   154.000   \n",
       "Gve       1.000  425000.000     7.200     1.000     1.000 1.000       nan   \n",
       "Res       2.000  386000.000     6.500     2.000     1.000 2.000  3967.000   \n",
       "\n",
       "          BuildingArea  YearBuilt  Lattitude  Longtitude  Propertycount  \\\n",
       "St_Type                                                                   \n",
       "Victoria           nan        nan    -37.823     145.053       6482.000   \n",
       "Corso              nan        nan    -37.992     145.072       5087.000   \n",
       "Athol              nan        nan    -37.821     145.068       3265.000   \n",
       "Mall               nan        nan    -37.805     144.994      13366.000   \n",
       "Woodland           nan        nan    -37.903     145.182       7392.000   \n",
       "Ridgeway       166.000   1900.000    -37.794     144.926       5263.000   \n",
       "Cove           211.000   1999.000    -37.838     144.927       8648.000   \n",
       "Grand              nan        nan    -37.784     144.894       4918.000   \n",
       "Grange             nan        nan    -37.874     145.053       8801.000   \n",
       "Hth                nan        nan    -37.887     145.187      15321.000   \n",
       "Rdg             87.000   1960.000    -37.805     144.994       7178.500   \n",
       "Wyn                nan        nan    -37.805     144.994      10999.000   \n",
       "Greenway           nan        nan    -37.805     144.994       3794.000   \n",
       "Righi          148.000   1975.000    -37.805     144.994       1651.000   \n",
       "Crofts          74.000   1900.000    -37.820     144.991      14949.000   \n",
       "Summit             nan        nan    -37.794     145.219       3619.000   \n",
       "East           105.000   1910.000    -37.821     144.970       8648.000   \n",
       "Qd                 nan        nan    -37.805     144.994       5420.000   \n",
       "Strand         207.500   1992.500    -37.858     144.925       6380.000   \n",
       "Spur               nan        nan    -38.158     145.119       7566.000   \n",
       "Pass           380.000   1980.000    -37.809     145.265      11925.000   \n",
       "Glade          183.000   1990.000    -37.732     145.100       2698.000   \n",
       "Outlook            nan        nan    -37.834     145.248       3794.000   \n",
       "Gr             134.300   1970.000    -37.805     145.027       7113.000   \n",
       "St             120.000   1960.000    -37.805     144.994       6763.000   \n",
       "Loop           530.000        nan    -37.706     144.943       2606.000   \n",
       "Dell               nan        nan    -37.764     145.280       2985.000   \n",
       "Av             140.000   1975.000    -37.805     144.994       6871.000   \n",
       "Tce            151.000   1997.500    -37.793     144.943       7485.000   \n",
       "Prm                nan        nan    -37.805     144.994       3906.000   \n",
       "Parks          275.000   2011.000    -37.690     144.744       5556.000   \n",
       "Skyline        298.000   2005.000    -37.565     144.749      14092.000   \n",
       "Vw                 nan        nan    -37.805     144.994       9411.500   \n",
       "La             137.000   2000.000    -37.801     144.974       6380.000   \n",
       "Ri                 nan        nan    -37.805     144.994       6202.000   \n",
       "Eyrie              nan        nan    -37.696     145.158       6990.000   \n",
       "Rd             121.000   1970.000    -37.805     145.011       6543.000   \n",
       "Mw             181.000   2002.000    -37.805     144.994       7395.000   \n",
       "Hub                nan        nan    -37.702     144.753       5556.000   \n",
       "Crossway       113.000   1986.500    -37.746     144.861       5629.000   \n",
       "Pde            126.000   1965.000    -37.798     144.994       5997.500   \n",
       "Nk                 nan        nan    -37.805     144.994       6388.000   \n",
       "Hwy            122.500   1970.000    -37.850     145.025       5087.000   \n",
       "Ct             148.000   1980.000    -37.796     145.031       6202.000   \n",
       "Cr             150.000   1980.000    -37.805     144.994       6380.000   \n",
       "Rt                 nan        nan    -37.805     144.994       4480.000   \n",
       "Pl             156.000   1995.000    -37.800     144.994       7036.000   \n",
       "Grove          140.000   1984.000    -37.753     144.977      11204.000   \n",
       "Gwy                nan        nan    -37.775     144.924       5629.000   \n",
       "Dr             154.000   1988.000    -37.775     144.994       6202.000   \n",
       "Gra            230.000   2011.000    -37.613     145.038       5338.000   \n",
       "Cl             167.000   1990.000    -37.805     144.994       5556.000   \n",
       "Bvd            169.500   2001.000    -37.709     144.994       8400.000   \n",
       "Sq             192.000   1997.000    -37.805     144.974       6990.000   \n",
       "Mews               nan        nan    -37.793     144.807       6763.000   \n",
       "Brk                nan        nan    -37.805     144.994       3940.000   \n",
       "Fairway        136.500   1970.000    -37.713     145.030       1414.000   \n",
       "Grn            222.000   2007.000    -37.728     144.740       7719.000   \n",
       "Wky                nan        nan    -37.805     144.994       5533.000   \n",
       "App                nan        nan    -37.805     144.994       7719.000   \n",
       "Wk                 nan        nan    -37.805     144.994       5833.000   \n",
       "Cct            150.000   2008.000    -37.733     144.984       7396.500   \n",
       "Wy             163.000   2005.500    -37.805     144.994       5556.000   \n",
       "West               nan        nan    -37.805     144.994       8648.000   \n",
       "Al                 nan        nan    -37.805     144.994       4864.000   \n",
       "Gdns           149.450   2007.500    -37.764     144.981       5812.000   \n",
       "Esp             90.000   1975.000    -37.788     144.989       3941.000   \n",
       "Bnd                nan        nan    -37.805     144.994       4864.000   \n",
       "Pky                nan        nan    -37.805     144.994      12851.000   \n",
       "Pt                 nan        nan    -37.805     144.994       7969.000   \n",
       "Mears              nan        nan    -37.639     145.050      10926.000   \n",
       "Crest          137.000   2001.000    -37.673     144.889       1130.000   \n",
       "Gln                nan        nan    -37.805     144.994      10160.000   \n",
       "Out                nan        nan    -37.805     144.994      10926.000   \n",
       "Lairidge           nan        nan    -37.805     144.994       5263.000   \n",
       "Gld            225.000   2010.000    -37.791     144.758       2276.000   \n",
       "Lp                 nan        nan    -37.805     144.994      15510.000   \n",
       "Crse               nan        nan    -37.656     145.065      10529.000   \n",
       "Qy              93.000   1994.000    -37.822     144.964       8400.000   \n",
       "Ch             162.000   2010.000    -37.770     144.741       8094.000   \n",
       "Ps                 nan        nan    -37.805     144.994      15510.000   \n",
       "Ambl           153.000   2010.000    -37.843     144.731      10160.000   \n",
       "Lk                 nan        nan    -37.805     144.994       5262.000   \n",
       "Entrance       135.000   2007.000    -37.724     144.747       7719.000   \n",
       "Gve                nan        nan    -37.805     144.994       8989.000   \n",
       "Res             87.000   2007.000    -37.771     144.881       4918.000   \n",
       "\n",
       "          Bedroom2_Missing  Bathroom_Missing  Car_Missing  \n",
       "St_Type                                                    \n",
       "Victoria             0.000             0.000        0.000  \n",
       "Corso                0.000             0.000        0.000  \n",
       "Athol                0.000             0.000        0.000  \n",
       "Mall                 1.000             1.000        1.000  \n",
       "Woodland             0.000             0.000        0.000  \n",
       "Ridgeway             0.000             0.000        1.000  \n",
       "Cove                 0.000             0.000        0.000  \n",
       "Grand                0.000             0.000        0.000  \n",
       "Grange               0.000             0.000        0.000  \n",
       "Hth                  1.000             1.000        1.000  \n",
       "Rdg                  1.000             1.000        1.000  \n",
       "Wyn                  1.000             1.000        1.000  \n",
       "Greenway             1.000             1.000        1.000  \n",
       "Righi                0.000             0.000        0.000  \n",
       "Crofts               0.000             0.000        0.000  \n",
       "Summit               0.000             0.000        0.000  \n",
       "East                 0.500             0.500        0.500  \n",
       "Qd                   1.000             1.000        1.000  \n",
       "Strand               0.000             0.000        0.000  \n",
       "Spur                 0.000             0.000        0.000  \n",
       "Pass                 0.000             0.000        0.000  \n",
       "Glade                0.000             0.000        0.000  \n",
       "Outlook              0.000             0.000        0.000  \n",
       "Gr                   0.000             0.000        0.000  \n",
       "St                   0.000             0.000        0.000  \n",
       "Loop                 0.000             0.000        0.000  \n",
       "Dell                 0.000             0.000        0.000  \n",
       "Av                   1.000             1.000        1.000  \n",
       "Tce                  0.000             0.000        0.000  \n",
       "Prm                  1.000             1.000        1.000  \n",
       "Parks                0.000             0.000        0.000  \n",
       "Skyline              0.000             0.000        0.000  \n",
       "Vw                   1.000             1.000        1.000  \n",
       "La                   0.000             0.000        0.000  \n",
       "Ri                   1.000             1.000        1.000  \n",
       "Eyrie                0.000             0.000        0.000  \n",
       "Rd                   0.000             0.000        0.000  \n",
       "Mw                   1.000             1.000        1.000  \n",
       "Hub                  0.000             0.000        0.000  \n",
       "Crossway             0.000             0.000        0.000  \n",
       "Pde                  0.000             0.000        0.000  \n",
       "Nk                   1.000             1.000        1.000  \n",
       "Hwy                  0.000             0.000        0.000  \n",
       "Ct                   0.000             0.000        0.000  \n",
       "Cr                   0.000             0.000        0.000  \n",
       "Rt                   1.000             1.000        1.000  \n",
       "Pl                   0.000             0.000        0.000  \n",
       "Grove                0.000             0.000        0.000  \n",
       "Gwy                  1.000             1.000        1.000  \n",
       "Dr                   0.000             0.000        0.000  \n",
       "Gra                  0.000             0.000        0.000  \n",
       "Cl                   0.000             0.000        0.000  \n",
       "Bvd                  0.000             0.000        0.000  \n",
       "Sq                   0.000             0.000        0.000  \n",
       "Mews                 0.000             0.000        0.000  \n",
       "Brk                  1.000             1.000        1.000  \n",
       "Fairway              0.000             0.000        0.000  \n",
       "Grn                  0.000             0.000        0.000  \n",
       "Wky                  1.000             1.000        1.000  \n",
       "App                  1.000             1.000        1.000  \n",
       "Wk                   1.000             1.000        1.000  \n",
       "Cct                  0.000             0.000        0.000  \n",
       "Wy                   0.000             0.000        0.000  \n",
       "West                 1.000             1.000        1.000  \n",
       "Al                   1.000             1.000        1.000  \n",
       "Gdns                 0.000             0.000        0.000  \n",
       "Esp                  0.000             0.000        0.000  \n",
       "Bnd                  1.000             1.000        1.000  \n",
       "Pky                  1.000             1.000        1.000  \n",
       "Pt                   1.000             1.000        1.000  \n",
       "Mears                0.000             0.000        0.000  \n",
       "Crest                0.000             0.000        0.000  \n",
       "Gln                  1.000             1.000        1.000  \n",
       "Out                  1.000             1.000        1.000  \n",
       "Lairidge             1.000             1.000        1.000  \n",
       "Gld                  0.000             0.000        0.000  \n",
       "Lp                   1.000             1.000        1.000  \n",
       "Crse                 1.000             1.000        1.000  \n",
       "Qy                   0.000             0.000        0.000  \n",
       "Ch                   0.000             0.000        0.000  \n",
       "Ps                   1.000             1.000        1.000  \n",
       "Ambl                 0.000             0.000        0.000  \n",
       "Lk                   1.000             1.000        1.000  \n",
       "Entrance             0.000             0.000        0.000  \n",
       "Gve                  1.000             1.000        1.000  \n",
       "Res                  0.000             0.000        0.000  "
      ]
     },
     "execution_count": 60,
     "metadata": {},
     "output_type": "execute_result"
    }
   ],
   "source": [
    "df.groupby('St_Type').median().sort_values('Price', ascending=False)"
   ]
  },
  {
   "cell_type": "markdown",
   "metadata": {},
   "source": []
  },
  {
   "cell_type": "code",
   "execution_count": 61,
   "metadata": {
    "ExecuteTime": {
     "end_time": "2019-08-28T04:49:01.685099Z",
     "start_time": "2019-08-28T04:49:01.665890Z"
    }
   },
   "outputs": [
    {
     "name": "stdout",
     "output_type": "stream",
     "text": [
      "St          9958\n",
      "Rd          3598\n",
      "Av          1983\n",
      "Ct          1032\n",
      "Dr           789\n",
      "Cr           713\n",
      "Gr           395\n",
      "Pde          314\n",
      "Pl           304\n",
      "Wy           202\n",
      "Cl           197\n",
      "Bvd          117\n",
      "La            98\n",
      "Tce           79\n",
      "Cct           68\n",
      "Hwy           45\n",
      "Ri            33\n",
      "Wk            31\n",
      "Mw            24\n",
      "Sq            13\n",
      "Esp           12\n",
      "Vw             8\n",
      "Strand         7\n",
      "Grove          6\n",
      "Rdg            6\n",
      "Lp             5\n",
      "Prm            5\n",
      "Grn            5\n",
      "Gdns           5\n",
      "Fairway        4\n",
      "Ch             4\n",
      "Qd             4\n",
      "Gra            4\n",
      "Crest          3\n",
      "Righi          3\n",
      "Wky            3\n",
      "Gln            3\n",
      "Rt             3\n",
      "Ambl           3\n",
      "Grange         3\n",
      "Wyn            3\n",
      "Crossway       3\n",
      "Bnd            3\n",
      "Gwy            2\n",
      "Res            2\n",
      "Pky            2\n",
      "East           2\n",
      "Mall           1\n",
      "Ps             1\n",
      "Crofts         1\n",
      "Glade          1\n",
      "Dell           1\n",
      "Eyrie          1\n",
      "Al             1\n",
      "West           1\n",
      "Athol          1\n",
      "Skyline        1\n",
      "Ridgeway       1\n",
      "Corso          1\n",
      "Woodland       1\n",
      "Grand          1\n",
      "Hub            1\n",
      "Loop           1\n",
      "Entrance       1\n",
      "Gld            1\n",
      "Hth            1\n",
      "Cove           1\n",
      "Out            1\n",
      "Outlook        1\n",
      "App            1\n",
      "Crse           1\n",
      "Mews           1\n",
      "Mears          1\n",
      "Parks          1\n",
      "Brk            1\n",
      "Pt             1\n",
      "Pass           1\n",
      "Summit         1\n",
      "Qy             1\n",
      "Lairidge       1\n",
      "Greenway       1\n",
      "Gve            1\n",
      "Victoria       1\n",
      "Lk             1\n",
      "Nk             1\n",
      "Spur           1\n",
      "Name: St_Type, dtype: int64\n"
     ]
    }
   ],
   "source": [
    "print(df.St_Type.value_counts())"
   ]
  },
  {
   "cell_type": "code",
   "execution_count": 62,
   "metadata": {
    "ExecuteTime": {
     "end_time": "2019-08-28T04:49:01.701836Z",
     "start_time": "2019-08-28T04:49:01.691118Z"
    }
   },
   "outputs": [],
   "source": [
    "# Could potentially use an 'unsupervised' algorithm to group/cluster these Street Types based on the ave price"
   ]
  },
  {
   "cell_type": "code",
   "execution_count": 63,
   "metadata": {
    "ExecuteTime": {
     "end_time": "2019-08-28T04:49:01.744690Z",
     "start_time": "2019-08-28T04:49:01.707026Z"
    }
   },
   "outputs": [],
   "source": [
    "# Less than 3 occurrances of a st type and it can be called other. Flag sparse labels so they can be changed to 'Other'\n",
    "st_other = df.St_Type.value_counts() < 3\n",
    "st_other_list = st_other.astype(int)"
   ]
  },
  {
   "cell_type": "code",
   "execution_count": 64,
   "metadata": {
    "ExecuteTime": {
     "end_time": "2019-08-28T04:49:01.769477Z",
     "start_time": "2019-08-28T04:49:01.744690Z"
    }
   },
   "outputs": [],
   "source": [
    "# Copy the st_type column to a new col\n",
    "df['St_Type_Other_1'] = df.St_Type.copy()"
   ]
  },
  {
   "cell_type": "code",
   "execution_count": 65,
   "metadata": {
    "ExecuteTime": {
     "end_time": "2019-08-28T04:49:01.888581Z",
     "start_time": "2019-08-28T04:49:01.775214Z"
    }
   },
   "outputs": [],
   "source": [
    "# Bring in the binary list flagged as '1' for labels then converted to 'other'\n",
    "df.St_Type_Other_1.replace(st_other_list, inplace=True)\n",
    "df.St_Type_Other_1.replace(1, 'Other', inplace=True)"
   ]
  },
  {
   "cell_type": "code",
   "execution_count": 66,
   "metadata": {
    "ExecuteTime": {
     "end_time": "2019-08-28T04:49:01.901300Z",
     "start_time": "2019-08-28T04:49:01.891823Z"
    }
   },
   "outputs": [
    {
     "data": {
      "text/plain": [
       "array([0, 'Other'], dtype=object)"
      ]
     },
     "execution_count": 66,
     "metadata": {},
     "output_type": "execute_result"
    }
   ],
   "source": [
    "df.St_Type_Other_1.unique()"
   ]
  },
  {
   "cell_type": "code",
   "execution_count": 67,
   "metadata": {
    "ExecuteTime": {
     "end_time": "2019-08-28T04:50:28.074092Z",
     "start_time": "2019-08-28T04:49:01.903347Z"
    }
   },
   "outputs": [
    {
     "data": {
      "text/plain": [
       "St          9958\n",
       "Rd          3598\n",
       "Av          1983\n",
       "Ct          1032\n",
       "Dr           789\n",
       "Cr           713\n",
       "Gr           395\n",
       "Pde          314\n",
       "Pl           304\n",
       "Wy           202\n",
       "Cl           197\n",
       "Bvd          117\n",
       "La            98\n",
       "Tce           79\n",
       "Cct           68\n",
       "Other         47\n",
       "Hwy           45\n",
       "Ri            33\n",
       "Wk            31\n",
       "Mw            24\n",
       "Sq            13\n",
       "Esp           12\n",
       "Vw             8\n",
       "Strand         7\n",
       "Grove          6\n",
       "Rdg            6\n",
       "Lp             5\n",
       "Grn            5\n",
       "Prm            5\n",
       "Gdns           5\n",
       "Fairway        4\n",
       "Qd             4\n",
       "Ch             4\n",
       "Gra            4\n",
       "Crossway       3\n",
       "Wky            3\n",
       "Righi          3\n",
       "Ambl           3\n",
       "Gln            3\n",
       "Bnd            3\n",
       "Rt             3\n",
       "Crest          3\n",
       "Wyn            3\n",
       "Grange         3\n",
       "Name: St_Type_Other_1, dtype: int64"
      ]
     },
     "execution_count": 67,
     "metadata": {},
     "output_type": "execute_result"
    }
   ],
   "source": [
    "# Bring over the original labels for everything else\n",
    "df['St_Type_Other_1'].replace(0, df.St_Type, inplace=True)\n",
    "df.St_Type_Other_1.value_counts()"
   ]
  },
  {
   "cell_type": "code",
   "execution_count": 68,
   "metadata": {
    "ExecuteTime": {
     "end_time": "2019-08-28T04:50:28.341556Z",
     "start_time": "2019-08-28T04:50:28.078647Z"
    }
   },
   "outputs": [],
   "source": [
    "# Less than 10 occurrances of an Agent and it can be called other\n",
    "agent_other = df.SellerG.value_counts() < 10\n",
    "agent_other_list = agent_other.astype(int)\n",
    "\n",
    "df['Agent_Other'] = df.SellerG.copy()\n",
    "\n",
    "df.Agent_Other.replace(agent_other_list, inplace=True)\n",
    "\n",
    "df.Agent_Other.replace(1, 'Other', inplace=True)"
   ]
  },
  {
   "cell_type": "code",
   "execution_count": 69,
   "metadata": {
    "ExecuteTime": {
     "end_time": "2019-08-28T04:51:53.046758Z",
     "start_time": "2019-08-28T04:50:28.344195Z"
    }
   },
   "outputs": [
    {
     "data": {
      "text/plain": [
       "Nelson           2017\n",
       "Barry            1887\n",
       "Jellis           1677\n",
       "hockingstuart    1568\n",
       "Ray              1307\n",
       "Buxton           1079\n",
       "Marshall          621\n",
       "Biggin            529\n",
       "Other             507\n",
       "Brad              481\n",
       "Woodards          453\n",
       "Fletchers         412\n",
       "YPA               362\n",
       "McGrath           356\n",
       "Stockdale         325\n",
       "Jas               323\n",
       "Sweeney           315\n",
       "Greg              294\n",
       "Noel              272\n",
       "Harcourts         272\n",
       "Miles             270\n",
       "Gary              239\n",
       "RT                217\n",
       "HAR               212\n",
       "Hodges            211\n",
       "Raine             193\n",
       "Love              187\n",
       "RW                181\n",
       "O'Brien           154\n",
       "Williams          142\n",
       "Village           134\n",
       "Douglas           123\n",
       "C21               105\n",
       "Philip             99\n",
       "Purplebricks       97\n",
       "Eview              97\n",
       "Buckingham         94\n",
       "Chisholm           92\n",
       "Darren             84\n",
       "Rendina            84\n",
       "Kay                81\n",
       "Bells              74\n",
       "Moonee             74\n",
       "Collins            73\n",
       "Morrison           69\n",
       "LJ                 66\n",
       "Frank              64\n",
       "Thomson            59\n",
       "Alexkarbon         56\n",
       "Cayzer             55\n",
       "McDonald           50\n",
       "Barlow             49\n",
       "Considine          45\n",
       "Prof.              43\n",
       "Nick               40\n",
       "Peter              39\n",
       "Edward             39\n",
       "LITTLE             38\n",
       "MICM               38\n",
       "Burnham            37\n",
       "Walshe             33\n",
       "Jason              33\n",
       "Haughton           31\n",
       "Harrington         29\n",
       "Dingle             28\n",
       "Pagan              26\n",
       "Reliance           26\n",
       "FN                 25\n",
       "Iconek             25\n",
       "Millership         24\n",
       "Win                24\n",
       "Lindellas          23\n",
       "Beller             22\n",
       "iTRAK              22\n",
       "GL                 21\n",
       "Wilson             21\n",
       "J                  20\n",
       "iSell              20\n",
       "Caine              20\n",
       "Whiting            20\n",
       "S&L                19\n",
       "One                19\n",
       "Abercromby's       19\n",
       "William            19\n",
       "Carter             19\n",
       "Tim                19\n",
       "Charlton           18\n",
       "Gunn&Co            18\n",
       "Del                18\n",
       "Hunter             17\n",
       "Melbourne          16\n",
       "Pride              16\n",
       "Domain             15\n",
       "Obrien             15\n",
       "Rodney             15\n",
       "Bekdon             14\n",
       "Parkes             14\n",
       "Castran            14\n",
       "Paul               13\n",
       "Point              13\n",
       "Triwest            12\n",
       "Chambers           12\n",
       "Leeburn            12\n",
       "Nicholson          11\n",
       "Flannagan          11\n",
       "Max                11\n",
       "RE                 11\n",
       "Area               11\n",
       "Schroeder          10\n",
       "Le                 10\n",
       "Hoskins            10\n",
       "Morleys            10\n",
       "Trimson            10\n",
       "Compton            10\n",
       "The                10\n",
       "Name: Agent_Other, dtype: int64"
      ]
     },
     "execution_count": 69,
     "metadata": {},
     "output_type": "execute_result"
    }
   ],
   "source": [
    "df['Agent_Other'].replace(0, df.SellerG, inplace=True)\n",
    "df.Agent_Other.value_counts()"
   ]
  },
  {
   "cell_type": "code",
   "execution_count": 70,
   "metadata": {
    "ExecuteTime": {
     "end_time": "2019-08-28T04:51:53.054711Z",
     "start_time": "2019-08-28T04:51:53.049882Z"
    }
   },
   "outputs": [],
   "source": [
    "# ToDo: Label encode the large categorical features, create dummies where needed, drop irrelevant cols, save the abt"
   ]
  },
  {
   "cell_type": "code",
   "execution_count": 71,
   "metadata": {
    "ExecuteTime": {
     "end_time": "2019-08-28T04:51:53.073835Z",
     "start_time": "2019-08-28T04:51:53.056852Z"
    }
   },
   "outputs": [
    {
     "data": {
      "text/plain": [
       "Suburb                      object\n",
       "Address                     object\n",
       "Rooms                        int64\n",
       "Type                        object\n",
       "Price                      float64\n",
       "Method                      object\n",
       "SellerG                     object\n",
       "Date                datetime64[ns]\n",
       "Distance                   float64\n",
       "Postcode                    object\n",
       "Bedroom2                   float64\n",
       "Bathroom                   float64\n",
       "Car                        float64\n",
       "Landsize                   float64\n",
       "BuildingArea               float64\n",
       "YearBuilt                  float64\n",
       "CouncilArea                 object\n",
       "Lattitude                  float64\n",
       "Longtitude                 float64\n",
       "Regionname                  object\n",
       "Propertycount              float64\n",
       "Month                       object\n",
       "Season                      object\n",
       "Bedroom2_Missing             int32\n",
       "Bathroom_Missing             int32\n",
       "Car_Missing                  int32\n",
       "St_Type_1                   object\n",
       "St_Type_2                   object\n",
       "St_Type                     object\n",
       "St_Type_Other_1             object\n",
       "Agent_Other                 object\n",
       "dtype: object"
      ]
     },
     "execution_count": 71,
     "metadata": {},
     "output_type": "execute_result"
    }
   ],
   "source": [
    "df.dtypes"
   ]
  },
  {
   "cell_type": "code",
   "execution_count": 72,
   "metadata": {
    "ExecuteTime": {
     "end_time": "2019-08-28T04:51:53.078923Z",
     "start_time": "2019-08-28T04:51:53.073835Z"
    }
   },
   "outputs": [],
   "source": [
    "# Update our 'to drop' list\n",
    "cols_to_drop = cols_to_drop + ['St_Type', 'St_Type_1', 'St_Type_2', 'Address', 'SellerG', 'Landsize']"
   ]
  },
  {
   "cell_type": "code",
   "execution_count": 73,
   "metadata": {
    "ExecuteTime": {
     "end_time": "2019-08-28T04:51:53.119312Z",
     "start_time": "2019-08-28T04:51:53.080216Z"
    }
   },
   "outputs": [],
   "source": [
    "# Copy over the DF to avoid messing up the original\n",
    "df_clean = df.copy()"
   ]
  },
  {
   "cell_type": "code",
   "execution_count": 74,
   "metadata": {
    "ExecuteTime": {
     "end_time": "2019-08-28T04:51:53.136267Z",
     "start_time": "2019-08-28T04:51:53.123156Z"
    }
   },
   "outputs": [],
   "source": [
    "# Drop the flagged cols\n",
    "df_clean.drop(cols_to_drop, axis=1, inplace=True)"
   ]
  },
  {
   "cell_type": "code",
   "execution_count": 75,
   "metadata": {
    "ExecuteTime": {
     "end_time": "2019-08-28T04:51:53.189715Z",
     "start_time": "2019-08-28T04:51:53.139013Z"
    }
   },
   "outputs": [],
   "source": [
    "# Setup and fit Label Encoder\n",
    "le = LabelEncoder()\n",
    "df_clean['Suburb'] = le.fit_transform(df_clean.Suburb)\n",
    "df_clean['CouncilArea'] = le.fit_transform(df_clean.CouncilArea)\n",
    "df_clean['St_Type_Other_1'] = le.fit_transform(df_clean.St_Type_Other_1)\n",
    "df_clean['Agent_Other'] = le.fit_transform(df_clean.Agent_Other)\n",
    "\n",
    "# Setup and fit remaining features as dummies\n",
    "dummy_list = ['Regionname', 'Season', 'Type', 'Month']\n",
    "df_clean = pd.get_dummies(df_clean, columns=dummy_list)\n"
   ]
  },
  {
   "cell_type": "code",
   "execution_count": 76,
   "metadata": {
    "ExecuteTime": {
     "end_time": "2019-08-28T04:51:53.221857Z",
     "start_time": "2019-08-28T04:51:53.190715Z"
    }
   },
   "outputs": [
    {
     "data": {
      "text/plain": [
       "Suburb                                   0\n",
       "Rooms                                    0\n",
       "Price                                    0\n",
       "Distance                                 0\n",
       "Postcode                                 0\n",
       "Bedroom2                                 0\n",
       "Bathroom                                 0\n",
       "Car                                      0\n",
       "CouncilArea                              0\n",
       "Lattitude                                0\n",
       "Longtitude                               0\n",
       "Propertycount                            0\n",
       "Bedroom2_Missing                         0\n",
       "Bathroom_Missing                         0\n",
       "Car_Missing                              0\n",
       "St_Type_Other_1                          0\n",
       "Agent_Other                              0\n",
       "Regionname_Eastern Metropolitan          0\n",
       "Regionname_Northern Metropolitan         0\n",
       "Regionname_South-Eastern Metropolitan    0\n",
       "Regionname_Southern Metropolitan         0\n",
       "Regionname_Western Metropolitan          0\n",
       "Season_Autumn                            0\n",
       "Season_Spring                            0\n",
       "Season_Summer                            0\n",
       "Season_Winter                            0\n",
       "Type_h                                   0\n",
       "Type_t                                   0\n",
       "Type_u                                   0\n",
       "Month_1                                  0\n",
       "Month_10                                 0\n",
       "Month_11                                 0\n",
       "Month_12                                 0\n",
       "Month_2                                  0\n",
       "Month_3                                  0\n",
       "Month_4                                  0\n",
       "Month_5                                  0\n",
       "Month_6                                  0\n",
       "Month_7                                  0\n",
       "Month_8                                  0\n",
       "Month_9                                  0\n",
       "dtype: int64"
      ]
     },
     "execution_count": 76,
     "metadata": {},
     "output_type": "execute_result"
    }
   ],
   "source": [
    "df_clean.isnull().sum()"
   ]
  },
  {
   "cell_type": "code",
   "execution_count": 77,
   "metadata": {
    "ExecuteTime": {
     "end_time": "2019-08-28T04:51:54.758159Z",
     "start_time": "2019-08-28T04:51:53.221857Z"
    }
   },
   "outputs": [],
   "source": [
    "abt = df_clean\n",
    "abt.to_csv('Analytical_BaseTable.csv')"
   ]
  },
  {
   "cell_type": "markdown",
   "metadata": {},
   "source": [
    "## Algorithm Selection"
   ]
  },
  {
   "cell_type": "code",
   "execution_count": 78,
   "metadata": {
    "ExecuteTime": {
     "end_time": "2019-08-28T04:51:54.775505Z",
     "start_time": "2019-08-28T04:51:54.762102Z"
    }
   },
   "outputs": [],
   "source": [
    "# Set the X and y vars for linear regression and decision tree algorithms\n",
    "y = abt.Price\n",
    "X = abt.drop('Price', axis=1)"
   ]
  },
  {
   "cell_type": "markdown",
   "metadata": {},
   "source": [
    "## Model Training"
   ]
  },
  {
   "cell_type": "code",
   "execution_count": 79,
   "metadata": {
    "ExecuteTime": {
     "end_time": "2019-08-28T04:51:54.798747Z",
     "start_time": "2019-08-28T04:51:54.779317Z"
    }
   },
   "outputs": [],
   "source": [
    "# Split the dataset into 70% for training, 30% for testing\n",
    "X_train, X_test, y_train, y_test = train_test_split(X, y, test_size=0.3, random_state=123)"
   ]
  },
  {
   "cell_type": "code",
   "execution_count": 80,
   "metadata": {
    "ExecuteTime": {
     "end_time": "2019-08-28T04:51:54.871278Z",
     "start_time": "2019-08-28T04:51:54.799749Z"
    }
   },
   "outputs": [],
   "source": [
    "# Create a dictionary for each algorithm pipeline\n",
    "pipelines = {\n",
    "    'lasso' : make_pipeline(StandardScaler(), Lasso(random_state=123)),\n",
    "    'ridge' : make_pipeline(StandardScaler(), Ridge(random_state=123)),\n",
    "    'enet' : make_pipeline(StandardScaler(), ElasticNet(random_state=123)),\n",
    "    'rf' : make_pipeline(StandardScaler(), RandomForestRegressor(random_state=123)),\n",
    "    'gb' : make_pipeline(StandardScaler(), GradientBoostingRegressor(random_state=123))\n",
    "}"
   ]
  },
  {
   "cell_type": "code",
   "execution_count": 81,
   "metadata": {
    "ExecuteTime": {
     "end_time": "2019-08-28T04:51:54.904643Z",
     "start_time": "2019-08-28T04:51:54.890932Z"
    }
   },
   "outputs": [],
   "source": [
    "# Create a dictionary for the hyperparameters to try for each algorithm\n",
    "lasso_hyperparameters = {\n",
    "    'lasso__alpha' : [0.001, 0.005, 0.01, 0.05, 0.1, 0.5, 1, 5, 10]\n",
    "}\n",
    "ridge_hyperparameters = {\n",
    "    'ridge__alpha' : [0.001, 0.005, 0.01, 0.05, 0.1, 0.5, 1, 5, 10]\n",
    "}\n",
    "enet_hyperparameters = { \n",
    "    'elasticnet__alpha': [0.001, 0.005, 0.01, 0.05, 0.1, 0.5, 1, 5, 10],                        \n",
    "    'elasticnet__l1_ratio' : [0.1, 0.3, 0.5, 0.7, 0.9]  \n",
    "}\n",
    "rf_hyperparameters = {\n",
    "    'randomforestregressor__n_estimators' : [100, 200],\n",
    "    'randomforestregressor__max_features' : ['auto', 'sqrt', 0.33]\n",
    "}\n",
    "gb_hyperparameters = {\n",
    "    'gradientboostingregressor__n_estimators': [100, 200],\n",
    "    'gradientboostingregressor__learning_rate': [0.05, 0.1, 0.2],\n",
    "    'gradientboostingregressor__max_depth': [1, 3, 5]\n",
    "}"
   ]
  },
  {
   "cell_type": "code",
   "execution_count": 82,
   "metadata": {
    "ExecuteTime": {
     "end_time": "2019-08-28T04:51:54.929291Z",
     "start_time": "2019-08-28T04:51:54.913599Z"
    }
   },
   "outputs": [],
   "source": [
    "# Dictionary with the same keys as the pipelines dictionary\n",
    "hyperparameters = {\n",
    "    'rf' : rf_hyperparameters,\n",
    "    'gb' : gb_hyperparameters,\n",
    "    'lasso' : lasso_hyperparameters,\n",
    "    'ridge' : ridge_hyperparameters,\n",
    "    'enet' : enet_hyperparameters\n",
    "}"
   ]
  },
  {
   "cell_type": "code",
   "execution_count": 83,
   "metadata": {
    "ExecuteTime": {
     "end_time": "2019-08-28T04:51:55.011825Z",
     "start_time": "2019-08-28T04:51:54.932367Z"
    }
   },
   "outputs": [
    {
     "data": {
      "text/plain": [
       "StandardScaler(copy=True, with_mean=True, with_std=True)"
      ]
     },
     "execution_count": 83,
     "metadata": {},
     "output_type": "execute_result"
    }
   ],
   "source": [
    "# Set and fit Standard Scaler to the training dataset\n",
    "scaler = StandardScaler()\n",
    "scaler.fit(X_train)"
   ]
  },
  {
   "cell_type": "code",
   "execution_count": 84,
   "metadata": {
    "ExecuteTime": {
     "end_time": "2019-08-28T05:13:19.656206Z",
     "start_time": "2019-08-28T04:51:55.014087Z"
    }
   },
   "outputs": [
    {
     "name": "stderr",
     "output_type": "stream",
     "text": [
      "C:\\Users\\Blake\\Anaconda3\\lib\\site-packages\\sklearn\\linear_model\\coordinate_descent.py:475: ConvergenceWarning: Objective did not converge. You might want to increase the number of iterations. Duality gap: 6357246371580.375, tolerance: 278877033292.16833\n",
      "  positive)\n"
     ]
    },
    {
     "name": "stdout",
     "output_type": "stream",
     "text": [
      "lasso has been fitted.\n",
      "ridge has been fitted.\n"
     ]
    },
    {
     "name": "stderr",
     "output_type": "stream",
     "text": [
      "C:\\Users\\Blake\\Anaconda3\\lib\\site-packages\\sklearn\\linear_model\\coordinate_descent.py:475: ConvergenceWarning: Objective did not converge. You might want to increase the number of iterations. Duality gap: 546010704871150.56, tolerance: 278877033292.16833\n",
      "  positive)\n"
     ]
    },
    {
     "name": "stdout",
     "output_type": "stream",
     "text": [
      "enet has been fitted.\n",
      "rf has been fitted.\n",
      "gb has been fitted.\n"
     ]
    }
   ],
   "source": [
    "# Fit all models with GridSearchCV (takes a while)\n",
    "fitted_models = {}\n",
    "\n",
    "for name, pipeline in pipelines.items():\n",
    "    model = GridSearchCV(pipeline, hyperparameters[name], cv=10, n_jobs=-1)\n",
    "    \n",
    "    model.fit(X_train, y_train)\n",
    "    \n",
    "    fitted_models[name] = model\n",
    "    \n",
    "    print(name, 'has been fitted.')"
   ]
  },
  {
   "cell_type": "code",
   "execution_count": 85,
   "metadata": {
    "ExecuteTime": {
     "end_time": "2019-08-28T05:13:19.665647Z",
     "start_time": "2019-08-28T05:13:19.658361Z"
    }
   },
   "outputs": [
    {
     "name": "stdout",
     "output_type": "stream",
     "text": [
      "lasso 0.6063103922722569\n",
      "ridge 0.6063121794459418\n",
      "enet 0.6063160225389767\n",
      "rf 0.7707233445941144\n",
      "gb 0.7722584752872981\n"
     ]
    }
   ],
   "source": [
    "for name, model in fitted_models.items():\n",
    "    print(name, model.best_score_)"
   ]
  },
  {
   "cell_type": "code",
   "execution_count": 86,
   "metadata": {
    "ExecuteTime": {
     "end_time": "2019-08-28T05:13:20.502336Z",
     "start_time": "2019-08-28T05:13:19.667848Z"
    }
   },
   "outputs": [
    {
     "name": "stdout",
     "output_type": "stream",
     "text": [
      "lasso\n",
      "--------\n",
      "R^2: 0.6226078063706357\n",
      "MAE: 204754.57692834554\n",
      "\n",
      "ridge\n",
      "--------\n",
      "R^2: 0.6225968652127527\n",
      "MAE: 204748.42269383473\n",
      "\n",
      "enet\n",
      "--------\n",
      "R^2: 0.622596366624151\n",
      "MAE: 204717.82932152314\n",
      "\n",
      "rf\n",
      "--------\n",
      "R^2: 0.7823564293032723\n",
      "MAE: 142365.89675593268\n",
      "\n",
      "gb\n",
      "--------\n",
      "R^2: 0.7825642320702054\n",
      "MAE: 144614.87914374776\n",
      "\n"
     ]
    }
   ],
   "source": [
    "for name, model in fitted_models.items():\n",
    "    pred = model.predict(X_test)\n",
    "    print(name)\n",
    "    print('--------')\n",
    "    print('R^2:', r2_score(y_test, pred))\n",
    "    print('MAE:', mean_absolute_error(y_test, pred))\n",
    "    print()"
   ]
  },
  {
   "cell_type": "code",
   "execution_count": 87,
   "metadata": {
    "ExecuteTime": {
     "end_time": "2019-08-28T05:13:21.816438Z",
     "start_time": "2019-08-28T05:13:20.504976Z"
    }
   },
   "outputs": [
    {
     "data": {
      "image/png": "[encoded data removed]",
      "text/plain": [
       "<Figure size 432x288 with 1 Axes>"
      ]
     },
     "metadata": {
      "needs_background": "light"
     },
     "output_type": "display_data"
    }
   ],
   "source": [
    "# Plot predicted vs actual prices from the Random Forest Regressor\n",
    "rf_pred = fitted_models['rf'].predict(X_test)\n",
    "plt.scatter(rf_pred, y_test)\n",
    "plt.xlabel('predicted')\n",
    "plt.ylabel('actual')\n",
    "plt.show()"
   ]
  },
  {
   "cell_type": "code",
   "execution_count": 88,
   "metadata": {
    "ExecuteTime": {
     "end_time": "2019-08-28T05:13:22.445859Z",
     "start_time": "2019-08-28T05:13:21.820255Z"
    }
   },
   "outputs": [
    {
     "data": {
      "text/plain": [
       "15.628038079178285"
      ]
     },
     "execution_count": 88,
     "metadata": {},
     "output_type": "execute_result"
    }
   ],
   "source": [
    "# New DF with predictions against their actual values to find a percentage for accuracy in predictions.\n",
    "rf_predictions = pd.DataFrame([rf_pred, y_test]).transpose()\n",
    "\n",
    "rf_predictions['abs_error'] = np.abs(rf_predictions[0] - rf_predictions[1])\n",
    "rf_predictions['percentage_error'] = rf_predictions['abs_error'] / rf_predictions[1] * 100\n",
    "rf_predictions.percentage_error.mean()"
   ]
  },
  {
   "cell_type": "markdown",
   "metadata": {},
   "source": [
    "### Running Thoughts:\n",
    "* Seems quite robust for properties under $1.5 million.\n",
    "* How much closer will \"digging deeper\" take the model?\n",
    "* 15.5% error on the test predictions - not too bad, prefer to bring it under 10% though."
   ]
  },
  {
   "cell_type": "code",
   "execution_count": 89,
   "metadata": {
    "ExecuteTime": {
     "end_time": "2019-08-28T05:13:22.463481Z",
     "start_time": "2019-08-28T05:13:22.446857Z"
    }
   },
   "outputs": [
    {
     "data": {
      "text/plain": [
       "Pipeline(memory=None,\n",
       "         steps=[('standardscaler',\n",
       "                 StandardScaler(copy=True, with_mean=True, with_std=True)),\n",
       "                ('randomforestregressor',\n",
       "                 RandomForestRegressor(bootstrap=True, criterion='mse',\n",
       "                                       max_depth=None, max_features=0.33,\n",
       "                                       max_leaf_nodes=None,\n",
       "                                       min_impurity_decrease=0.0,\n",
       "                                       min_impurity_split=None,\n",
       "                                       min_samples_leaf=1, min_samples_split=2,\n",
       "                                       min_weight_fraction_leaf=0.0,\n",
       "                                       n_estimators=200, n_jobs=None,\n",
       "                                       oob_score=False, random_state=123,\n",
       "                                       verbose=0, warm_start=False))],\n",
       "         verbose=False)"
      ]
     },
     "execution_count": 89,
     "metadata": {},
     "output_type": "execute_result"
    }
   ],
   "source": [
    "# Display the hyperparameters of the best performing model\n",
    "fitted_models['rf'].best_estimator_"
   ]
  },
  {
   "cell_type": "markdown",
   "metadata": {},
   "source": [
    "## Insights & Analysis"
   ]
  },
  {
   "cell_type": "markdown",
   "metadata": {},
   "source": [
    "The primary objective of this project was to determine if we could build a relatively acurate prediction model for the housing market, based on just a handfull of inputs.\n",
    "\n",
    "In the end, we arrived at a model which would take just 5 inputs for a property listing, and return a price prediction which is (on average) within 16% of the actual sale price for the home.\n",
    "\n",
    "The five inputs are:\n",
    " 1) Property Address\n",
    " 2) Number of Bedrooms\n",
    " 3) Number of Bathrooms\n",
    " 4) Number of Car Spaces\n",
    " 5) Name of the Real Estate Agency\n",
    "\n",
    "Working with a free and publicly available dataset for the Melbourne (Australia) Housing Market - irrelevant, missing, ambiguous and questionable data or observations had to be dealt with before any meaningful insights could be extracted.\n",
    "\n",
    "During the Data Cleanup and Exploration phases of this project, it quickly became apparent that some properties in the dataset were not truly representative of the part of the Melbourne Housing market we really want to predict with a high level of accuracy.\n",
    "\n",
    "For example, someone looking to buy a $3 million home, or a house with seven bedrooms -  is not likely to be a first home buyer, and can probably afford the services of a buyer's agent.\n",
    "\n",
    "The end of the market that this model aims to help, is the bottom to middle range of the market. Those who are less educated and informed about the market. For this reason, a maximum was placed on a number of features so we could focus solely on the population in question.\n",
    "\n",
    "The sample population was restricted to:\n",
    "* Properties with a value below $2.5 million (Australian Dollars)\n",
    "* Properties only within the Melbourne Metropolitan Region\n",
    "* Properties with 6 or less Bedrooms\n",
    "* Properties with 6 or less Car spaces\n",
    "\n",
    "The resulting analytical base table was split into \"training\" and \"testing\" datasets to help validate the models we trained. Three feature selecting multiple linear regression models, and two decision tree models were trained (with various hyperparameter combinations and cross-validation) on 70% of the data, then scored for accuracy on the remaining 30%.\n",
    "\n",
    "The two decision tree models most accurately predicted house prices. The Random Forrest Regression model produced the lowest Mean Absolute Error in predictions, whereas the Gradient Boosting Regression model produced a slightly higher R^2 Score (meaning that it explains the variance between predicted and actual prices slightly better than the RF model).\n",
    "\n",
    "There are a number of ways that this model could be improved upon if required...\n",
    "\n",
    "1) Better match the sample population to the population of users. Conducting market research into the people who would utilise this model, will allow us to better predict the values of the properties they are looking to buy. For example, perhaps a model focussed on properties under $1.5 million would better suit the end-user. Or perhaps a model which only predicts appartment or townhouse prices is better for this end of the market.\n",
    "\n",
    "2) Purchase a better dataset. Since we are working with a free dataset, it comes with a few caveats. The information was scrapped, so may be inherently flawed. An excellent way to overcome this issue, would be to purchase/obtain proprietry data collected within the industry. In Melbourne, the relevant industry body is called \"The Real Estate Institute of Victoria\", and they would be a reputable source for accurate market information.\n",
    "\n",
    "3) Increase the number of inputs. The original model only requires the user to input five features. These five features were chosen because they are available on almost every single property listing (both newspaper and online). However, many property listings actually provide more information than this. Two inputs which come to mind are \"Lot/Land Size\", and/or \"Building Size/Floorspace\". Both of these features are available in our dataset, and would likely improve the models accuracy.\n",
    "\n",
    "4) Inputs obtained from images. This is not specific to improving the model, but moreso how a user might input the property details. For example, the user takes a photo of the product listing, or uses a phone camera to extract the required information from the listing (OCR). This would also require a machine learning algorithm to be trained to \"read\" what is required to input into our \"prediction\" model."
   ]
  }
 ],
 "metadata": {
  "kernelspec": {
   "display_name": "Python 3",
   "language": "python",
   "name": "python3"
  },
  "language_info": {
   "codemirror_mode": {
    "name": "ipython",
    "version": 3
   },
   "file_extension": ".py",
   "mimetype": "text/x-python",
   "name": "python",
   "nbconvert_exporter": "python",
   "pygments_lexer": "ipython3",
   "version": "3.7.3"
  },
  "varInspector": {
   "cols": {
    "lenName": 16,
    "lenType": 16,
    "lenVar": 40
   },
   "kernels_config": {
    "python": {
     "delete_cmd_postfix": "",
     "delete_cmd_prefix": "del ",
     "library": "var_list.py",
     "varRefreshCmd": "print(var_dic_list())"
    },
    "r": {
     "delete_cmd_postfix": ") ",
     "delete_cmd_prefix": "rm(",
     "library": "var_list.r",
     "varRefreshCmd": "cat(var_dic_list()) "
    }
   },
   "types_to_exclude": [
    "module",
    "function",
    "builtin_function_or_method",
    "instance",
    "_Feature"
   ],
   "window_display": false
  }
 },
 "nbformat": 4,
 "nbformat_minor": 2
}
